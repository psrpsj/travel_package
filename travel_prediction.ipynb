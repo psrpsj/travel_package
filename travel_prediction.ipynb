{
 "cells": [
  {
   "cell_type": "markdown",
   "metadata": {},
   "source": [
    "## 1. Data Import and Preparation"
   ]
  },
  {
   "cell_type": "code",
   "execution_count": 1,
   "metadata": {},
   "outputs": [],
   "source": [
    "import pandas as pd\n",
    "import numpy as np\n",
    "import seaborn as sb\n",
    "import matplotlib.pyplot as plt\n",
    "import warnings \n",
    "warnings.filterwarnings('ignore')"
   ]
  },
  {
   "cell_type": "code",
   "execution_count": 2,
   "metadata": {},
   "outputs": [],
   "source": [
    "test = pd.read_csv(\"./dataset/test.csv\")\n",
    "train = pd.read_csv(\"./dataset/train.csv\")"
   ]
  },
  {
   "cell_type": "markdown",
   "metadata": {},
   "source": [
    "## 2. Exploratory Data Analysis"
   ]
  },
  {
   "cell_type": "markdown",
   "metadata": {},
   "source": [
    "### 2.1 Columns\n",
    "각각의 Column은 아래의 정보를 가지고 있음.\n",
    "* id : 샘플 아이디\n",
    "* Age : 나이\n",
    "* TypeofContact : 고객의 제품 인지 방법 (회사의 홍보 or 스스로 검색)\n",
    "* CityTier : 주거 중인 도시의 등급. (인구, 시설, 생활 수준 기준) (1등급 > 2등급 > 3등급) \n",
    "* DurationOfPitch : 영업 사원이 고객에게 제공하는 프레젠테이션 기간\n",
    "* Occupation : 직업\n",
    "* Gender : 성별\n",
    "* NumberOfPersonVisiting : 고객과 함께 여행을 계획 중인 총 인원\n",
    "* NumberOfFollowups : 영업 사원의 프레젠테이션 후 이루어진 후속 조치 수\n",
    "* ProductPitched : 영업 사원이 제시한 상품\n",
    "* PreferredPropertyStar : 선호 호텔 숙박업소 등급\n",
    "* MaritalStatus : 결혼여부\n",
    "* NumberOfTrips : 평균 연간 여행 횟수\n",
    "* Passport : 여권 보유 여부 (0: 없음, 1: 있음)\n",
    "* PitchSatisfactionScore : 영업 사원의 프레젠테이션 만족도\n",
    "* OwnCar : 자동차 보유 여부 (0: 없음, 1: 있음)\n",
    "* NumberOfChildrenVisiting : 함께 여행을 계획 중인 5세 미만의 어린이 수\n",
    "* Designation : (직업의) 직급\n",
    "* MonthlyIncome : 월 급여\n",
    "* ProdTaken : 여행 패키지 신청 여부 (0: 신청 안 함, 1: 신청함)"
   ]
  },
  {
   "cell_type": "markdown",
   "metadata": {},
   "source": [
    "### 2.2 Data Basic Info"
   ]
  },
  {
   "cell_type": "markdown",
   "metadata": {},
   "source": [
    "Train Data는 20개의 column과 1955개의 데이터로 이루어져 있고, Test Data는 target label을 제외한 19개의 column과 2933개의 데이터로 이루어져 있음."
   ]
  },
  {
   "cell_type": "code",
   "execution_count": 3,
   "metadata": {},
   "outputs": [
    {
     "name": "stdout",
     "output_type": "stream",
     "text": [
      "(1955, 20)\n",
      "(2933, 19)\n"
     ]
    }
   ],
   "source": [
    "print(train.shape)\n",
    "print(test.shape)"
   ]
  },
  {
   "cell_type": "markdown",
   "metadata": {},
   "source": [
    "각각의 Row는 아래와 같은 데이터들을 포함되고 있음."
   ]
  },
  {
   "cell_type": "code",
   "execution_count": 4,
   "metadata": {},
   "outputs": [
    {
     "data": {
      "text/html": [
       "<div>\n",
       "<style scoped>\n",
       "    .dataframe tbody tr th:only-of-type {\n",
       "        vertical-align: middle;\n",
       "    }\n",
       "\n",
       "    .dataframe tbody tr th {\n",
       "        vertical-align: top;\n",
       "    }\n",
       "\n",
       "    .dataframe thead th {\n",
       "        text-align: right;\n",
       "    }\n",
       "</style>\n",
       "<table border=\"1\" class=\"dataframe\">\n",
       "  <thead>\n",
       "    <tr style=\"text-align: right;\">\n",
       "      <th></th>\n",
       "      <th>id</th>\n",
       "      <th>Age</th>\n",
       "      <th>TypeofContact</th>\n",
       "      <th>CityTier</th>\n",
       "      <th>DurationOfPitch</th>\n",
       "      <th>Occupation</th>\n",
       "      <th>Gender</th>\n",
       "      <th>NumberOfPersonVisiting</th>\n",
       "      <th>NumberOfFollowups</th>\n",
       "      <th>ProductPitched</th>\n",
       "      <th>PreferredPropertyStar</th>\n",
       "      <th>MaritalStatus</th>\n",
       "      <th>NumberOfTrips</th>\n",
       "      <th>Passport</th>\n",
       "      <th>PitchSatisfactionScore</th>\n",
       "      <th>OwnCar</th>\n",
       "      <th>NumberOfChildrenVisiting</th>\n",
       "      <th>Designation</th>\n",
       "      <th>MonthlyIncome</th>\n",
       "      <th>ProdTaken</th>\n",
       "    </tr>\n",
       "  </thead>\n",
       "  <tbody>\n",
       "    <tr>\n",
       "      <th>0</th>\n",
       "      <td>1</td>\n",
       "      <td>28.0</td>\n",
       "      <td>Company Invited</td>\n",
       "      <td>1</td>\n",
       "      <td>10.0</td>\n",
       "      <td>Small Business</td>\n",
       "      <td>Male</td>\n",
       "      <td>3</td>\n",
       "      <td>4.0</td>\n",
       "      <td>Basic</td>\n",
       "      <td>3.0</td>\n",
       "      <td>Married</td>\n",
       "      <td>3.0</td>\n",
       "      <td>0</td>\n",
       "      <td>1</td>\n",
       "      <td>0</td>\n",
       "      <td>1.0</td>\n",
       "      <td>Executive</td>\n",
       "      <td>20384.0</td>\n",
       "      <td>0</td>\n",
       "    </tr>\n",
       "    <tr>\n",
       "      <th>1</th>\n",
       "      <td>2</td>\n",
       "      <td>34.0</td>\n",
       "      <td>Self Enquiry</td>\n",
       "      <td>3</td>\n",
       "      <td>NaN</td>\n",
       "      <td>Small Business</td>\n",
       "      <td>Female</td>\n",
       "      <td>2</td>\n",
       "      <td>4.0</td>\n",
       "      <td>Deluxe</td>\n",
       "      <td>4.0</td>\n",
       "      <td>Single</td>\n",
       "      <td>1.0</td>\n",
       "      <td>1</td>\n",
       "      <td>5</td>\n",
       "      <td>1</td>\n",
       "      <td>0.0</td>\n",
       "      <td>Manager</td>\n",
       "      <td>19599.0</td>\n",
       "      <td>1</td>\n",
       "    </tr>\n",
       "    <tr>\n",
       "      <th>2</th>\n",
       "      <td>3</td>\n",
       "      <td>45.0</td>\n",
       "      <td>Company Invited</td>\n",
       "      <td>1</td>\n",
       "      <td>NaN</td>\n",
       "      <td>Salaried</td>\n",
       "      <td>Male</td>\n",
       "      <td>2</td>\n",
       "      <td>3.0</td>\n",
       "      <td>Deluxe</td>\n",
       "      <td>4.0</td>\n",
       "      <td>Married</td>\n",
       "      <td>2.0</td>\n",
       "      <td>0</td>\n",
       "      <td>4</td>\n",
       "      <td>1</td>\n",
       "      <td>0.0</td>\n",
       "      <td>Manager</td>\n",
       "      <td>NaN</td>\n",
       "      <td>0</td>\n",
       "    </tr>\n",
       "    <tr>\n",
       "      <th>3</th>\n",
       "      <td>4</td>\n",
       "      <td>29.0</td>\n",
       "      <td>Company Invited</td>\n",
       "      <td>1</td>\n",
       "      <td>7.0</td>\n",
       "      <td>Small Business</td>\n",
       "      <td>Male</td>\n",
       "      <td>3</td>\n",
       "      <td>5.0</td>\n",
       "      <td>Basic</td>\n",
       "      <td>4.0</td>\n",
       "      <td>Married</td>\n",
       "      <td>3.0</td>\n",
       "      <td>0</td>\n",
       "      <td>4</td>\n",
       "      <td>0</td>\n",
       "      <td>1.0</td>\n",
       "      <td>Executive</td>\n",
       "      <td>21274.0</td>\n",
       "      <td>1</td>\n",
       "    </tr>\n",
       "    <tr>\n",
       "      <th>4</th>\n",
       "      <td>5</td>\n",
       "      <td>42.0</td>\n",
       "      <td>Self Enquiry</td>\n",
       "      <td>3</td>\n",
       "      <td>6.0</td>\n",
       "      <td>Salaried</td>\n",
       "      <td>Male</td>\n",
       "      <td>2</td>\n",
       "      <td>3.0</td>\n",
       "      <td>Deluxe</td>\n",
       "      <td>3.0</td>\n",
       "      <td>Divorced</td>\n",
       "      <td>2.0</td>\n",
       "      <td>0</td>\n",
       "      <td>3</td>\n",
       "      <td>1</td>\n",
       "      <td>0.0</td>\n",
       "      <td>Manager</td>\n",
       "      <td>19907.0</td>\n",
       "      <td>0</td>\n",
       "    </tr>\n",
       "  </tbody>\n",
       "</table>\n",
       "</div>"
      ],
      "text/plain": [
       "   id   Age    TypeofContact  CityTier  DurationOfPitch      Occupation  \\\n",
       "0   1  28.0  Company Invited         1             10.0  Small Business   \n",
       "1   2  34.0     Self Enquiry         3              NaN  Small Business   \n",
       "2   3  45.0  Company Invited         1              NaN        Salaried   \n",
       "3   4  29.0  Company Invited         1              7.0  Small Business   \n",
       "4   5  42.0     Self Enquiry         3              6.0        Salaried   \n",
       "\n",
       "   Gender  NumberOfPersonVisiting  NumberOfFollowups ProductPitched  \\\n",
       "0    Male                       3                4.0          Basic   \n",
       "1  Female                       2                4.0         Deluxe   \n",
       "2    Male                       2                3.0         Deluxe   \n",
       "3    Male                       3                5.0          Basic   \n",
       "4    Male                       2                3.0         Deluxe   \n",
       "\n",
       "   PreferredPropertyStar MaritalStatus  NumberOfTrips  Passport  \\\n",
       "0                    3.0       Married            3.0         0   \n",
       "1                    4.0        Single            1.0         1   \n",
       "2                    4.0       Married            2.0         0   \n",
       "3                    4.0       Married            3.0         0   \n",
       "4                    3.0      Divorced            2.0         0   \n",
       "\n",
       "   PitchSatisfactionScore  OwnCar  NumberOfChildrenVisiting Designation  \\\n",
       "0                       1       0                       1.0   Executive   \n",
       "1                       5       1                       0.0     Manager   \n",
       "2                       4       1                       0.0     Manager   \n",
       "3                       4       0                       1.0   Executive   \n",
       "4                       3       1                       0.0     Manager   \n",
       "\n",
       "   MonthlyIncome  ProdTaken  \n",
       "0        20384.0          0  \n",
       "1        19599.0          1  \n",
       "2            NaN          0  \n",
       "3        21274.0          1  \n",
       "4        19907.0          0  "
      ]
     },
     "execution_count": 4,
     "metadata": {},
     "output_type": "execute_result"
    }
   ],
   "source": [
    "train.head()"
   ]
  },
  {
   "cell_type": "markdown",
   "metadata": {},
   "source": [
    "Train data와 Test data의 결측치는 아래와 같음."
   ]
  },
  {
   "cell_type": "code",
   "execution_count": 5,
   "metadata": {},
   "outputs": [
    {
     "data": {
      "text/plain": [
       "id                            0\n",
       "Age                          94\n",
       "TypeofContact                10\n",
       "CityTier                      0\n",
       "DurationOfPitch             102\n",
       "Occupation                    0\n",
       "Gender                        0\n",
       "NumberOfPersonVisiting        0\n",
       "NumberOfFollowups            13\n",
       "ProductPitched                0\n",
       "PreferredPropertyStar        10\n",
       "MaritalStatus                 0\n",
       "NumberOfTrips                57\n",
       "Passport                      0\n",
       "PitchSatisfactionScore        0\n",
       "OwnCar                        0\n",
       "NumberOfChildrenVisiting     27\n",
       "Designation                   0\n",
       "MonthlyIncome               100\n",
       "ProdTaken                     0\n",
       "dtype: int64"
      ]
     },
     "execution_count": 5,
     "metadata": {},
     "output_type": "execute_result"
    }
   ],
   "source": [
    "train.isnull().sum()"
   ]
  },
  {
   "cell_type": "code",
   "execution_count": 6,
   "metadata": {},
   "outputs": [
    {
     "data": {
      "text/plain": [
       "id                            0\n",
       "Age                         132\n",
       "TypeofContact                15\n",
       "CityTier                      0\n",
       "DurationOfPitch             149\n",
       "Occupation                    0\n",
       "Gender                        0\n",
       "NumberOfPersonVisiting        0\n",
       "NumberOfFollowups            32\n",
       "ProductPitched                0\n",
       "PreferredPropertyStar        16\n",
       "MaritalStatus                 0\n",
       "NumberOfTrips                83\n",
       "Passport                      0\n",
       "PitchSatisfactionScore        0\n",
       "OwnCar                        0\n",
       "NumberOfChildrenVisiting     39\n",
       "Designation                   0\n",
       "MonthlyIncome               133\n",
       "dtype: int64"
      ]
     },
     "execution_count": 6,
     "metadata": {},
     "output_type": "execute_result"
    }
   ],
   "source": [
    "test.isnull().sum()"
   ]
  },
  {
   "cell_type": "markdown",
   "metadata": {},
   "source": [
    "결측치가 발생한 column은 Age, TypeofContact, CityTier, DurationOfPitch, NumberOfFollowups, PreferredPropertyStar, NumberOfTrips, NumberOfChildrenVisiting, MonthlyIncome임."
   ]
  },
  {
   "cell_type": "markdown",
   "metadata": {},
   "source": [
    "### 2.3 Data Analyzation"
   ]
  },
  {
   "cell_type": "markdown",
   "metadata": {},
   "source": [
    "각 Column의 correlation은 아래와 같음. "
   ]
  },
  {
   "cell_type": "code",
   "execution_count": 7,
   "metadata": {},
   "outputs": [
    {
     "data": {
      "text/plain": [
       "<AxesSubplot:>"
      ]
     },
     "execution_count": 7,
     "metadata": {},
     "output_type": "execute_result"
    },
    {
     "data": {
      "image/png": "[encoded data removed]",
      "text/plain": [
       "<Figure size 1080x1080 with 2 Axes>"
      ]
     },
     "metadata": {
      "needs_background": "light"
     },
     "output_type": "display_data"
    }
   ],
   "source": [
    "plt.figure(figsize=(15,15))\n",
    "sb.heatmap(data=train.corr(), annot=True, fmt='.2f', linewidths=.5, cmap='Blues')"
   ]
  },
  {
   "cell_type": "markdown",
   "metadata": {},
   "source": [
    "Correlation map에서 가장 높은 correlation을 보여주는 것은 NumberOfPersonVisiting-NumverOfChildrenVisiting과 Age-MonthlyIncome NumberOfFollowups-NumberOfPersonVisiting 관계임."
   ]
  },
  {
   "cell_type": "markdown",
   "metadata": {},
   "source": [
    "* Age-MonthlyIncome 관계\n",
    "  - Age가 증가할수록 MonthlyIncome 또한 증가하는 관계를 보임."
   ]
  },
  {
   "cell_type": "code",
   "execution_count": 8,
   "metadata": {},
   "outputs": [
    {
     "data": {
      "text/plain": [
       "<AxesSubplot:xlabel='Age', ylabel='MonthlyIncome'>"
      ]
     },
     "execution_count": 8,
     "metadata": {},
     "output_type": "execute_result"
    },
    {
     "data": {
      "image/png": "[encoded data removed]",
      "text/plain": [
       "<Figure size 432x288 with 1 Axes>"
      ]
     },
     "metadata": {
      "needs_background": "light"
     },
     "output_type": "display_data"
    }
   ],
   "source": [
    "sb.lineplot(x=\"Age\", y=\"MonthlyIncome\", ci=None, data=train)"
   ]
  },
  {
   "cell_type": "markdown",
   "metadata": {},
   "source": [
    "* NumberOfPersonVisiting-NumberOfChildrenVisiting 관계\n",
    "  - NumberOfPersonVisiting이 증가할수록 NumberOfChildrenVisiting 또한 증가함."
   ]
  },
  {
   "cell_type": "code",
   "execution_count": 9,
   "metadata": {},
   "outputs": [
    {
     "data": {
      "text/plain": [
       "<AxesSubplot:xlabel='NumberOfPersonVisiting', ylabel='NumberOfChildrenVisiting'>"
      ]
     },
     "execution_count": 9,
     "metadata": {},
     "output_type": "execute_result"
    },
    {
     "data": {
      "image/png": "[encoded data removed]",
      "text/plain": [
       "<Figure size 432x288 with 1 Axes>"
      ]
     },
     "metadata": {
      "needs_background": "light"
     },
     "output_type": "display_data"
    }
   ],
   "source": [
    "sb.barplot(x=\"NumberOfPersonVisiting\", y=\"NumberOfChildrenVisiting\", ci=None, data=train)"
   ]
  },
  {
   "cell_type": "markdown",
   "metadata": {},
   "source": [
    "* NumberOfPersonVisiting-NumberOfFollowups 관계\n",
    "  - Correlation이 높게 나왔지만, 크게 특징을 잡을 수 없음."
   ]
  },
  {
   "cell_type": "code",
   "execution_count": 10,
   "metadata": {},
   "outputs": [
    {
     "data": {
      "text/plain": [
       "<AxesSubplot:xlabel='NumberOfPersonVisiting', ylabel='NumberOfFollowups'>"
      ]
     },
     "execution_count": 10,
     "metadata": {},
     "output_type": "execute_result"
    },
    {
     "data": {
      "image/png": "[encoded data removed]",
      "text/plain": [
       "<Figure size 432x288 with 1 Axes>"
      ]
     },
     "metadata": {
      "needs_background": "light"
     },
     "output_type": "display_data"
    }
   ],
   "source": [
    "sb.barplot(x=\"NumberOfPersonVisiting\", y=\"NumberOfFollowups\", ci=None, data=train)"
   ]
  },
  {
   "cell_type": "markdown",
   "metadata": {},
   "source": [
    "NumberOFFollowups의 최빈값과 평균값은 아래와 같음."
   ]
  },
  {
   "cell_type": "code",
   "execution_count": 11,
   "metadata": {},
   "outputs": [
    {
     "name": "stdout",
     "output_type": "stream",
     "text": [
      "NumberOfFollowups 평균값은 3.718331616889804\n",
      "최빈 NumberOfFollowups 값은 4.0\n"
     ]
    }
   ],
   "source": [
    "print(f\"NumberOfFollowups 평균값은 \"  + str(train[\"NumberOfFollowups\"].mean()))\n",
    "print(f\"최빈 NumberOfFollowups 값은 \" + str(train[\"NumberOfFollowups\"].mode()[0]))"
   ]
  },
  {
   "cell_type": "markdown",
   "metadata": {},
   "source": [
    "TypeofContact의 분포는 아래와 같음."
   ]
  },
  {
   "cell_type": "code",
   "execution_count": 12,
   "metadata": {},
   "outputs": [
    {
     "data": {
      "text/plain": [
       "Self Enquiry       1379\n",
       "Company Invited     566\n",
       "Name: TypeofContact, dtype: int64"
      ]
     },
     "execution_count": 12,
     "metadata": {},
     "output_type": "execute_result"
    }
   ],
   "source": [
    "train[\"TypeofContact\"].value_counts()"
   ]
  },
  {
   "cell_type": "markdown",
   "metadata": {},
   "source": [
    "PreferredPropertyStar의 분포는 아래와 같음."
   ]
  },
  {
   "cell_type": "code",
   "execution_count": 13,
   "metadata": {},
   "outputs": [
    {
     "data": {
      "text/plain": [
       "3.0    1212\n",
       "5.0     373\n",
       "4.0     360\n",
       "Name: PreferredPropertyStar, dtype: int64"
      ]
     },
     "execution_count": 13,
     "metadata": {},
     "output_type": "execute_result"
    }
   ],
   "source": [
    "train[\"PreferredPropertyStar\"].value_counts()"
   ]
  },
  {
   "cell_type": "markdown",
   "metadata": {},
   "source": [
    "## 3. Data Processing"
   ]
  },
  {
   "cell_type": "markdown",
   "metadata": {},
   "source": [
    "### 3.1 Fill NaN Value"
   ]
  },
  {
   "cell_type": "markdown",
   "metadata": {},
   "source": [
    "앞선 EDA과정에서 발견된 insight를 바탕으로 결측치를 제거함."
   ]
  },
  {
   "cell_type": "markdown",
   "metadata": {},
   "source": [
    "* Age, MonthlyIncome의 경우 각 연령별(20대 미만, 20대, 30대, 40대, 50대, 60대이상)의 평균치와 가장 가까운 연령대, 금액대로 결측치를 채움"
   ]
  },
  {
   "cell_type": "code",
   "execution_count": 14,
   "metadata": {},
   "outputs": [],
   "source": [
    "# 연령별 금액 평균치를 구함 - Age, MonthlyIncome 둘다 결측치가 아닌 경우만\n",
    "income_avg = [[],[],[],[],[],[]]\n",
    "for idx in range(len(train)):\n",
    "    if not np.isnan(train[\"Age\"][idx]) and not np.isnan(train[\"MonthlyIncome\"][idx]):\n",
    "        age_index = int(train[\"Age\"][idx] // 10)\n",
    "        if age_index < 2:\n",
    "            age_index = 1\n",
    "        elif age_index > 6:\n",
    "            age_index = 6\n",
    "        income_avg[age_index-1].append(train[\"MonthlyIncome\"][idx])\n",
    "result_income_avg = []\n",
    "for i in income_avg:\n",
    "    result_income_avg.append(np.mean(i))\n",
    "\n",
    "# 구해진 평균값에 맞추어 결측치를 채움 - Age, MonthlyIncome 둘 중 하나만 결측치인 경우, 둘다 결측치인경우엔 따로 index 저장\n",
    "age_list = [15,25,35,45,55,65]\n",
    "train_nan = []\n",
    "for idx in range(len(train)):\n",
    "    if np.isnan(train[\"Age\"][idx]) and np.isnan(train[\"Age\"][idx]):\n",
    "        train_nan.append(idx)\n",
    "    elif np.isnan(train[\"Age\"][idx]):\n",
    "        min_idx = -1\n",
    "        min_num = 1000000\n",
    "        for i in range(len(result_income_avg)):\n",
    "            diff = abs(result_income_avg[i] - train[\"MonthlyIncome\"][idx])\n",
    "            if diff < min_num:\n",
    "                min_num = diff\n",
    "                min_idx = i\n",
    "        train[\"Age\"][idx] = age_list[min_idx]\n",
    "    elif np.isnan(train[\"MonthlyIncome\"][idx]):\n",
    "        age_idx = int(train[\"Age\"][idx] // 10)\n",
    "        if age_idx == 0:\n",
    "            age_idx = 1\n",
    "        elif age_idx > 6:\n",
    "            age_idx = 6\n",
    "        train[\"MonthlyIncome\"][idx] = result_income_avg[age_idx-1]\n",
    "\n",
    "# Test data 또한 동일하게 결측치를 채운다.\n",
    "test_nan = []\n",
    "for t_idx in range(len(test)):\n",
    "    if np.isnan(test[\"Age\"][t_idx]) and np.isnan(test[\"MonthlyIncome\"][t_idx]):\n",
    "        test_nan.append(t_idx)\n",
    "    elif np.isnan(test[\"Age\"][t_idx]):\n",
    "        min_idx = -1\n",
    "        min_num = 1000000\n",
    "        for j in range(len(result_income_avg)):\n",
    "            diff = abs(result_income_avg[j] - test[\"MonthlyIncome\"][t_idx])\n",
    "            if diff < min_num:\n",
    "                min_num = diff\n",
    "                min_idx = j\n",
    "        test[\"Age\"][t_idx] = age_list[min_idx]\n",
    "    elif np.isnan(test[\"MonthlyIncome\"][t_idx]):\n",
    "        age_idx = int(test[\"Age\"][t_idx] // 10)\n",
    "        if age_idx == 0:\n",
    "            age_idx = 1\n",
    "        elif age_idx > 6:\n",
    "            age_idx = 6\n",
    "        test[\"MonthlyIncome\"][t_idx] = result_income_avg[age_idx-1]\n",
    "\n",
    "# Train, Test의 결측치 row들을 제거해준다.\n",
    "train.drop(train_nan, axis=0, inplace=True)\n",
    "test.drop(test_nan, axis=0, inplace=True)"
   ]
  },
  {
   "cell_type": "markdown",
   "metadata": {},
   "source": [
    "* TypeOfContact의 경우 최빈값을 결측치에 삽입한다."
   ]
  },
  {
   "cell_type": "code",
   "execution_count": 15,
   "metadata": {},
   "outputs": [],
   "source": [
    "train[\"TypeofContact\"].fillna(train[\"TypeofContact\"].mode()[0], inplace=True)\n",
    "test[\"TypeofContact\"].fillna(train[\"TypeofContact\"].mode()[0], inplace=True)"
   ]
  },
  {
   "cell_type": "markdown",
   "metadata": {},
   "source": [
    "* DurationOfPitch의 경우는 평균값을 삽입한다."
   ]
  },
  {
   "cell_type": "code",
   "execution_count": 16,
   "metadata": {},
   "outputs": [],
   "source": [
    "train[\"DurationOfPitch\"].fillna(train[\"DurationOfPitch\"].mean(), inplace=True)\n",
    "test[\"DurationOfPitch\"].fillna(train[\"DurationOfPitch\"].mean(), inplace=True)"
   ]
  },
  {
   "cell_type": "markdown",
   "metadata": {},
   "source": [
    "* NumberOfFollowups의 경우 또한 평균값과 가장 많이나온 값인 4를 삽입한다."
   ]
  },
  {
   "cell_type": "code",
   "execution_count": 17,
   "metadata": {},
   "outputs": [],
   "source": [
    "train[\"NumberOfFollowups\"].fillna(4, inplace=True)\n",
    "test[\"NumberOfFollowups\"].fillna(4, inplace=True)"
   ]
  },
  {
   "cell_type": "markdown",
   "metadata": {},
   "source": [
    "* PreferredPropertyStar의 경우 최빈값을 삽입한다."
   ]
  },
  {
   "cell_type": "code",
   "execution_count": 18,
   "metadata": {},
   "outputs": [],
   "source": [
    "train[\"PreferredPropertyStar\"].fillna(train[\"PreferredPropertyStar\"].mode()[0], inplace=True)\n",
    "test[\"PreferredPropertyStar\"].fillna(train[\"PreferredPropertyStar\"].mode()[0], inplace=True)"
   ]
  },
  {
   "cell_type": "markdown",
   "metadata": {},
   "source": [
    "* NumberOfTrips의 경우 평균값을 삽입한다."
   ]
  },
  {
   "cell_type": "code",
   "execution_count": 19,
   "metadata": {},
   "outputs": [],
   "source": [
    "train[\"NumberOfTrips\"].fillna(train[\"NumberOfTrips\"].mean().astype(\"int64\"), inplace=True)\n",
    "test[\"NumberOfTrips\"].fillna(train[\"NumberOfTrips\"].mean().astype(\"int64\"), inplace=True)"
   ]
  },
  {
   "cell_type": "markdown",
   "metadata": {},
   "source": [
    "* NumberOfChildrenVisiting의 경우는 각 NumberofPersonVisiting에 맞는 평균치를 삽입한다."
   ]
  },
  {
   "cell_type": "code",
   "execution_count": 20,
   "metadata": {},
   "outputs": [],
   "source": [
    "train[\"NumberOfChildrenVisiting\"].fillna(train.groupby(\"NumberOfPersonVisiting\")[\"NumberOfChildrenVisiting\"].transform(\"mean\").astype(\"int64\"), inplace=True)\n",
    "test_new = []\n",
    "for idx in range(len(test)):\n",
    "    if np.isnan(test.iloc[idx][\"NumberOfChildrenVisiting\"]):\n",
    "        test_new.append(train[train[\"NumberOfPersonVisiting\"] == test.iloc[idx][\"NumberOfPersonVisiting\"]][\"NumberOfChildrenVisiting\"].mean().astype(\"int64\"))\n",
    "    else:\n",
    "        test_new.append(test.iloc[idx][\"NumberOfChildrenVisiting\"])\n",
    "test[\"NumberOfChildrenVisiting\"] = test_new"
   ]
  },
  {
   "cell_type": "code",
   "execution_count": 21,
   "metadata": {},
   "outputs": [
    {
     "data": {
      "text/plain": [
       "id                          0\n",
       "Age                         0\n",
       "TypeofContact               0\n",
       "CityTier                    0\n",
       "DurationOfPitch             0\n",
       "Occupation                  0\n",
       "Gender                      0\n",
       "NumberOfPersonVisiting      0\n",
       "NumberOfFollowups           0\n",
       "ProductPitched              0\n",
       "PreferredPropertyStar       0\n",
       "MaritalStatus               0\n",
       "NumberOfTrips               0\n",
       "Passport                    0\n",
       "PitchSatisfactionScore      0\n",
       "OwnCar                      0\n",
       "NumberOfChildrenVisiting    0\n",
       "Designation                 0\n",
       "MonthlyIncome               0\n",
       "ProdTaken                   0\n",
       "dtype: int64"
      ]
     },
     "execution_count": 21,
     "metadata": {},
     "output_type": "execute_result"
    }
   ],
   "source": [
    "train.isnull().sum()"
   ]
  },
  {
   "cell_type": "code",
   "execution_count": 22,
   "metadata": {},
   "outputs": [
    {
     "data": {
      "text/plain": [
       "id                          0\n",
       "Age                         0\n",
       "TypeofContact               0\n",
       "CityTier                    0\n",
       "DurationOfPitch             0\n",
       "Occupation                  0\n",
       "Gender                      0\n",
       "NumberOfPersonVisiting      0\n",
       "NumberOfFollowups           0\n",
       "ProductPitched              0\n",
       "PreferredPropertyStar       0\n",
       "MaritalStatus               0\n",
       "NumberOfTrips               0\n",
       "Passport                    0\n",
       "PitchSatisfactionScore      0\n",
       "OwnCar                      0\n",
       "NumberOfChildrenVisiting    0\n",
       "Designation                 0\n",
       "MonthlyIncome               0\n",
       "dtype: int64"
      ]
     },
     "execution_count": 22,
     "metadata": {},
     "output_type": "execute_result"
    }
   ],
   "source": [
    "test.isnull().sum()"
   ]
  },
  {
   "cell_type": "markdown",
   "metadata": {},
   "source": [
    "### 3.2 Outlier\n",
    "Outlier의 경우 범위의 최대 혹은 최소값으로 변경해준다."
   ]
  },
  {
   "cell_type": "code",
   "execution_count": 23,
   "metadata": {},
   "outputs": [],
   "source": [
    "def change_outlier(col):\n",
    "    q3 = train[col].quantile(q=0.75)\n",
    "    q1 = train[col].quantile(q=0.25)\n",
    "    iqr = 1.5 * (q3-q1)\n",
    "    train.loc[train[col] < q1-iqr, col] = q1-iqr\n",
    "    train.loc[train[col] > q3+iqr, col] = q3+iqr"
   ]
  },
  {
   "cell_type": "code",
   "execution_count": 24,
   "metadata": {},
   "outputs": [
    {
     "data": {
      "text/plain": [
       "<AxesSubplot:xlabel='DurationOfPitch'>"
      ]
     },
     "execution_count": 24,
     "metadata": {},
     "output_type": "execute_result"
    },
    {
     "data": {
      "image/png": "[encoded data removed]",
      "text/plain": [
       "<Figure size 432x288 with 1 Axes>"
      ]
     },
     "metadata": {
      "needs_background": "light"
     },
     "output_type": "display_data"
    }
   ],
   "source": [
    "sb.boxplot(train[\"DurationOfPitch\"])"
   ]
  },
  {
   "cell_type": "code",
   "execution_count": 25,
   "metadata": {},
   "outputs": [],
   "source": [
    "change_outlier(\"DurationOfPitch\")"
   ]
  },
  {
   "cell_type": "code",
   "execution_count": 26,
   "metadata": {},
   "outputs": [
    {
     "data": {
      "text/plain": [
       "<AxesSubplot:xlabel='DurationOfPitch'>"
      ]
     },
     "execution_count": 26,
     "metadata": {},
     "output_type": "execute_result"
    },
    {
     "data": {
      "image/png": "[encoded data removed]",
      "text/plain": [
       "<Figure size 432x288 with 1 Axes>"
      ]
     },
     "metadata": {
      "needs_background": "light"
     },
     "output_type": "display_data"
    }
   ],
   "source": [
    "sb.boxplot(train[\"DurationOfPitch\"])"
   ]
  },
  {
   "cell_type": "code",
   "execution_count": 27,
   "metadata": {},
   "outputs": [
    {
     "data": {
      "text/plain": [
       "<AxesSubplot:xlabel='MonthlyIncome'>"
      ]
     },
     "execution_count": 27,
     "metadata": {},
     "output_type": "execute_result"
    },
    {
     "data": {
      "image/png": "[encoded data removed]",
      "text/plain": [
       "<Figure size 432x288 with 1 Axes>"
      ]
     },
     "metadata": {
      "needs_background": "light"
     },
     "output_type": "display_data"
    }
   ],
   "source": [
    "sb.boxplot(train[\"MonthlyIncome\"])"
   ]
  },
  {
   "cell_type": "code",
   "execution_count": 28,
   "metadata": {},
   "outputs": [],
   "source": [
    "change_outlier(\"MonthlyIncome\")"
   ]
  },
  {
   "cell_type": "code",
   "execution_count": 29,
   "metadata": {},
   "outputs": [
    {
     "data": {
      "text/plain": [
       "<AxesSubplot:xlabel='MonthlyIncome'>"
      ]
     },
     "execution_count": 29,
     "metadata": {},
     "output_type": "execute_result"
    },
    {
     "data": {
      "image/png": "[encoded data removed]",
      "text/plain": [
       "<Figure size 432x288 with 1 Axes>"
      ]
     },
     "metadata": {
      "needs_background": "light"
     },
     "output_type": "display_data"
    }
   ],
   "source": [
    "sb.boxplot(train[\"MonthlyIncome\"])"
   ]
  },
  {
   "cell_type": "code",
   "execution_count": 30,
   "metadata": {},
   "outputs": [
    {
     "data": {
      "text/plain": [
       "<AxesSubplot:xlabel='NumberOfTrips'>"
      ]
     },
     "execution_count": 30,
     "metadata": {},
     "output_type": "execute_result"
    },
    {
     "data": {
      "image/png": "[encoded data removed]",
      "text/plain": [
       "<Figure size 432x288 with 1 Axes>"
      ]
     },
     "metadata": {
      "needs_background": "light"
     },
     "output_type": "display_data"
    }
   ],
   "source": [
    "sb.boxplot(train[\"NumberOfTrips\"])"
   ]
  },
  {
   "cell_type": "code",
   "execution_count": 31,
   "metadata": {},
   "outputs": [],
   "source": [
    "change_outlier(\"NumberOfTrips\")"
   ]
  },
  {
   "cell_type": "code",
   "execution_count": 32,
   "metadata": {},
   "outputs": [
    {
     "data": {
      "text/plain": [
       "<AxesSubplot:xlabel='NumberOfTrips'>"
      ]
     },
     "execution_count": 32,
     "metadata": {},
     "output_type": "execute_result"
    },
    {
     "data": {
      "image/png": "[encoded data removed]",
      "text/plain": [
       "<Figure size 432x288 with 1 Axes>"
      ]
     },
     "metadata": {
      "needs_background": "light"
     },
     "output_type": "display_data"
    }
   ],
   "source": [
    "sb.boxplot(train[\"NumberOfTrips\"])"
   ]
  },
  {
   "cell_type": "markdown",
   "metadata": {},
   "source": [
    "### 3.3 Grouping into category\n",
    "연속형값을 카테고리의 값으로 변경하여 예측하기 쉽도록 한다. 각각의 카테고리는 25%, 50%, 75% 지점으로 정한다."
   ]
  },
  {
   "cell_type": "code",
   "execution_count": 33,
   "metadata": {},
   "outputs": [
    {
     "data": {
      "text/html": [
       "<div>\n",
       "<style scoped>\n",
       "    .dataframe tbody tr th:only-of-type {\n",
       "        vertical-align: middle;\n",
       "    }\n",
       "\n",
       "    .dataframe tbody tr th {\n",
       "        vertical-align: top;\n",
       "    }\n",
       "\n",
       "    .dataframe thead th {\n",
       "        text-align: right;\n",
       "    }\n",
       "</style>\n",
       "<table border=\"1\" class=\"dataframe\">\n",
       "  <thead>\n",
       "    <tr style=\"text-align: right;\">\n",
       "      <th></th>\n",
       "      <th>id</th>\n",
       "      <th>Age</th>\n",
       "      <th>CityTier</th>\n",
       "      <th>DurationOfPitch</th>\n",
       "      <th>NumberOfPersonVisiting</th>\n",
       "      <th>NumberOfFollowups</th>\n",
       "      <th>PreferredPropertyStar</th>\n",
       "      <th>NumberOfTrips</th>\n",
       "      <th>Passport</th>\n",
       "      <th>PitchSatisfactionScore</th>\n",
       "      <th>OwnCar</th>\n",
       "      <th>NumberOfChildrenVisiting</th>\n",
       "      <th>MonthlyIncome</th>\n",
       "      <th>ProdTaken</th>\n",
       "    </tr>\n",
       "  </thead>\n",
       "  <tbody>\n",
       "    <tr>\n",
       "      <th>count</th>\n",
       "      <td>1861.000000</td>\n",
       "      <td>1861.000000</td>\n",
       "      <td>1861.000000</td>\n",
       "      <td>1861.000000</td>\n",
       "      <td>1861.000000</td>\n",
       "      <td>1861.000000</td>\n",
       "      <td>1861.000000</td>\n",
       "      <td>1861.000000</td>\n",
       "      <td>1861.000000</td>\n",
       "      <td>1861.000000</td>\n",
       "      <td>1861.000000</td>\n",
       "      <td>1861.000000</td>\n",
       "      <td>1861.000000</td>\n",
       "      <td>1861.000000</td>\n",
       "    </tr>\n",
       "    <tr>\n",
       "      <th>mean</th>\n",
       "      <td>981.364858</td>\n",
       "      <td>37.462117</td>\n",
       "      <td>1.651263</td>\n",
       "      <td>15.556637</td>\n",
       "      <td>2.951639</td>\n",
       "      <td>3.749597</td>\n",
       "      <td>3.560989</td>\n",
       "      <td>3.269210</td>\n",
       "      <td>0.289629</td>\n",
       "      <td>3.066093</td>\n",
       "      <td>0.620634</td>\n",
       "      <td>1.237507</td>\n",
       "      <td>23470.639020</td>\n",
       "      <td>0.195594</td>\n",
       "    </tr>\n",
       "    <tr>\n",
       "      <th>std</th>\n",
       "      <td>563.359002</td>\n",
       "      <td>9.189948</td>\n",
       "      <td>0.913068</td>\n",
       "      <td>7.854201</td>\n",
       "      <td>0.707733</td>\n",
       "      <td>1.000890</td>\n",
       "      <td>0.789149</td>\n",
       "      <td>1.702958</td>\n",
       "      <td>0.453712</td>\n",
       "      <td>1.367611</td>\n",
       "      <td>0.485360</td>\n",
       "      <td>0.852265</td>\n",
       "      <td>4607.511099</td>\n",
       "      <td>0.396764</td>\n",
       "    </tr>\n",
       "    <tr>\n",
       "      <th>min</th>\n",
       "      <td>1.000000</td>\n",
       "      <td>18.000000</td>\n",
       "      <td>1.000000</td>\n",
       "      <td>5.000000</td>\n",
       "      <td>1.000000</td>\n",
       "      <td>1.000000</td>\n",
       "      <td>3.000000</td>\n",
       "      <td>1.000000</td>\n",
       "      <td>0.000000</td>\n",
       "      <td>1.000000</td>\n",
       "      <td>0.000000</td>\n",
       "      <td>0.000000</td>\n",
       "      <td>12906.007485</td>\n",
       "      <td>0.000000</td>\n",
       "    </tr>\n",
       "    <tr>\n",
       "      <th>25%</th>\n",
       "      <td>492.000000</td>\n",
       "      <td>31.000000</td>\n",
       "      <td>1.000000</td>\n",
       "      <td>9.000000</td>\n",
       "      <td>2.000000</td>\n",
       "      <td>3.000000</td>\n",
       "      <td>3.000000</td>\n",
       "      <td>2.000000</td>\n",
       "      <td>0.000000</td>\n",
       "      <td>2.000000</td>\n",
       "      <td>0.000000</td>\n",
       "      <td>1.000000</td>\n",
       "      <td>20574.002994</td>\n",
       "      <td>0.000000</td>\n",
       "    </tr>\n",
       "    <tr>\n",
       "      <th>50%</th>\n",
       "      <td>985.000000</td>\n",
       "      <td>36.000000</td>\n",
       "      <td>1.000000</td>\n",
       "      <td>14.000000</td>\n",
       "      <td>3.000000</td>\n",
       "      <td>4.000000</td>\n",
       "      <td>3.000000</td>\n",
       "      <td>3.000000</td>\n",
       "      <td>0.000000</td>\n",
       "      <td>3.000000</td>\n",
       "      <td>1.000000</td>\n",
       "      <td>1.000000</td>\n",
       "      <td>22491.000000</td>\n",
       "      <td>0.000000</td>\n",
       "    </tr>\n",
       "    <tr>\n",
       "      <th>75%</th>\n",
       "      <td>1470.000000</td>\n",
       "      <td>43.000000</td>\n",
       "      <td>3.000000</td>\n",
       "      <td>19.000000</td>\n",
       "      <td>3.000000</td>\n",
       "      <td>4.000000</td>\n",
       "      <td>4.000000</td>\n",
       "      <td>4.000000</td>\n",
       "      <td>1.000000</td>\n",
       "      <td>4.000000</td>\n",
       "      <td>1.000000</td>\n",
       "      <td>2.000000</td>\n",
       "      <td>25686.000000</td>\n",
       "      <td>0.000000</td>\n",
       "    </tr>\n",
       "    <tr>\n",
       "      <th>max</th>\n",
       "      <td>1955.000000</td>\n",
       "      <td>61.000000</td>\n",
       "      <td>3.000000</td>\n",
       "      <td>34.000000</td>\n",
       "      <td>5.000000</td>\n",
       "      <td>6.000000</td>\n",
       "      <td>5.000000</td>\n",
       "      <td>7.000000</td>\n",
       "      <td>1.000000</td>\n",
       "      <td>5.000000</td>\n",
       "      <td>1.000000</td>\n",
       "      <td>3.000000</td>\n",
       "      <td>33353.995509</td>\n",
       "      <td>1.000000</td>\n",
       "    </tr>\n",
       "  </tbody>\n",
       "</table>\n",
       "</div>"
      ],
      "text/plain": [
       "                id          Age     CityTier  DurationOfPitch  \\\n",
       "count  1861.000000  1861.000000  1861.000000      1861.000000   \n",
       "mean    981.364858    37.462117     1.651263        15.556637   \n",
       "std     563.359002     9.189948     0.913068         7.854201   \n",
       "min       1.000000    18.000000     1.000000         5.000000   \n",
       "25%     492.000000    31.000000     1.000000         9.000000   \n",
       "50%     985.000000    36.000000     1.000000        14.000000   \n",
       "75%    1470.000000    43.000000     3.000000        19.000000   \n",
       "max    1955.000000    61.000000     3.000000        34.000000   \n",
       "\n",
       "       NumberOfPersonVisiting  NumberOfFollowups  PreferredPropertyStar  \\\n",
       "count             1861.000000        1861.000000            1861.000000   \n",
       "mean                 2.951639           3.749597               3.560989   \n",
       "std                  0.707733           1.000890               0.789149   \n",
       "min                  1.000000           1.000000               3.000000   \n",
       "25%                  2.000000           3.000000               3.000000   \n",
       "50%                  3.000000           4.000000               3.000000   \n",
       "75%                  3.000000           4.000000               4.000000   \n",
       "max                  5.000000           6.000000               5.000000   \n",
       "\n",
       "       NumberOfTrips     Passport  PitchSatisfactionScore       OwnCar  \\\n",
       "count    1861.000000  1861.000000             1861.000000  1861.000000   \n",
       "mean        3.269210     0.289629                3.066093     0.620634   \n",
       "std         1.702958     0.453712                1.367611     0.485360   \n",
       "min         1.000000     0.000000                1.000000     0.000000   \n",
       "25%         2.000000     0.000000                2.000000     0.000000   \n",
       "50%         3.000000     0.000000                3.000000     1.000000   \n",
       "75%         4.000000     1.000000                4.000000     1.000000   \n",
       "max         7.000000     1.000000                5.000000     1.000000   \n",
       "\n",
       "       NumberOfChildrenVisiting  MonthlyIncome    ProdTaken  \n",
       "count               1861.000000    1861.000000  1861.000000  \n",
       "mean                   1.237507   23470.639020     0.195594  \n",
       "std                    0.852265    4607.511099     0.396764  \n",
       "min                    0.000000   12906.007485     0.000000  \n",
       "25%                    1.000000   20574.002994     0.000000  \n",
       "50%                    1.000000   22491.000000     0.000000  \n",
       "75%                    2.000000   25686.000000     0.000000  \n",
       "max                    3.000000   33353.995509     1.000000  "
      ]
     },
     "execution_count": 33,
     "metadata": {},
     "output_type": "execute_result"
    }
   ],
   "source": [
    "train.describe()"
   ]
  },
  {
   "cell_type": "markdown",
   "metadata": {},
   "source": [
    "* Age"
   ]
  },
  {
   "cell_type": "code",
   "execution_count": 34,
   "metadata": {},
   "outputs": [],
   "source": [
    "def age_grouping(data):\n",
    "    data.loc[data[\"Age\"] <= 31, \"Age\"] = 0\n",
    "    data.loc[(data[\"Age\"] > 31) & (data[\"Age\"] <= 36), \"Age\"] = 1\n",
    "    data.loc[(data[\"Age\"] > 36) & (data[\"Age\"] <= 43), \"Age\"] = 2\n",
    "    data.loc[data[\"Age\"] > 43, \"Age\"] = 3\n",
    "    data[\"Age\"] = data[\"Age\"].astype(\"int64\")\n",
    "\n",
    "age_grouping(train)\n",
    "age_grouping(test)"
   ]
  },
  {
   "cell_type": "markdown",
   "metadata": {},
   "source": [
    "* DurationOfPitch"
   ]
  },
  {
   "cell_type": "code",
   "execution_count": 35,
   "metadata": {},
   "outputs": [],
   "source": [
    "def duration_pitch(data):\n",
    "    data.loc[data[\"DurationOfPitch\"] <= 9, \"DurationOfPitch\"] = 0\n",
    "    data.loc[(data[\"DurationOfPitch\"] > 9) & (data[\"DurationOfPitch\"] <=14), \"DurationOfPitch\"] = 1\n",
    "    data.loc[(data[\"DurationOfPitch\"] > 14) & (data[\"DurationOfPitch\"] <= 19), \"DurationOfPitch\"] = 2\n",
    "    data.loc[data[\"DurationOfPitch\"] > 19,\"DurationOfPitch\"] = 3\n",
    "    data[\"DurationOfPitch\"] = data[\"DurationOfPitch\"].astype(\"int64\")\n",
    "\n",
    "duration_pitch(train)\n",
    "duration_pitch(test)"
   ]
  },
  {
   "cell_type": "markdown",
   "metadata": {},
   "source": [
    "* MonthlyIncome"
   ]
  },
  {
   "cell_type": "code",
   "execution_count": 36,
   "metadata": {},
   "outputs": [],
   "source": [
    "def income_group(data):\n",
    "    data.loc[data[\"MonthlyIncome\"] <= 20572, \"MonthlyIncome\"] = 0\n",
    "    data.loc[(data[\"MonthlyIncome\"] > 20572) & (data[\"MonthlyIncome\"] <= 22661), \"MonthlyIncome\"] = 1\n",
    "    data.loc[(data[\"MonthlyIncome\"] > 22661) & (data[\"MonthlyIncome\"] <= 25401.5), \"MonthlyIncome\"] = 2\n",
    "    data.loc[data[\"MonthlyIncome\"] >= 25401.5, \"MonthlyIncome\"] = 3\n",
    "    data[\"MonthlyIncome\"] = data[\"MonthlyIncome\"].astype(\"int64\")\n",
    "\n",
    "income_group(train)\n",
    "income_group(test)"
   ]
  },
  {
   "cell_type": "markdown",
   "metadata": {},
   "source": [
    "### 3.4 Etc.\n",
    "기존에 Str 카테고리를 int형으로 변경 해 준다."
   ]
  },
  {
   "cell_type": "code",
   "execution_count": 37,
   "metadata": {},
   "outputs": [
    {
     "data": {
      "text/plain": [
       "Self Enquiry       1316\n",
       "Company Invited     545\n",
       "Name: TypeofContact, dtype: int64"
      ]
     },
     "execution_count": 37,
     "metadata": {},
     "output_type": "execute_result"
    }
   ],
   "source": [
    "train[\"TypeofContact\"].value_counts()"
   ]
  },
  {
   "cell_type": "code",
   "execution_count": 38,
   "metadata": {},
   "outputs": [],
   "source": [
    "contact_dict = {\"Self Enquiry\" :0, \"Company Invited\": 1}\n",
    "train[\"TypeofContact\"] = train[\"TypeofContact\"].map(contact_dict)\n",
    "test[\"TypeofContact\"] = test[\"TypeofContact\"].map(contact_dict)"
   ]
  },
  {
   "cell_type": "code",
   "execution_count": 39,
   "metadata": {},
   "outputs": [
    {
     "data": {
      "text/plain": [
       "Salaried          916\n",
       "Small Business    785\n",
       "Large Business    159\n",
       "Free Lancer         1\n",
       "Name: Occupation, dtype: int64"
      ]
     },
     "execution_count": 39,
     "metadata": {},
     "output_type": "execute_result"
    }
   ],
   "source": [
    "train[\"Occupation\"].value_counts()"
   ]
  },
  {
   "cell_type": "code",
   "execution_count": 40,
   "metadata": {},
   "outputs": [],
   "source": [
    "occ_dict = {\"Salaried\":0, \"Small Business\":1, \"Large Business\":2, \"Free Lancer\":3}\n",
    "train[\"Occupation\"] = train[\"Occupation\"].map(occ_dict)\n",
    "test[\"Occupation\"] = test[\"Occupation\"].map(occ_dict)"
   ]
  },
  {
   "cell_type": "code",
   "execution_count": 41,
   "metadata": {},
   "outputs": [
    {
     "data": {
      "text/plain": [
       "Male       1151\n",
       "Female      654\n",
       "Fe Male      56\n",
       "Name: Gender, dtype: int64"
      ]
     },
     "execution_count": 41,
     "metadata": {},
     "output_type": "execute_result"
    }
   ],
   "source": [
    "train[\"Gender\"].value_counts()"
   ]
  },
  {
   "cell_type": "code",
   "execution_count": 42,
   "metadata": {},
   "outputs": [],
   "source": [
    "gender_dict = {\"Male\":0, \"Female\":1, \"Fe Male\":2}\n",
    "train[\"Gender\"] = train[\"Gender\"].map(gender_dict)\n",
    "test[\"Gender\"] = test[\"Gender\"].map(gender_dict)"
   ]
  },
  {
   "cell_type": "code",
   "execution_count": 43,
   "metadata": {},
   "outputs": [
    {
     "data": {
      "text/plain": [
       "Executive         692\n",
       "Manager           649\n",
       "Senior Manager    301\n",
       "AVP               130\n",
       "VP                 89\n",
       "Name: Designation, dtype: int64"
      ]
     },
     "execution_count": 43,
     "metadata": {},
     "output_type": "execute_result"
    }
   ],
   "source": [
    "train[\"Designation\"].value_counts()"
   ]
  },
  {
   "cell_type": "code",
   "execution_count": 44,
   "metadata": {},
   "outputs": [],
   "source": [
    "des_dict = {\"Executive\":0, \"Manager\":1, \"Senior Manager\":2, \"AVP\":3, \"VP\":4}\n",
    "train[\"Designation\"] = train[\"Designation\"].map(des_dict)\n",
    "test[\"Designation\"] = test[\"Designation\"].map(des_dict)"
   ]
  },
  {
   "cell_type": "code",
   "execution_count": 45,
   "metadata": {},
   "outputs": [
    {
     "data": {
      "text/plain": [
       "Basic           692\n",
       "Deluxe          649\n",
       "Standard        301\n",
       "Super Deluxe    130\n",
       "King             89\n",
       "Name: ProductPitched, dtype: int64"
      ]
     },
     "execution_count": 45,
     "metadata": {},
     "output_type": "execute_result"
    }
   ],
   "source": [
    "train[\"ProductPitched\"].value_counts()"
   ]
  },
  {
   "cell_type": "code",
   "execution_count": 46,
   "metadata": {},
   "outputs": [],
   "source": [
    "product_dict = {\"Basic\":0, \"Deluxe\":1, \"Standard\":2, \"Super Deluxe\":3, \"King\":4}\n",
    "train[\"ProductPitched\"] = train[\"ProductPitched\"].map(product_dict)\n",
    "test[\"ProductPitched\"] = test[\"ProductPitched\"].map(product_dict)"
   ]
  },
  {
   "cell_type": "code",
   "execution_count": 47,
   "metadata": {},
   "outputs": [
    {
     "data": {
      "text/plain": [
       "Married      905\n",
       "Divorced     355\n",
       "Single       319\n",
       "Unmarried    282\n",
       "Name: MaritalStatus, dtype: int64"
      ]
     },
     "execution_count": 47,
     "metadata": {},
     "output_type": "execute_result"
    }
   ],
   "source": [
    "train[\"MaritalStatus\"].value_counts()"
   ]
  },
  {
   "cell_type": "code",
   "execution_count": 48,
   "metadata": {},
   "outputs": [],
   "source": [
    "marry_dict = {\"Married\":0, \"Divorced\":1, \"Single\":2, \"Unmarried\":3}\n",
    "train[\"MaritalStatus\"] = train[\"MaritalStatus\"].map(marry_dict)\n",
    "test[\"MaritalStatus\"] = test[\"MaritalStatus\"].map(marry_dict)"
   ]
  },
  {
   "cell_type": "markdown",
   "metadata": {},
   "source": [
    "이외 모든 값은 int화 함."
   ]
  },
  {
   "cell_type": "code",
   "execution_count": 49,
   "metadata": {},
   "outputs": [],
   "source": [
    "train[\"NumberOfFollowups\"] = train[\"NumberOfFollowups\"].astype(\"int64\")\n",
    "test[\"NumberOfFollowups\"] = test[\"NumberOfFollowups\"].astype(\"int64\")\n",
    "train[\"PreferredPropertyStar\"] = train[\"PreferredPropertyStar\"].astype(\"int64\")\n",
    "test[\"PreferredPropertyStar\"] = test[\"PreferredPropertyStar\"].astype(\"int64\")\n",
    "train[\"NumberOfChildrenVisiting\"] = train[\"NumberOfChildrenVisiting\"].astype(\"int64\")\n",
    "test[\"NumberOfChildrenVisiting\"] = test[\"NumberOfChildrenVisiting\"].astype(\"int64\")\n",
    "train[\"NumberOfTrips\"] = train[\"NumberOfTrips\"].astype(\"int64\")\n",
    "test[\"NumberOfTrips\"] = test[\"NumberOfTrips\"].astype(\"int64\")"
   ]
  },
  {
   "cell_type": "code",
   "execution_count": 50,
   "metadata": {},
   "outputs": [
    {
     "name": "stdout",
     "output_type": "stream",
     "text": [
      "<class 'pandas.core.frame.DataFrame'>\n",
      "Int64Index: 1861 entries, 0 to 1954\n",
      "Data columns (total 20 columns):\n",
      " #   Column                    Non-Null Count  Dtype\n",
      "---  ------                    --------------  -----\n",
      " 0   id                        1861 non-null   int64\n",
      " 1   Age                       1861 non-null   int64\n",
      " 2   TypeofContact             1861 non-null   int64\n",
      " 3   CityTier                  1861 non-null   int64\n",
      " 4   DurationOfPitch           1861 non-null   int64\n",
      " 5   Occupation                1861 non-null   int64\n",
      " 6   Gender                    1861 non-null   int64\n",
      " 7   NumberOfPersonVisiting    1861 non-null   int64\n",
      " 8   NumberOfFollowups         1861 non-null   int64\n",
      " 9   ProductPitched            1861 non-null   int64\n",
      " 10  PreferredPropertyStar     1861 non-null   int64\n",
      " 11  MaritalStatus             1861 non-null   int64\n",
      " 12  NumberOfTrips             1861 non-null   int64\n",
      " 13  Passport                  1861 non-null   int64\n",
      " 14  PitchSatisfactionScore    1861 non-null   int64\n",
      " 15  OwnCar                    1861 non-null   int64\n",
      " 16  NumberOfChildrenVisiting  1861 non-null   int64\n",
      " 17  Designation               1861 non-null   int64\n",
      " 18  MonthlyIncome             1861 non-null   int64\n",
      " 19  ProdTaken                 1861 non-null   int64\n",
      "dtypes: int64(20)\n",
      "memory usage: 305.3 KB\n"
     ]
    }
   ],
   "source": [
    "train.info()"
   ]
  },
  {
   "cell_type": "code",
   "execution_count": 51,
   "metadata": {},
   "outputs": [
    {
     "name": "stdout",
     "output_type": "stream",
     "text": [
      "<class 'pandas.core.frame.DataFrame'>\n",
      "Int64Index: 2859 entries, 0 to 2932\n",
      "Data columns (total 19 columns):\n",
      " #   Column                    Non-Null Count  Dtype\n",
      "---  ------                    --------------  -----\n",
      " 0   id                        2859 non-null   int64\n",
      " 1   Age                       2859 non-null   int64\n",
      " 2   TypeofContact             2859 non-null   int64\n",
      " 3   CityTier                  2859 non-null   int64\n",
      " 4   DurationOfPitch           2859 non-null   int64\n",
      " 5   Occupation                2859 non-null   int64\n",
      " 6   Gender                    2859 non-null   int64\n",
      " 7   NumberOfPersonVisiting    2859 non-null   int64\n",
      " 8   NumberOfFollowups         2859 non-null   int64\n",
      " 9   ProductPitched            2859 non-null   int64\n",
      " 10  PreferredPropertyStar     2859 non-null   int64\n",
      " 11  MaritalStatus             2859 non-null   int64\n",
      " 12  NumberOfTrips             2859 non-null   int64\n",
      " 13  Passport                  2859 non-null   int64\n",
      " 14  PitchSatisfactionScore    2859 non-null   int64\n",
      " 15  OwnCar                    2859 non-null   int64\n",
      " 16  NumberOfChildrenVisiting  2859 non-null   int64\n",
      " 17  Designation               2859 non-null   int64\n",
      " 18  MonthlyIncome             2859 non-null   int64\n",
      "dtypes: int64(19)\n",
      "memory usage: 446.7 KB\n"
     ]
    }
   ],
   "source": [
    "test.info()"
   ]
  },
  {
   "cell_type": "markdown",
   "metadata": {},
   "source": [
    "## 4. Training"
   ]
  },
  {
   "cell_type": "markdown",
   "metadata": {},
   "source": [
    "### 4.1 Preparation"
   ]
  },
  {
   "cell_type": "code",
   "execution_count": 52,
   "metadata": {},
   "outputs": [],
   "source": [
    "# Classification module\n",
    "from sklearn.linear_model import LogisticRegression\n",
    "from sklearn.svm import SVC\n",
    "from sklearn.neighbors import KNeighborsClassifier\n",
    "from sklearn.tree import DecisionTreeClassifier\n",
    "from sklearn.ensemble import RandomForestClassifier, ExtraTreesClassifier, VotingClassifier\n",
    "from sklearn.model_selection import KFold\n",
    "from sklearn.model_selection import cross_val_score\n",
    "\n",
    "#AutoML\n",
    "from pycaret import classification"
   ]
  },
  {
   "cell_type": "code",
   "execution_count": 53,
   "metadata": {},
   "outputs": [],
   "source": [
    "train.drop(\"id\", axis=1, inplace=True)\n",
    "\n",
    "# Data\n",
    "y_train = train[\"ProdTaken\"]\n",
    "x_train = train.drop(\"ProdTaken\", axis=1)\n",
    "test_pred = test.copy()\n",
    "test_pred = test_pred.drop(\"id\", axis=1)"
   ]
  },
  {
   "cell_type": "markdown",
   "metadata": {},
   "source": [
    "### 4.2 AutoML"
   ]
  },
  {
   "cell_type": "code",
   "execution_count": 54,
   "metadata": {},
   "outputs": [
    {
     "data": {
      "text/html": [
       "<style  type=\"text/css\" >\n",
       "#T_a291487a_2c7a_11ed_ae3f_0242ac110002row44_col1{\n",
       "            background-color:  lightgreen;\n",
       "        }</style><table id=\"T_a291487a_2c7a_11ed_ae3f_0242ac110002\" ><thead>    <tr>        <th class=\"blank level0\" ></th>        <th class=\"col_heading level0 col0\" >Description</th>        <th class=\"col_heading level0 col1\" >Value</th>    </tr></thead><tbody>\n",
       "                <tr>\n",
       "                        <th id=\"T_a291487a_2c7a_11ed_ae3f_0242ac110002level0_row0\" class=\"row_heading level0 row0\" >0</th>\n",
       "                        <td id=\"T_a291487a_2c7a_11ed_ae3f_0242ac110002row0_col0\" class=\"data row0 col0\" >session_id</td>\n",
       "                        <td id=\"T_a291487a_2c7a_11ed_ae3f_0242ac110002row0_col1\" class=\"data row0 col1\" >4394</td>\n",
       "            </tr>\n",
       "            <tr>\n",
       "                        <th id=\"T_a291487a_2c7a_11ed_ae3f_0242ac110002level0_row1\" class=\"row_heading level0 row1\" >1</th>\n",
       "                        <td id=\"T_a291487a_2c7a_11ed_ae3f_0242ac110002row1_col0\" class=\"data row1 col0\" >Target</td>\n",
       "                        <td id=\"T_a291487a_2c7a_11ed_ae3f_0242ac110002row1_col1\" class=\"data row1 col1\" >ProdTaken</td>\n",
       "            </tr>\n",
       "            <tr>\n",
       "                        <th id=\"T_a291487a_2c7a_11ed_ae3f_0242ac110002level0_row2\" class=\"row_heading level0 row2\" >2</th>\n",
       "                        <td id=\"T_a291487a_2c7a_11ed_ae3f_0242ac110002row2_col0\" class=\"data row2 col0\" >Target Type</td>\n",
       "                        <td id=\"T_a291487a_2c7a_11ed_ae3f_0242ac110002row2_col1\" class=\"data row2 col1\" >Binary</td>\n",
       "            </tr>\n",
       "            <tr>\n",
       "                        <th id=\"T_a291487a_2c7a_11ed_ae3f_0242ac110002level0_row3\" class=\"row_heading level0 row3\" >3</th>\n",
       "                        <td id=\"T_a291487a_2c7a_11ed_ae3f_0242ac110002row3_col0\" class=\"data row3 col0\" >Label Encoded</td>\n",
       "                        <td id=\"T_a291487a_2c7a_11ed_ae3f_0242ac110002row3_col1\" class=\"data row3 col1\" >None</td>\n",
       "            </tr>\n",
       "            <tr>\n",
       "                        <th id=\"T_a291487a_2c7a_11ed_ae3f_0242ac110002level0_row4\" class=\"row_heading level0 row4\" >4</th>\n",
       "                        <td id=\"T_a291487a_2c7a_11ed_ae3f_0242ac110002row4_col0\" class=\"data row4 col0\" >Original Data</td>\n",
       "                        <td id=\"T_a291487a_2c7a_11ed_ae3f_0242ac110002row4_col1\" class=\"data row4 col1\" >(1861, 19)</td>\n",
       "            </tr>\n",
       "            <tr>\n",
       "                        <th id=\"T_a291487a_2c7a_11ed_ae3f_0242ac110002level0_row5\" class=\"row_heading level0 row5\" >5</th>\n",
       "                        <td id=\"T_a291487a_2c7a_11ed_ae3f_0242ac110002row5_col0\" class=\"data row5 col0\" >Missing Values</td>\n",
       "                        <td id=\"T_a291487a_2c7a_11ed_ae3f_0242ac110002row5_col1\" class=\"data row5 col1\" >False</td>\n",
       "            </tr>\n",
       "            <tr>\n",
       "                        <th id=\"T_a291487a_2c7a_11ed_ae3f_0242ac110002level0_row6\" class=\"row_heading level0 row6\" >6</th>\n",
       "                        <td id=\"T_a291487a_2c7a_11ed_ae3f_0242ac110002row6_col0\" class=\"data row6 col0\" >Numeric Features</td>\n",
       "                        <td id=\"T_a291487a_2c7a_11ed_ae3f_0242ac110002row6_col1\" class=\"data row6 col1\" >0</td>\n",
       "            </tr>\n",
       "            <tr>\n",
       "                        <th id=\"T_a291487a_2c7a_11ed_ae3f_0242ac110002level0_row7\" class=\"row_heading level0 row7\" >7</th>\n",
       "                        <td id=\"T_a291487a_2c7a_11ed_ae3f_0242ac110002row7_col0\" class=\"data row7 col0\" >Categorical Features</td>\n",
       "                        <td id=\"T_a291487a_2c7a_11ed_ae3f_0242ac110002row7_col1\" class=\"data row7 col1\" >18</td>\n",
       "            </tr>\n",
       "            <tr>\n",
       "                        <th id=\"T_a291487a_2c7a_11ed_ae3f_0242ac110002level0_row8\" class=\"row_heading level0 row8\" >8</th>\n",
       "                        <td id=\"T_a291487a_2c7a_11ed_ae3f_0242ac110002row8_col0\" class=\"data row8 col0\" >Ordinal Features</td>\n",
       "                        <td id=\"T_a291487a_2c7a_11ed_ae3f_0242ac110002row8_col1\" class=\"data row8 col1\" >False</td>\n",
       "            </tr>\n",
       "            <tr>\n",
       "                        <th id=\"T_a291487a_2c7a_11ed_ae3f_0242ac110002level0_row9\" class=\"row_heading level0 row9\" >9</th>\n",
       "                        <td id=\"T_a291487a_2c7a_11ed_ae3f_0242ac110002row9_col0\" class=\"data row9 col0\" >High Cardinality Features</td>\n",
       "                        <td id=\"T_a291487a_2c7a_11ed_ae3f_0242ac110002row9_col1\" class=\"data row9 col1\" >False</td>\n",
       "            </tr>\n",
       "            <tr>\n",
       "                        <th id=\"T_a291487a_2c7a_11ed_ae3f_0242ac110002level0_row10\" class=\"row_heading level0 row10\" >10</th>\n",
       "                        <td id=\"T_a291487a_2c7a_11ed_ae3f_0242ac110002row10_col0\" class=\"data row10 col0\" >High Cardinality Method</td>\n",
       "                        <td id=\"T_a291487a_2c7a_11ed_ae3f_0242ac110002row10_col1\" class=\"data row10 col1\" >None</td>\n",
       "            </tr>\n",
       "            <tr>\n",
       "                        <th id=\"T_a291487a_2c7a_11ed_ae3f_0242ac110002level0_row11\" class=\"row_heading level0 row11\" >11</th>\n",
       "                        <td id=\"T_a291487a_2c7a_11ed_ae3f_0242ac110002row11_col0\" class=\"data row11 col0\" >Transformed Train Set</td>\n",
       "                        <td id=\"T_a291487a_2c7a_11ed_ae3f_0242ac110002row11_col1\" class=\"data row11 col1\" >(1302, 63)</td>\n",
       "            </tr>\n",
       "            <tr>\n",
       "                        <th id=\"T_a291487a_2c7a_11ed_ae3f_0242ac110002level0_row12\" class=\"row_heading level0 row12\" >12</th>\n",
       "                        <td id=\"T_a291487a_2c7a_11ed_ae3f_0242ac110002row12_col0\" class=\"data row12 col0\" >Transformed Test Set</td>\n",
       "                        <td id=\"T_a291487a_2c7a_11ed_ae3f_0242ac110002row12_col1\" class=\"data row12 col1\" >(559, 63)</td>\n",
       "            </tr>\n",
       "            <tr>\n",
       "                        <th id=\"T_a291487a_2c7a_11ed_ae3f_0242ac110002level0_row13\" class=\"row_heading level0 row13\" >13</th>\n",
       "                        <td id=\"T_a291487a_2c7a_11ed_ae3f_0242ac110002row13_col0\" class=\"data row13 col0\" >Shuffle Train-Test</td>\n",
       "                        <td id=\"T_a291487a_2c7a_11ed_ae3f_0242ac110002row13_col1\" class=\"data row13 col1\" >True</td>\n",
       "            </tr>\n",
       "            <tr>\n",
       "                        <th id=\"T_a291487a_2c7a_11ed_ae3f_0242ac110002level0_row14\" class=\"row_heading level0 row14\" >14</th>\n",
       "                        <td id=\"T_a291487a_2c7a_11ed_ae3f_0242ac110002row14_col0\" class=\"data row14 col0\" >Stratify Train-Test</td>\n",
       "                        <td id=\"T_a291487a_2c7a_11ed_ae3f_0242ac110002row14_col1\" class=\"data row14 col1\" >False</td>\n",
       "            </tr>\n",
       "            <tr>\n",
       "                        <th id=\"T_a291487a_2c7a_11ed_ae3f_0242ac110002level0_row15\" class=\"row_heading level0 row15\" >15</th>\n",
       "                        <td id=\"T_a291487a_2c7a_11ed_ae3f_0242ac110002row15_col0\" class=\"data row15 col0\" >Fold Generator</td>\n",
       "                        <td id=\"T_a291487a_2c7a_11ed_ae3f_0242ac110002row15_col1\" class=\"data row15 col1\" >StratifiedKFold</td>\n",
       "            </tr>\n",
       "            <tr>\n",
       "                        <th id=\"T_a291487a_2c7a_11ed_ae3f_0242ac110002level0_row16\" class=\"row_heading level0 row16\" >16</th>\n",
       "                        <td id=\"T_a291487a_2c7a_11ed_ae3f_0242ac110002row16_col0\" class=\"data row16 col0\" >Fold Number</td>\n",
       "                        <td id=\"T_a291487a_2c7a_11ed_ae3f_0242ac110002row16_col1\" class=\"data row16 col1\" >10</td>\n",
       "            </tr>\n",
       "            <tr>\n",
       "                        <th id=\"T_a291487a_2c7a_11ed_ae3f_0242ac110002level0_row17\" class=\"row_heading level0 row17\" >17</th>\n",
       "                        <td id=\"T_a291487a_2c7a_11ed_ae3f_0242ac110002row17_col0\" class=\"data row17 col0\" >CPU Jobs</td>\n",
       "                        <td id=\"T_a291487a_2c7a_11ed_ae3f_0242ac110002row17_col1\" class=\"data row17 col1\" >-1</td>\n",
       "            </tr>\n",
       "            <tr>\n",
       "                        <th id=\"T_a291487a_2c7a_11ed_ae3f_0242ac110002level0_row18\" class=\"row_heading level0 row18\" >18</th>\n",
       "                        <td id=\"T_a291487a_2c7a_11ed_ae3f_0242ac110002row18_col0\" class=\"data row18 col0\" >Use GPU</td>\n",
       "                        <td id=\"T_a291487a_2c7a_11ed_ae3f_0242ac110002row18_col1\" class=\"data row18 col1\" >False</td>\n",
       "            </tr>\n",
       "            <tr>\n",
       "                        <th id=\"T_a291487a_2c7a_11ed_ae3f_0242ac110002level0_row19\" class=\"row_heading level0 row19\" >19</th>\n",
       "                        <td id=\"T_a291487a_2c7a_11ed_ae3f_0242ac110002row19_col0\" class=\"data row19 col0\" >Log Experiment</td>\n",
       "                        <td id=\"T_a291487a_2c7a_11ed_ae3f_0242ac110002row19_col1\" class=\"data row19 col1\" >False</td>\n",
       "            </tr>\n",
       "            <tr>\n",
       "                        <th id=\"T_a291487a_2c7a_11ed_ae3f_0242ac110002level0_row20\" class=\"row_heading level0 row20\" >20</th>\n",
       "                        <td id=\"T_a291487a_2c7a_11ed_ae3f_0242ac110002row20_col0\" class=\"data row20 col0\" >Experiment Name</td>\n",
       "                        <td id=\"T_a291487a_2c7a_11ed_ae3f_0242ac110002row20_col1\" class=\"data row20 col1\" >clf-default-name</td>\n",
       "            </tr>\n",
       "            <tr>\n",
       "                        <th id=\"T_a291487a_2c7a_11ed_ae3f_0242ac110002level0_row21\" class=\"row_heading level0 row21\" >21</th>\n",
       "                        <td id=\"T_a291487a_2c7a_11ed_ae3f_0242ac110002row21_col0\" class=\"data row21 col0\" >USI</td>\n",
       "                        <td id=\"T_a291487a_2c7a_11ed_ae3f_0242ac110002row21_col1\" class=\"data row21 col1\" >a15a</td>\n",
       "            </tr>\n",
       "            <tr>\n",
       "                        <th id=\"T_a291487a_2c7a_11ed_ae3f_0242ac110002level0_row22\" class=\"row_heading level0 row22\" >22</th>\n",
       "                        <td id=\"T_a291487a_2c7a_11ed_ae3f_0242ac110002row22_col0\" class=\"data row22 col0\" >Imputation Type</td>\n",
       "                        <td id=\"T_a291487a_2c7a_11ed_ae3f_0242ac110002row22_col1\" class=\"data row22 col1\" >simple</td>\n",
       "            </tr>\n",
       "            <tr>\n",
       "                        <th id=\"T_a291487a_2c7a_11ed_ae3f_0242ac110002level0_row23\" class=\"row_heading level0 row23\" >23</th>\n",
       "                        <td id=\"T_a291487a_2c7a_11ed_ae3f_0242ac110002row23_col0\" class=\"data row23 col0\" >Iterative Imputation Iteration</td>\n",
       "                        <td id=\"T_a291487a_2c7a_11ed_ae3f_0242ac110002row23_col1\" class=\"data row23 col1\" >None</td>\n",
       "            </tr>\n",
       "            <tr>\n",
       "                        <th id=\"T_a291487a_2c7a_11ed_ae3f_0242ac110002level0_row24\" class=\"row_heading level0 row24\" >24</th>\n",
       "                        <td id=\"T_a291487a_2c7a_11ed_ae3f_0242ac110002row24_col0\" class=\"data row24 col0\" >Numeric Imputer</td>\n",
       "                        <td id=\"T_a291487a_2c7a_11ed_ae3f_0242ac110002row24_col1\" class=\"data row24 col1\" >mean</td>\n",
       "            </tr>\n",
       "            <tr>\n",
       "                        <th id=\"T_a291487a_2c7a_11ed_ae3f_0242ac110002level0_row25\" class=\"row_heading level0 row25\" >25</th>\n",
       "                        <td id=\"T_a291487a_2c7a_11ed_ae3f_0242ac110002row25_col0\" class=\"data row25 col0\" >Iterative Imputation Numeric Model</td>\n",
       "                        <td id=\"T_a291487a_2c7a_11ed_ae3f_0242ac110002row25_col1\" class=\"data row25 col1\" >None</td>\n",
       "            </tr>\n",
       "            <tr>\n",
       "                        <th id=\"T_a291487a_2c7a_11ed_ae3f_0242ac110002level0_row26\" class=\"row_heading level0 row26\" >26</th>\n",
       "                        <td id=\"T_a291487a_2c7a_11ed_ae3f_0242ac110002row26_col0\" class=\"data row26 col0\" >Categorical Imputer</td>\n",
       "                        <td id=\"T_a291487a_2c7a_11ed_ae3f_0242ac110002row26_col1\" class=\"data row26 col1\" >constant</td>\n",
       "            </tr>\n",
       "            <tr>\n",
       "                        <th id=\"T_a291487a_2c7a_11ed_ae3f_0242ac110002level0_row27\" class=\"row_heading level0 row27\" >27</th>\n",
       "                        <td id=\"T_a291487a_2c7a_11ed_ae3f_0242ac110002row27_col0\" class=\"data row27 col0\" >Iterative Imputation Categorical Model</td>\n",
       "                        <td id=\"T_a291487a_2c7a_11ed_ae3f_0242ac110002row27_col1\" class=\"data row27 col1\" >None</td>\n",
       "            </tr>\n",
       "            <tr>\n",
       "                        <th id=\"T_a291487a_2c7a_11ed_ae3f_0242ac110002level0_row28\" class=\"row_heading level0 row28\" >28</th>\n",
       "                        <td id=\"T_a291487a_2c7a_11ed_ae3f_0242ac110002row28_col0\" class=\"data row28 col0\" >Unknown Categoricals Handling</td>\n",
       "                        <td id=\"T_a291487a_2c7a_11ed_ae3f_0242ac110002row28_col1\" class=\"data row28 col1\" >least_frequent</td>\n",
       "            </tr>\n",
       "            <tr>\n",
       "                        <th id=\"T_a291487a_2c7a_11ed_ae3f_0242ac110002level0_row29\" class=\"row_heading level0 row29\" >29</th>\n",
       "                        <td id=\"T_a291487a_2c7a_11ed_ae3f_0242ac110002row29_col0\" class=\"data row29 col0\" >Normalize</td>\n",
       "                        <td id=\"T_a291487a_2c7a_11ed_ae3f_0242ac110002row29_col1\" class=\"data row29 col1\" >False</td>\n",
       "            </tr>\n",
       "            <tr>\n",
       "                        <th id=\"T_a291487a_2c7a_11ed_ae3f_0242ac110002level0_row30\" class=\"row_heading level0 row30\" >30</th>\n",
       "                        <td id=\"T_a291487a_2c7a_11ed_ae3f_0242ac110002row30_col0\" class=\"data row30 col0\" >Normalize Method</td>\n",
       "                        <td id=\"T_a291487a_2c7a_11ed_ae3f_0242ac110002row30_col1\" class=\"data row30 col1\" >None</td>\n",
       "            </tr>\n",
       "            <tr>\n",
       "                        <th id=\"T_a291487a_2c7a_11ed_ae3f_0242ac110002level0_row31\" class=\"row_heading level0 row31\" >31</th>\n",
       "                        <td id=\"T_a291487a_2c7a_11ed_ae3f_0242ac110002row31_col0\" class=\"data row31 col0\" >Transformation</td>\n",
       "                        <td id=\"T_a291487a_2c7a_11ed_ae3f_0242ac110002row31_col1\" class=\"data row31 col1\" >False</td>\n",
       "            </tr>\n",
       "            <tr>\n",
       "                        <th id=\"T_a291487a_2c7a_11ed_ae3f_0242ac110002level0_row32\" class=\"row_heading level0 row32\" >32</th>\n",
       "                        <td id=\"T_a291487a_2c7a_11ed_ae3f_0242ac110002row32_col0\" class=\"data row32 col0\" >Transformation Method</td>\n",
       "                        <td id=\"T_a291487a_2c7a_11ed_ae3f_0242ac110002row32_col1\" class=\"data row32 col1\" >None</td>\n",
       "            </tr>\n",
       "            <tr>\n",
       "                        <th id=\"T_a291487a_2c7a_11ed_ae3f_0242ac110002level0_row33\" class=\"row_heading level0 row33\" >33</th>\n",
       "                        <td id=\"T_a291487a_2c7a_11ed_ae3f_0242ac110002row33_col0\" class=\"data row33 col0\" >PCA</td>\n",
       "                        <td id=\"T_a291487a_2c7a_11ed_ae3f_0242ac110002row33_col1\" class=\"data row33 col1\" >False</td>\n",
       "            </tr>\n",
       "            <tr>\n",
       "                        <th id=\"T_a291487a_2c7a_11ed_ae3f_0242ac110002level0_row34\" class=\"row_heading level0 row34\" >34</th>\n",
       "                        <td id=\"T_a291487a_2c7a_11ed_ae3f_0242ac110002row34_col0\" class=\"data row34 col0\" >PCA Method</td>\n",
       "                        <td id=\"T_a291487a_2c7a_11ed_ae3f_0242ac110002row34_col1\" class=\"data row34 col1\" >None</td>\n",
       "            </tr>\n",
       "            <tr>\n",
       "                        <th id=\"T_a291487a_2c7a_11ed_ae3f_0242ac110002level0_row35\" class=\"row_heading level0 row35\" >35</th>\n",
       "                        <td id=\"T_a291487a_2c7a_11ed_ae3f_0242ac110002row35_col0\" class=\"data row35 col0\" >PCA Components</td>\n",
       "                        <td id=\"T_a291487a_2c7a_11ed_ae3f_0242ac110002row35_col1\" class=\"data row35 col1\" >None</td>\n",
       "            </tr>\n",
       "            <tr>\n",
       "                        <th id=\"T_a291487a_2c7a_11ed_ae3f_0242ac110002level0_row36\" class=\"row_heading level0 row36\" >36</th>\n",
       "                        <td id=\"T_a291487a_2c7a_11ed_ae3f_0242ac110002row36_col0\" class=\"data row36 col0\" >Ignore Low Variance</td>\n",
       "                        <td id=\"T_a291487a_2c7a_11ed_ae3f_0242ac110002row36_col1\" class=\"data row36 col1\" >False</td>\n",
       "            </tr>\n",
       "            <tr>\n",
       "                        <th id=\"T_a291487a_2c7a_11ed_ae3f_0242ac110002level0_row37\" class=\"row_heading level0 row37\" >37</th>\n",
       "                        <td id=\"T_a291487a_2c7a_11ed_ae3f_0242ac110002row37_col0\" class=\"data row37 col0\" >Combine Rare Levels</td>\n",
       "                        <td id=\"T_a291487a_2c7a_11ed_ae3f_0242ac110002row37_col1\" class=\"data row37 col1\" >False</td>\n",
       "            </tr>\n",
       "            <tr>\n",
       "                        <th id=\"T_a291487a_2c7a_11ed_ae3f_0242ac110002level0_row38\" class=\"row_heading level0 row38\" >38</th>\n",
       "                        <td id=\"T_a291487a_2c7a_11ed_ae3f_0242ac110002row38_col0\" class=\"data row38 col0\" >Rare Level Threshold</td>\n",
       "                        <td id=\"T_a291487a_2c7a_11ed_ae3f_0242ac110002row38_col1\" class=\"data row38 col1\" >None</td>\n",
       "            </tr>\n",
       "            <tr>\n",
       "                        <th id=\"T_a291487a_2c7a_11ed_ae3f_0242ac110002level0_row39\" class=\"row_heading level0 row39\" >39</th>\n",
       "                        <td id=\"T_a291487a_2c7a_11ed_ae3f_0242ac110002row39_col0\" class=\"data row39 col0\" >Numeric Binning</td>\n",
       "                        <td id=\"T_a291487a_2c7a_11ed_ae3f_0242ac110002row39_col1\" class=\"data row39 col1\" >False</td>\n",
       "            </tr>\n",
       "            <tr>\n",
       "                        <th id=\"T_a291487a_2c7a_11ed_ae3f_0242ac110002level0_row40\" class=\"row_heading level0 row40\" >40</th>\n",
       "                        <td id=\"T_a291487a_2c7a_11ed_ae3f_0242ac110002row40_col0\" class=\"data row40 col0\" >Remove Outliers</td>\n",
       "                        <td id=\"T_a291487a_2c7a_11ed_ae3f_0242ac110002row40_col1\" class=\"data row40 col1\" >False</td>\n",
       "            </tr>\n",
       "            <tr>\n",
       "                        <th id=\"T_a291487a_2c7a_11ed_ae3f_0242ac110002level0_row41\" class=\"row_heading level0 row41\" >41</th>\n",
       "                        <td id=\"T_a291487a_2c7a_11ed_ae3f_0242ac110002row41_col0\" class=\"data row41 col0\" >Outliers Threshold</td>\n",
       "                        <td id=\"T_a291487a_2c7a_11ed_ae3f_0242ac110002row41_col1\" class=\"data row41 col1\" >None</td>\n",
       "            </tr>\n",
       "            <tr>\n",
       "                        <th id=\"T_a291487a_2c7a_11ed_ae3f_0242ac110002level0_row42\" class=\"row_heading level0 row42\" >42</th>\n",
       "                        <td id=\"T_a291487a_2c7a_11ed_ae3f_0242ac110002row42_col0\" class=\"data row42 col0\" >Remove Multicollinearity</td>\n",
       "                        <td id=\"T_a291487a_2c7a_11ed_ae3f_0242ac110002row42_col1\" class=\"data row42 col1\" >False</td>\n",
       "            </tr>\n",
       "            <tr>\n",
       "                        <th id=\"T_a291487a_2c7a_11ed_ae3f_0242ac110002level0_row43\" class=\"row_heading level0 row43\" >43</th>\n",
       "                        <td id=\"T_a291487a_2c7a_11ed_ae3f_0242ac110002row43_col0\" class=\"data row43 col0\" >Multicollinearity Threshold</td>\n",
       "                        <td id=\"T_a291487a_2c7a_11ed_ae3f_0242ac110002row43_col1\" class=\"data row43 col1\" >None</td>\n",
       "            </tr>\n",
       "            <tr>\n",
       "                        <th id=\"T_a291487a_2c7a_11ed_ae3f_0242ac110002level0_row44\" class=\"row_heading level0 row44\" >44</th>\n",
       "                        <td id=\"T_a291487a_2c7a_11ed_ae3f_0242ac110002row44_col0\" class=\"data row44 col0\" >Remove Perfect Collinearity</td>\n",
       "                        <td id=\"T_a291487a_2c7a_11ed_ae3f_0242ac110002row44_col1\" class=\"data row44 col1\" >True</td>\n",
       "            </tr>\n",
       "            <tr>\n",
       "                        <th id=\"T_a291487a_2c7a_11ed_ae3f_0242ac110002level0_row45\" class=\"row_heading level0 row45\" >45</th>\n",
       "                        <td id=\"T_a291487a_2c7a_11ed_ae3f_0242ac110002row45_col0\" class=\"data row45 col0\" >Clustering</td>\n",
       "                        <td id=\"T_a291487a_2c7a_11ed_ae3f_0242ac110002row45_col1\" class=\"data row45 col1\" >False</td>\n",
       "            </tr>\n",
       "            <tr>\n",
       "                        <th id=\"T_a291487a_2c7a_11ed_ae3f_0242ac110002level0_row46\" class=\"row_heading level0 row46\" >46</th>\n",
       "                        <td id=\"T_a291487a_2c7a_11ed_ae3f_0242ac110002row46_col0\" class=\"data row46 col0\" >Clustering Iteration</td>\n",
       "                        <td id=\"T_a291487a_2c7a_11ed_ae3f_0242ac110002row46_col1\" class=\"data row46 col1\" >None</td>\n",
       "            </tr>\n",
       "            <tr>\n",
       "                        <th id=\"T_a291487a_2c7a_11ed_ae3f_0242ac110002level0_row47\" class=\"row_heading level0 row47\" >47</th>\n",
       "                        <td id=\"T_a291487a_2c7a_11ed_ae3f_0242ac110002row47_col0\" class=\"data row47 col0\" >Polynomial Features</td>\n",
       "                        <td id=\"T_a291487a_2c7a_11ed_ae3f_0242ac110002row47_col1\" class=\"data row47 col1\" >False</td>\n",
       "            </tr>\n",
       "            <tr>\n",
       "                        <th id=\"T_a291487a_2c7a_11ed_ae3f_0242ac110002level0_row48\" class=\"row_heading level0 row48\" >48</th>\n",
       "                        <td id=\"T_a291487a_2c7a_11ed_ae3f_0242ac110002row48_col0\" class=\"data row48 col0\" >Polynomial Degree</td>\n",
       "                        <td id=\"T_a291487a_2c7a_11ed_ae3f_0242ac110002row48_col1\" class=\"data row48 col1\" >None</td>\n",
       "            </tr>\n",
       "            <tr>\n",
       "                        <th id=\"T_a291487a_2c7a_11ed_ae3f_0242ac110002level0_row49\" class=\"row_heading level0 row49\" >49</th>\n",
       "                        <td id=\"T_a291487a_2c7a_11ed_ae3f_0242ac110002row49_col0\" class=\"data row49 col0\" >Trignometry Features</td>\n",
       "                        <td id=\"T_a291487a_2c7a_11ed_ae3f_0242ac110002row49_col1\" class=\"data row49 col1\" >False</td>\n",
       "            </tr>\n",
       "            <tr>\n",
       "                        <th id=\"T_a291487a_2c7a_11ed_ae3f_0242ac110002level0_row50\" class=\"row_heading level0 row50\" >50</th>\n",
       "                        <td id=\"T_a291487a_2c7a_11ed_ae3f_0242ac110002row50_col0\" class=\"data row50 col0\" >Polynomial Threshold</td>\n",
       "                        <td id=\"T_a291487a_2c7a_11ed_ae3f_0242ac110002row50_col1\" class=\"data row50 col1\" >None</td>\n",
       "            </tr>\n",
       "            <tr>\n",
       "                        <th id=\"T_a291487a_2c7a_11ed_ae3f_0242ac110002level0_row51\" class=\"row_heading level0 row51\" >51</th>\n",
       "                        <td id=\"T_a291487a_2c7a_11ed_ae3f_0242ac110002row51_col0\" class=\"data row51 col0\" >Group Features</td>\n",
       "                        <td id=\"T_a291487a_2c7a_11ed_ae3f_0242ac110002row51_col1\" class=\"data row51 col1\" >False</td>\n",
       "            </tr>\n",
       "            <tr>\n",
       "                        <th id=\"T_a291487a_2c7a_11ed_ae3f_0242ac110002level0_row52\" class=\"row_heading level0 row52\" >52</th>\n",
       "                        <td id=\"T_a291487a_2c7a_11ed_ae3f_0242ac110002row52_col0\" class=\"data row52 col0\" >Feature Selection</td>\n",
       "                        <td id=\"T_a291487a_2c7a_11ed_ae3f_0242ac110002row52_col1\" class=\"data row52 col1\" >False</td>\n",
       "            </tr>\n",
       "            <tr>\n",
       "                        <th id=\"T_a291487a_2c7a_11ed_ae3f_0242ac110002level0_row53\" class=\"row_heading level0 row53\" >53</th>\n",
       "                        <td id=\"T_a291487a_2c7a_11ed_ae3f_0242ac110002row53_col0\" class=\"data row53 col0\" >Feature Selection Method</td>\n",
       "                        <td id=\"T_a291487a_2c7a_11ed_ae3f_0242ac110002row53_col1\" class=\"data row53 col1\" >classic</td>\n",
       "            </tr>\n",
       "            <tr>\n",
       "                        <th id=\"T_a291487a_2c7a_11ed_ae3f_0242ac110002level0_row54\" class=\"row_heading level0 row54\" >54</th>\n",
       "                        <td id=\"T_a291487a_2c7a_11ed_ae3f_0242ac110002row54_col0\" class=\"data row54 col0\" >Features Selection Threshold</td>\n",
       "                        <td id=\"T_a291487a_2c7a_11ed_ae3f_0242ac110002row54_col1\" class=\"data row54 col1\" >None</td>\n",
       "            </tr>\n",
       "            <tr>\n",
       "                        <th id=\"T_a291487a_2c7a_11ed_ae3f_0242ac110002level0_row55\" class=\"row_heading level0 row55\" >55</th>\n",
       "                        <td id=\"T_a291487a_2c7a_11ed_ae3f_0242ac110002row55_col0\" class=\"data row55 col0\" >Feature Interaction</td>\n",
       "                        <td id=\"T_a291487a_2c7a_11ed_ae3f_0242ac110002row55_col1\" class=\"data row55 col1\" >False</td>\n",
       "            </tr>\n",
       "            <tr>\n",
       "                        <th id=\"T_a291487a_2c7a_11ed_ae3f_0242ac110002level0_row56\" class=\"row_heading level0 row56\" >56</th>\n",
       "                        <td id=\"T_a291487a_2c7a_11ed_ae3f_0242ac110002row56_col0\" class=\"data row56 col0\" >Feature Ratio</td>\n",
       "                        <td id=\"T_a291487a_2c7a_11ed_ae3f_0242ac110002row56_col1\" class=\"data row56 col1\" >False</td>\n",
       "            </tr>\n",
       "            <tr>\n",
       "                        <th id=\"T_a291487a_2c7a_11ed_ae3f_0242ac110002level0_row57\" class=\"row_heading level0 row57\" >57</th>\n",
       "                        <td id=\"T_a291487a_2c7a_11ed_ae3f_0242ac110002row57_col0\" class=\"data row57 col0\" >Interaction Threshold</td>\n",
       "                        <td id=\"T_a291487a_2c7a_11ed_ae3f_0242ac110002row57_col1\" class=\"data row57 col1\" >None</td>\n",
       "            </tr>\n",
       "            <tr>\n",
       "                        <th id=\"T_a291487a_2c7a_11ed_ae3f_0242ac110002level0_row58\" class=\"row_heading level0 row58\" >58</th>\n",
       "                        <td id=\"T_a291487a_2c7a_11ed_ae3f_0242ac110002row58_col0\" class=\"data row58 col0\" >Fix Imbalance</td>\n",
       "                        <td id=\"T_a291487a_2c7a_11ed_ae3f_0242ac110002row58_col1\" class=\"data row58 col1\" >False</td>\n",
       "            </tr>\n",
       "            <tr>\n",
       "                        <th id=\"T_a291487a_2c7a_11ed_ae3f_0242ac110002level0_row59\" class=\"row_heading level0 row59\" >59</th>\n",
       "                        <td id=\"T_a291487a_2c7a_11ed_ae3f_0242ac110002row59_col0\" class=\"data row59 col0\" >Fix Imbalance Method</td>\n",
       "                        <td id=\"T_a291487a_2c7a_11ed_ae3f_0242ac110002row59_col1\" class=\"data row59 col1\" >SMOTE</td>\n",
       "            </tr>\n",
       "    </tbody></table>"
      ],
      "text/plain": [
       "<pandas.io.formats.style.Styler at 0x7f1d54b86978>"
      ]
     },
     "metadata": {},
     "output_type": "display_data"
    }
   ],
   "source": [
    "auto_ml = classification.setup(data=train, target='ProdTaken', fold_strategy='stratifiedkfold')"
   ]
  },
  {
   "cell_type": "code",
   "execution_count": 55,
   "metadata": {},
   "outputs": [
    {
     "data": {
      "text/html": [
       "<style  type=\"text/css\" >\n",
       "    #T_b02fbb6a_2c7a_11ed_ae3f_0242ac110002 th {\n",
       "          text-align: left;\n",
       "    }#T_b02fbb6a_2c7a_11ed_ae3f_0242ac110002row0_col0,#T_b02fbb6a_2c7a_11ed_ae3f_0242ac110002row0_col3,#T_b02fbb6a_2c7a_11ed_ae3f_0242ac110002row0_col4,#T_b02fbb6a_2c7a_11ed_ae3f_0242ac110002row0_col5,#T_b02fbb6a_2c7a_11ed_ae3f_0242ac110002row0_col6,#T_b02fbb6a_2c7a_11ed_ae3f_0242ac110002row0_col7,#T_b02fbb6a_2c7a_11ed_ae3f_0242ac110002row1_col0,#T_b02fbb6a_2c7a_11ed_ae3f_0242ac110002row1_col1,#T_b02fbb6a_2c7a_11ed_ae3f_0242ac110002row1_col2,#T_b02fbb6a_2c7a_11ed_ae3f_0242ac110002row1_col3,#T_b02fbb6a_2c7a_11ed_ae3f_0242ac110002row1_col4,#T_b02fbb6a_2c7a_11ed_ae3f_0242ac110002row2_col0,#T_b02fbb6a_2c7a_11ed_ae3f_0242ac110002row2_col1,#T_b02fbb6a_2c7a_11ed_ae3f_0242ac110002row2_col2,#T_b02fbb6a_2c7a_11ed_ae3f_0242ac110002row2_col3,#T_b02fbb6a_2c7a_11ed_ae3f_0242ac110002row2_col5,#T_b02fbb6a_2c7a_11ed_ae3f_0242ac110002row2_col6,#T_b02fbb6a_2c7a_11ed_ae3f_0242ac110002row2_col7,#T_b02fbb6a_2c7a_11ed_ae3f_0242ac110002row3_col0,#T_b02fbb6a_2c7a_11ed_ae3f_0242ac110002row3_col1,#T_b02fbb6a_2c7a_11ed_ae3f_0242ac110002row3_col2,#T_b02fbb6a_2c7a_11ed_ae3f_0242ac110002row3_col3,#T_b02fbb6a_2c7a_11ed_ae3f_0242ac110002row3_col4,#T_b02fbb6a_2c7a_11ed_ae3f_0242ac110002row3_col5,#T_b02fbb6a_2c7a_11ed_ae3f_0242ac110002row3_col6,#T_b02fbb6a_2c7a_11ed_ae3f_0242ac110002row3_col7,#T_b02fbb6a_2c7a_11ed_ae3f_0242ac110002row4_col0,#T_b02fbb6a_2c7a_11ed_ae3f_0242ac110002row4_col1,#T_b02fbb6a_2c7a_11ed_ae3f_0242ac110002row4_col2,#T_b02fbb6a_2c7a_11ed_ae3f_0242ac110002row4_col3,#T_b02fbb6a_2c7a_11ed_ae3f_0242ac110002row4_col4,#T_b02fbb6a_2c7a_11ed_ae3f_0242ac110002row4_col5,#T_b02fbb6a_2c7a_11ed_ae3f_0242ac110002row4_col6,#T_b02fbb6a_2c7a_11ed_ae3f_0242ac110002row4_col7,#T_b02fbb6a_2c7a_11ed_ae3f_0242ac110002row5_col0,#T_b02fbb6a_2c7a_11ed_ae3f_0242ac110002row5_col1,#T_b02fbb6a_2c7a_11ed_ae3f_0242ac110002row5_col2,#T_b02fbb6a_2c7a_11ed_ae3f_0242ac110002row5_col3,#T_b02fbb6a_2c7a_11ed_ae3f_0242ac110002row5_col4,#T_b02fbb6a_2c7a_11ed_ae3f_0242ac110002row5_col5,#T_b02fbb6a_2c7a_11ed_ae3f_0242ac110002row5_col6,#T_b02fbb6a_2c7a_11ed_ae3f_0242ac110002row5_col7,#T_b02fbb6a_2c7a_11ed_ae3f_0242ac110002row6_col0,#T_b02fbb6a_2c7a_11ed_ae3f_0242ac110002row6_col1,#T_b02fbb6a_2c7a_11ed_ae3f_0242ac110002row6_col2,#T_b02fbb6a_2c7a_11ed_ae3f_0242ac110002row6_col3,#T_b02fbb6a_2c7a_11ed_ae3f_0242ac110002row6_col4,#T_b02fbb6a_2c7a_11ed_ae3f_0242ac110002row6_col5,#T_b02fbb6a_2c7a_11ed_ae3f_0242ac110002row6_col6,#T_b02fbb6a_2c7a_11ed_ae3f_0242ac110002row6_col7,#T_b02fbb6a_2c7a_11ed_ae3f_0242ac110002row7_col0,#T_b02fbb6a_2c7a_11ed_ae3f_0242ac110002row7_col1,#T_b02fbb6a_2c7a_11ed_ae3f_0242ac110002row7_col2,#T_b02fbb6a_2c7a_11ed_ae3f_0242ac110002row7_col3,#T_b02fbb6a_2c7a_11ed_ae3f_0242ac110002row7_col4,#T_b02fbb6a_2c7a_11ed_ae3f_0242ac110002row7_col5,#T_b02fbb6a_2c7a_11ed_ae3f_0242ac110002row7_col6,#T_b02fbb6a_2c7a_11ed_ae3f_0242ac110002row7_col7,#T_b02fbb6a_2c7a_11ed_ae3f_0242ac110002row8_col0,#T_b02fbb6a_2c7a_11ed_ae3f_0242ac110002row8_col1,#T_b02fbb6a_2c7a_11ed_ae3f_0242ac110002row8_col2,#T_b02fbb6a_2c7a_11ed_ae3f_0242ac110002row8_col3,#T_b02fbb6a_2c7a_11ed_ae3f_0242ac110002row8_col4,#T_b02fbb6a_2c7a_11ed_ae3f_0242ac110002row8_col5,#T_b02fbb6a_2c7a_11ed_ae3f_0242ac110002row8_col6,#T_b02fbb6a_2c7a_11ed_ae3f_0242ac110002row8_col7,#T_b02fbb6a_2c7a_11ed_ae3f_0242ac110002row9_col0,#T_b02fbb6a_2c7a_11ed_ae3f_0242ac110002row9_col1,#T_b02fbb6a_2c7a_11ed_ae3f_0242ac110002row9_col2,#T_b02fbb6a_2c7a_11ed_ae3f_0242ac110002row9_col3,#T_b02fbb6a_2c7a_11ed_ae3f_0242ac110002row9_col4,#T_b02fbb6a_2c7a_11ed_ae3f_0242ac110002row9_col5,#T_b02fbb6a_2c7a_11ed_ae3f_0242ac110002row9_col6,#T_b02fbb6a_2c7a_11ed_ae3f_0242ac110002row9_col7,#T_b02fbb6a_2c7a_11ed_ae3f_0242ac110002row10_col0,#T_b02fbb6a_2c7a_11ed_ae3f_0242ac110002row10_col1,#T_b02fbb6a_2c7a_11ed_ae3f_0242ac110002row10_col2,#T_b02fbb6a_2c7a_11ed_ae3f_0242ac110002row10_col3,#T_b02fbb6a_2c7a_11ed_ae3f_0242ac110002row10_col4,#T_b02fbb6a_2c7a_11ed_ae3f_0242ac110002row10_col5,#T_b02fbb6a_2c7a_11ed_ae3f_0242ac110002row10_col6,#T_b02fbb6a_2c7a_11ed_ae3f_0242ac110002row10_col7,#T_b02fbb6a_2c7a_11ed_ae3f_0242ac110002row11_col0,#T_b02fbb6a_2c7a_11ed_ae3f_0242ac110002row11_col1,#T_b02fbb6a_2c7a_11ed_ae3f_0242ac110002row11_col2,#T_b02fbb6a_2c7a_11ed_ae3f_0242ac110002row11_col3,#T_b02fbb6a_2c7a_11ed_ae3f_0242ac110002row11_col4,#T_b02fbb6a_2c7a_11ed_ae3f_0242ac110002row11_col5,#T_b02fbb6a_2c7a_11ed_ae3f_0242ac110002row11_col6,#T_b02fbb6a_2c7a_11ed_ae3f_0242ac110002row11_col7,#T_b02fbb6a_2c7a_11ed_ae3f_0242ac110002row12_col0,#T_b02fbb6a_2c7a_11ed_ae3f_0242ac110002row12_col1,#T_b02fbb6a_2c7a_11ed_ae3f_0242ac110002row12_col2,#T_b02fbb6a_2c7a_11ed_ae3f_0242ac110002row12_col3,#T_b02fbb6a_2c7a_11ed_ae3f_0242ac110002row12_col4,#T_b02fbb6a_2c7a_11ed_ae3f_0242ac110002row12_col5,#T_b02fbb6a_2c7a_11ed_ae3f_0242ac110002row12_col6,#T_b02fbb6a_2c7a_11ed_ae3f_0242ac110002row12_col7,#T_b02fbb6a_2c7a_11ed_ae3f_0242ac110002row13_col0,#T_b02fbb6a_2c7a_11ed_ae3f_0242ac110002row13_col1,#T_b02fbb6a_2c7a_11ed_ae3f_0242ac110002row13_col2,#T_b02fbb6a_2c7a_11ed_ae3f_0242ac110002row13_col4,#T_b02fbb6a_2c7a_11ed_ae3f_0242ac110002row13_col5,#T_b02fbb6a_2c7a_11ed_ae3f_0242ac110002row13_col6,#T_b02fbb6a_2c7a_11ed_ae3f_0242ac110002row13_col7{\n",
       "            text-align:  left;\n",
       "            text-align:  left;\n",
       "        }#T_b02fbb6a_2c7a_11ed_ae3f_0242ac110002row0_col1,#T_b02fbb6a_2c7a_11ed_ae3f_0242ac110002row0_col2,#T_b02fbb6a_2c7a_11ed_ae3f_0242ac110002row1_col5,#T_b02fbb6a_2c7a_11ed_ae3f_0242ac110002row1_col6,#T_b02fbb6a_2c7a_11ed_ae3f_0242ac110002row1_col7,#T_b02fbb6a_2c7a_11ed_ae3f_0242ac110002row2_col4,#T_b02fbb6a_2c7a_11ed_ae3f_0242ac110002row13_col3{\n",
       "            text-align:  left;\n",
       "            text-align:  left;\n",
       "            background-color:  yellow;\n",
       "        }#T_b02fbb6a_2c7a_11ed_ae3f_0242ac110002row0_col8,#T_b02fbb6a_2c7a_11ed_ae3f_0242ac110002row1_col8,#T_b02fbb6a_2c7a_11ed_ae3f_0242ac110002row2_col8,#T_b02fbb6a_2c7a_11ed_ae3f_0242ac110002row3_col8,#T_b02fbb6a_2c7a_11ed_ae3f_0242ac110002row4_col8,#T_b02fbb6a_2c7a_11ed_ae3f_0242ac110002row5_col8,#T_b02fbb6a_2c7a_11ed_ae3f_0242ac110002row6_col8,#T_b02fbb6a_2c7a_11ed_ae3f_0242ac110002row7_col8,#T_b02fbb6a_2c7a_11ed_ae3f_0242ac110002row8_col8,#T_b02fbb6a_2c7a_11ed_ae3f_0242ac110002row10_col8,#T_b02fbb6a_2c7a_11ed_ae3f_0242ac110002row11_col8,#T_b02fbb6a_2c7a_11ed_ae3f_0242ac110002row12_col8,#T_b02fbb6a_2c7a_11ed_ae3f_0242ac110002row13_col8{\n",
       "            text-align:  left;\n",
       "            text-align:  left;\n",
       "            background-color:  lightgrey;\n",
       "        }#T_b02fbb6a_2c7a_11ed_ae3f_0242ac110002row9_col8{\n",
       "            text-align:  left;\n",
       "            text-align:  left;\n",
       "            background-color:  yellow;\n",
       "            background-color:  lightgrey;\n",
       "        }</style><table id=\"T_b02fbb6a_2c7a_11ed_ae3f_0242ac110002\" ><thead>    <tr>        <th class=\"blank level0\" ></th>        <th class=\"col_heading level0 col0\" >Model</th>        <th class=\"col_heading level0 col1\" >Accuracy</th>        <th class=\"col_heading level0 col2\" >AUC</th>        <th class=\"col_heading level0 col3\" >Recall</th>        <th class=\"col_heading level0 col4\" >Prec.</th>        <th class=\"col_heading level0 col5\" >F1</th>        <th class=\"col_heading level0 col6\" >Kappa</th>        <th class=\"col_heading level0 col7\" >MCC</th>        <th class=\"col_heading level0 col8\" >TT (Sec)</th>    </tr></thead><tbody>\n",
       "                <tr>\n",
       "                        <th id=\"T_b02fbb6a_2c7a_11ed_ae3f_0242ac110002level0_row0\" class=\"row_heading level0 row0\" >et</th>\n",
       "                        <td id=\"T_b02fbb6a_2c7a_11ed_ae3f_0242ac110002row0_col0\" class=\"data row0 col0\" >Extra Trees Classifier</td>\n",
       "                        <td id=\"T_b02fbb6a_2c7a_11ed_ae3f_0242ac110002row0_col1\" class=\"data row0 col1\" >0.867</td>\n",
       "                        <td id=\"T_b02fbb6a_2c7a_11ed_ae3f_0242ac110002row0_col2\" class=\"data row0 col2\" >0.849</td>\n",
       "                        <td id=\"T_b02fbb6a_2c7a_11ed_ae3f_0242ac110002row0_col3\" class=\"data row0 col3\" >0.349</td>\n",
       "                        <td id=\"T_b02fbb6a_2c7a_11ed_ae3f_0242ac110002row0_col4\" class=\"data row0 col4\" >0.882</td>\n",
       "                        <td id=\"T_b02fbb6a_2c7a_11ed_ae3f_0242ac110002row0_col5\" class=\"data row0 col5\" >0.487</td>\n",
       "                        <td id=\"T_b02fbb6a_2c7a_11ed_ae3f_0242ac110002row0_col6\" class=\"data row0 col6\" >0.430</td>\n",
       "                        <td id=\"T_b02fbb6a_2c7a_11ed_ae3f_0242ac110002row0_col7\" class=\"data row0 col7\" >0.494</td>\n",
       "                        <td id=\"T_b02fbb6a_2c7a_11ed_ae3f_0242ac110002row0_col8\" class=\"data row0 col8\" >0.352</td>\n",
       "            </tr>\n",
       "            <tr>\n",
       "                        <th id=\"T_b02fbb6a_2c7a_11ed_ae3f_0242ac110002level0_row1\" class=\"row_heading level0 row1\" >lightgbm</th>\n",
       "                        <td id=\"T_b02fbb6a_2c7a_11ed_ae3f_0242ac110002row1_col0\" class=\"data row1 col0\" >Light Gradient Boosting Machine</td>\n",
       "                        <td id=\"T_b02fbb6a_2c7a_11ed_ae3f_0242ac110002row1_col1\" class=\"data row1 col1\" >0.864</td>\n",
       "                        <td id=\"T_b02fbb6a_2c7a_11ed_ae3f_0242ac110002row1_col2\" class=\"data row1 col2\" >0.810</td>\n",
       "                        <td id=\"T_b02fbb6a_2c7a_11ed_ae3f_0242ac110002row1_col3\" class=\"data row1 col3\" >0.427</td>\n",
       "                        <td id=\"T_b02fbb6a_2c7a_11ed_ae3f_0242ac110002row1_col4\" class=\"data row1 col4\" >0.752</td>\n",
       "                        <td id=\"T_b02fbb6a_2c7a_11ed_ae3f_0242ac110002row1_col5\" class=\"data row1 col5\" >0.538</td>\n",
       "                        <td id=\"T_b02fbb6a_2c7a_11ed_ae3f_0242ac110002row1_col6\" class=\"data row1 col6\" >0.467</td>\n",
       "                        <td id=\"T_b02fbb6a_2c7a_11ed_ae3f_0242ac110002row1_col7\" class=\"data row1 col7\" >0.495</td>\n",
       "                        <td id=\"T_b02fbb6a_2c7a_11ed_ae3f_0242ac110002row1_col8\" class=\"data row1 col8\" >0.037</td>\n",
       "            </tr>\n",
       "            <tr>\n",
       "                        <th id=\"T_b02fbb6a_2c7a_11ed_ae3f_0242ac110002level0_row2\" class=\"row_heading level0 row2\" >rf</th>\n",
       "                        <td id=\"T_b02fbb6a_2c7a_11ed_ae3f_0242ac110002row2_col0\" class=\"data row2 col0\" >Random Forest Classifier</td>\n",
       "                        <td id=\"T_b02fbb6a_2c7a_11ed_ae3f_0242ac110002row2_col1\" class=\"data row2 col1\" >0.857</td>\n",
       "                        <td id=\"T_b02fbb6a_2c7a_11ed_ae3f_0242ac110002row2_col2\" class=\"data row2 col2\" >0.843</td>\n",
       "                        <td id=\"T_b02fbb6a_2c7a_11ed_ae3f_0242ac110002row2_col3\" class=\"data row2 col3\" >0.280</td>\n",
       "                        <td id=\"T_b02fbb6a_2c7a_11ed_ae3f_0242ac110002row2_col4\" class=\"data row2 col4\" >0.883</td>\n",
       "                        <td id=\"T_b02fbb6a_2c7a_11ed_ae3f_0242ac110002row2_col5\" class=\"data row2 col5\" >0.412</td>\n",
       "                        <td id=\"T_b02fbb6a_2c7a_11ed_ae3f_0242ac110002row2_col6\" class=\"data row2 col6\" >0.359</td>\n",
       "                        <td id=\"T_b02fbb6a_2c7a_11ed_ae3f_0242ac110002row2_col7\" class=\"data row2 col7\" >0.438</td>\n",
       "                        <td id=\"T_b02fbb6a_2c7a_11ed_ae3f_0242ac110002row2_col8\" class=\"data row2 col8\" >0.414</td>\n",
       "            </tr>\n",
       "            <tr>\n",
       "                        <th id=\"T_b02fbb6a_2c7a_11ed_ae3f_0242ac110002level0_row3\" class=\"row_heading level0 row3\" >lr</th>\n",
       "                        <td id=\"T_b02fbb6a_2c7a_11ed_ae3f_0242ac110002row3_col0\" class=\"data row3 col0\" >Logistic Regression</td>\n",
       "                        <td id=\"T_b02fbb6a_2c7a_11ed_ae3f_0242ac110002row3_col1\" class=\"data row3 col1\" >0.855</td>\n",
       "                        <td id=\"T_b02fbb6a_2c7a_11ed_ae3f_0242ac110002row3_col2\" class=\"data row3 col2\" >0.778</td>\n",
       "                        <td id=\"T_b02fbb6a_2c7a_11ed_ae3f_0242ac110002row3_col3\" class=\"data row3 col3\" >0.370</td>\n",
       "                        <td id=\"T_b02fbb6a_2c7a_11ed_ae3f_0242ac110002row3_col4\" class=\"data row3 col4\" >0.744</td>\n",
       "                        <td id=\"T_b02fbb6a_2c7a_11ed_ae3f_0242ac110002row3_col5\" class=\"data row3 col5\" >0.492</td>\n",
       "                        <td id=\"T_b02fbb6a_2c7a_11ed_ae3f_0242ac110002row3_col6\" class=\"data row3 col6\" >0.418</td>\n",
       "                        <td id=\"T_b02fbb6a_2c7a_11ed_ae3f_0242ac110002row3_col7\" class=\"data row3 col7\" >0.454</td>\n",
       "                        <td id=\"T_b02fbb6a_2c7a_11ed_ae3f_0242ac110002row3_col8\" class=\"data row3 col8\" >0.331</td>\n",
       "            </tr>\n",
       "            <tr>\n",
       "                        <th id=\"T_b02fbb6a_2c7a_11ed_ae3f_0242ac110002level0_row4\" class=\"row_heading level0 row4\" >lda</th>\n",
       "                        <td id=\"T_b02fbb6a_2c7a_11ed_ae3f_0242ac110002row4_col0\" class=\"data row4 col0\" >Linear Discriminant Analysis</td>\n",
       "                        <td id=\"T_b02fbb6a_2c7a_11ed_ae3f_0242ac110002row4_col1\" class=\"data row4 col1\" >0.854</td>\n",
       "                        <td id=\"T_b02fbb6a_2c7a_11ed_ae3f_0242ac110002row4_col2\" class=\"data row4 col2\" >0.776</td>\n",
       "                        <td id=\"T_b02fbb6a_2c7a_11ed_ae3f_0242ac110002row4_col3\" class=\"data row4 col3\" >0.415</td>\n",
       "                        <td id=\"T_b02fbb6a_2c7a_11ed_ae3f_0242ac110002row4_col4\" class=\"data row4 col4\" >0.702</td>\n",
       "                        <td id=\"T_b02fbb6a_2c7a_11ed_ae3f_0242ac110002row4_col5\" class=\"data row4 col5\" >0.520</td>\n",
       "                        <td id=\"T_b02fbb6a_2c7a_11ed_ae3f_0242ac110002row4_col6\" class=\"data row4 col6\" >0.440</td>\n",
       "                        <td id=\"T_b02fbb6a_2c7a_11ed_ae3f_0242ac110002row4_col7\" class=\"data row4 col7\" >0.462</td>\n",
       "                        <td id=\"T_b02fbb6a_2c7a_11ed_ae3f_0242ac110002row4_col8\" class=\"data row4 col8\" >0.019</td>\n",
       "            </tr>\n",
       "            <tr>\n",
       "                        <th id=\"T_b02fbb6a_2c7a_11ed_ae3f_0242ac110002level0_row5\" class=\"row_heading level0 row5\" >gbc</th>\n",
       "                        <td id=\"T_b02fbb6a_2c7a_11ed_ae3f_0242ac110002row5_col0\" class=\"data row5 col0\" >Gradient Boosting Classifier</td>\n",
       "                        <td id=\"T_b02fbb6a_2c7a_11ed_ae3f_0242ac110002row5_col1\" class=\"data row5 col1\" >0.853</td>\n",
       "                        <td id=\"T_b02fbb6a_2c7a_11ed_ae3f_0242ac110002row5_col2\" class=\"data row5 col2\" >0.790</td>\n",
       "                        <td id=\"T_b02fbb6a_2c7a_11ed_ae3f_0242ac110002row5_col3\" class=\"data row5 col3\" >0.378</td>\n",
       "                        <td id=\"T_b02fbb6a_2c7a_11ed_ae3f_0242ac110002row5_col4\" class=\"data row5 col4\" >0.715</td>\n",
       "                        <td id=\"T_b02fbb6a_2c7a_11ed_ae3f_0242ac110002row5_col5\" class=\"data row5 col5\" >0.490</td>\n",
       "                        <td id=\"T_b02fbb6a_2c7a_11ed_ae3f_0242ac110002row5_col6\" class=\"data row5 col6\" >0.415</td>\n",
       "                        <td id=\"T_b02fbb6a_2c7a_11ed_ae3f_0242ac110002row5_col7\" class=\"data row5 col7\" >0.445</td>\n",
       "                        <td id=\"T_b02fbb6a_2c7a_11ed_ae3f_0242ac110002row5_col8\" class=\"data row5 col8\" >0.102</td>\n",
       "            </tr>\n",
       "            <tr>\n",
       "                        <th id=\"T_b02fbb6a_2c7a_11ed_ae3f_0242ac110002level0_row6\" class=\"row_heading level0 row6\" >ridge</th>\n",
       "                        <td id=\"T_b02fbb6a_2c7a_11ed_ae3f_0242ac110002row6_col0\" class=\"data row6 col0\" >Ridge Classifier</td>\n",
       "                        <td id=\"T_b02fbb6a_2c7a_11ed_ae3f_0242ac110002row6_col1\" class=\"data row6 col1\" >0.846</td>\n",
       "                        <td id=\"T_b02fbb6a_2c7a_11ed_ae3f_0242ac110002row6_col2\" class=\"data row6 col2\" >0.000</td>\n",
       "                        <td id=\"T_b02fbb6a_2c7a_11ed_ae3f_0242ac110002row6_col3\" class=\"data row6 col3\" >0.268</td>\n",
       "                        <td id=\"T_b02fbb6a_2c7a_11ed_ae3f_0242ac110002row6_col4\" class=\"data row6 col4\" >0.777</td>\n",
       "                        <td id=\"T_b02fbb6a_2c7a_11ed_ae3f_0242ac110002row6_col5\" class=\"data row6 col5\" >0.394</td>\n",
       "                        <td id=\"T_b02fbb6a_2c7a_11ed_ae3f_0242ac110002row6_col6\" class=\"data row6 col6\" >0.329</td>\n",
       "                        <td id=\"T_b02fbb6a_2c7a_11ed_ae3f_0242ac110002row6_col7\" class=\"data row6 col7\" >0.393</td>\n",
       "                        <td id=\"T_b02fbb6a_2c7a_11ed_ae3f_0242ac110002row6_col8\" class=\"data row6 col8\" >0.015</td>\n",
       "            </tr>\n",
       "            <tr>\n",
       "                        <th id=\"T_b02fbb6a_2c7a_11ed_ae3f_0242ac110002level0_row7\" class=\"row_heading level0 row7\" >ada</th>\n",
       "                        <td id=\"T_b02fbb6a_2c7a_11ed_ae3f_0242ac110002row7_col0\" class=\"data row7 col0\" >Ada Boost Classifier</td>\n",
       "                        <td id=\"T_b02fbb6a_2c7a_11ed_ae3f_0242ac110002row7_col1\" class=\"data row7 col1\" >0.845</td>\n",
       "                        <td id=\"T_b02fbb6a_2c7a_11ed_ae3f_0242ac110002row7_col2\" class=\"data row7 col2\" >0.764</td>\n",
       "                        <td id=\"T_b02fbb6a_2c7a_11ed_ae3f_0242ac110002row7_col3\" class=\"data row7 col3\" >0.321</td>\n",
       "                        <td id=\"T_b02fbb6a_2c7a_11ed_ae3f_0242ac110002row7_col4\" class=\"data row7 col4\" >0.711</td>\n",
       "                        <td id=\"T_b02fbb6a_2c7a_11ed_ae3f_0242ac110002row7_col5\" class=\"data row7 col5\" >0.438</td>\n",
       "                        <td id=\"T_b02fbb6a_2c7a_11ed_ae3f_0242ac110002row7_col6\" class=\"data row7 col6\" >0.363</td>\n",
       "                        <td id=\"T_b02fbb6a_2c7a_11ed_ae3f_0242ac110002row7_col7\" class=\"data row7 col7\" >0.404</td>\n",
       "                        <td id=\"T_b02fbb6a_2c7a_11ed_ae3f_0242ac110002row7_col8\" class=\"data row7 col8\" >0.065</td>\n",
       "            </tr>\n",
       "            <tr>\n",
       "                        <th id=\"T_b02fbb6a_2c7a_11ed_ae3f_0242ac110002level0_row8\" class=\"row_heading level0 row8\" >knn</th>\n",
       "                        <td id=\"T_b02fbb6a_2c7a_11ed_ae3f_0242ac110002row8_col0\" class=\"data row8 col0\" >K Neighbors Classifier</td>\n",
       "                        <td id=\"T_b02fbb6a_2c7a_11ed_ae3f_0242ac110002row8_col1\" class=\"data row8 col1\" >0.821</td>\n",
       "                        <td id=\"T_b02fbb6a_2c7a_11ed_ae3f_0242ac110002row8_col2\" class=\"data row8 col2\" >0.719</td>\n",
       "                        <td id=\"T_b02fbb6a_2c7a_11ed_ae3f_0242ac110002row8_col3\" class=\"data row8 col3\" >0.182</td>\n",
       "                        <td id=\"T_b02fbb6a_2c7a_11ed_ae3f_0242ac110002row8_col4\" class=\"data row8 col4\" >0.584</td>\n",
       "                        <td id=\"T_b02fbb6a_2c7a_11ed_ae3f_0242ac110002row8_col5\" class=\"data row8 col5\" >0.273</td>\n",
       "                        <td id=\"T_b02fbb6a_2c7a_11ed_ae3f_0242ac110002row8_col6\" class=\"data row8 col6\" >0.204</td>\n",
       "                        <td id=\"T_b02fbb6a_2c7a_11ed_ae3f_0242ac110002row8_col7\" class=\"data row8 col7\" >0.250</td>\n",
       "                        <td id=\"T_b02fbb6a_2c7a_11ed_ae3f_0242ac110002row8_col8\" class=\"data row8 col8\" >0.078</td>\n",
       "            </tr>\n",
       "            <tr>\n",
       "                        <th id=\"T_b02fbb6a_2c7a_11ed_ae3f_0242ac110002level0_row9\" class=\"row_heading level0 row9\" >dummy</th>\n",
       "                        <td id=\"T_b02fbb6a_2c7a_11ed_ae3f_0242ac110002row9_col0\" class=\"data row9 col0\" >Dummy Classifier</td>\n",
       "                        <td id=\"T_b02fbb6a_2c7a_11ed_ae3f_0242ac110002row9_col1\" class=\"data row9 col1\" >0.811</td>\n",
       "                        <td id=\"T_b02fbb6a_2c7a_11ed_ae3f_0242ac110002row9_col2\" class=\"data row9 col2\" >0.500</td>\n",
       "                        <td id=\"T_b02fbb6a_2c7a_11ed_ae3f_0242ac110002row9_col3\" class=\"data row9 col3\" >0.000</td>\n",
       "                        <td id=\"T_b02fbb6a_2c7a_11ed_ae3f_0242ac110002row9_col4\" class=\"data row9 col4\" >0.000</td>\n",
       "                        <td id=\"T_b02fbb6a_2c7a_11ed_ae3f_0242ac110002row9_col5\" class=\"data row9 col5\" >0.000</td>\n",
       "                        <td id=\"T_b02fbb6a_2c7a_11ed_ae3f_0242ac110002row9_col6\" class=\"data row9 col6\" >0.000</td>\n",
       "                        <td id=\"T_b02fbb6a_2c7a_11ed_ae3f_0242ac110002row9_col7\" class=\"data row9 col7\" >0.000</td>\n",
       "                        <td id=\"T_b02fbb6a_2c7a_11ed_ae3f_0242ac110002row9_col8\" class=\"data row9 col8\" >0.012</td>\n",
       "            </tr>\n",
       "            <tr>\n",
       "                        <th id=\"T_b02fbb6a_2c7a_11ed_ae3f_0242ac110002level0_row10\" class=\"row_heading level0 row10\" >svm</th>\n",
       "                        <td id=\"T_b02fbb6a_2c7a_11ed_ae3f_0242ac110002row10_col0\" class=\"data row10 col0\" >SVM - Linear Kernel</td>\n",
       "                        <td id=\"T_b02fbb6a_2c7a_11ed_ae3f_0242ac110002row10_col1\" class=\"data row10 col1\" >0.808</td>\n",
       "                        <td id=\"T_b02fbb6a_2c7a_11ed_ae3f_0242ac110002row10_col2\" class=\"data row10 col2\" >0.000</td>\n",
       "                        <td id=\"T_b02fbb6a_2c7a_11ed_ae3f_0242ac110002row10_col3\" class=\"data row10 col3\" >0.458</td>\n",
       "                        <td id=\"T_b02fbb6a_2c7a_11ed_ae3f_0242ac110002row10_col4\" class=\"data row10 col4\" >0.556</td>\n",
       "                        <td id=\"T_b02fbb6a_2c7a_11ed_ae3f_0242ac110002row10_col5\" class=\"data row10 col5\" >0.447</td>\n",
       "                        <td id=\"T_b02fbb6a_2c7a_11ed_ae3f_0242ac110002row10_col6\" class=\"data row10 col6\" >0.343</td>\n",
       "                        <td id=\"T_b02fbb6a_2c7a_11ed_ae3f_0242ac110002row10_col7\" class=\"data row10 col7\" >0.368</td>\n",
       "                        <td id=\"T_b02fbb6a_2c7a_11ed_ae3f_0242ac110002row10_col8\" class=\"data row10 col8\" >0.017</td>\n",
       "            </tr>\n",
       "            <tr>\n",
       "                        <th id=\"T_b02fbb6a_2c7a_11ed_ae3f_0242ac110002level0_row11\" class=\"row_heading level0 row11\" >dt</th>\n",
       "                        <td id=\"T_b02fbb6a_2c7a_11ed_ae3f_0242ac110002row11_col0\" class=\"data row11 col0\" >Decision Tree Classifier</td>\n",
       "                        <td id=\"T_b02fbb6a_2c7a_11ed_ae3f_0242ac110002row11_col1\" class=\"data row11 col1\" >0.783</td>\n",
       "                        <td id=\"T_b02fbb6a_2c7a_11ed_ae3f_0242ac110002row11_col2\" class=\"data row11 col2\" >0.665</td>\n",
       "                        <td id=\"T_b02fbb6a_2c7a_11ed_ae3f_0242ac110002row11_col3\" class=\"data row11 col3\" >0.477</td>\n",
       "                        <td id=\"T_b02fbb6a_2c7a_11ed_ae3f_0242ac110002row11_col4\" class=\"data row11 col4\" >0.430</td>\n",
       "                        <td id=\"T_b02fbb6a_2c7a_11ed_ae3f_0242ac110002row11_col5\" class=\"data row11 col5\" >0.449</td>\n",
       "                        <td id=\"T_b02fbb6a_2c7a_11ed_ae3f_0242ac110002row11_col6\" class=\"data row11 col6\" >0.315</td>\n",
       "                        <td id=\"T_b02fbb6a_2c7a_11ed_ae3f_0242ac110002row11_col7\" class=\"data row11 col7\" >0.317</td>\n",
       "                        <td id=\"T_b02fbb6a_2c7a_11ed_ae3f_0242ac110002row11_col8\" class=\"data row11 col8\" >0.017</td>\n",
       "            </tr>\n",
       "            <tr>\n",
       "                        <th id=\"T_b02fbb6a_2c7a_11ed_ae3f_0242ac110002level0_row12\" class=\"row_heading level0 row12\" >qda</th>\n",
       "                        <td id=\"T_b02fbb6a_2c7a_11ed_ae3f_0242ac110002row12_col0\" class=\"data row12 col0\" >Quadratic Discriminant Analysis</td>\n",
       "                        <td id=\"T_b02fbb6a_2c7a_11ed_ae3f_0242ac110002row12_col1\" class=\"data row12 col1\" >0.683</td>\n",
       "                        <td id=\"T_b02fbb6a_2c7a_11ed_ae3f_0242ac110002row12_col2\" class=\"data row12 col2\" >0.542</td>\n",
       "                        <td id=\"T_b02fbb6a_2c7a_11ed_ae3f_0242ac110002row12_col3\" class=\"data row12 col3\" >0.318</td>\n",
       "                        <td id=\"T_b02fbb6a_2c7a_11ed_ae3f_0242ac110002row12_col4\" class=\"data row12 col4\" >0.260</td>\n",
       "                        <td id=\"T_b02fbb6a_2c7a_11ed_ae3f_0242ac110002row12_col5\" class=\"data row12 col5\" >0.228</td>\n",
       "                        <td id=\"T_b02fbb6a_2c7a_11ed_ae3f_0242ac110002row12_col6\" class=\"data row12 col6\" >0.071</td>\n",
       "                        <td id=\"T_b02fbb6a_2c7a_11ed_ae3f_0242ac110002row12_col7\" class=\"data row12 col7\" >0.085</td>\n",
       "                        <td id=\"T_b02fbb6a_2c7a_11ed_ae3f_0242ac110002row12_col8\" class=\"data row12 col8\" >0.015</td>\n",
       "            </tr>\n",
       "            <tr>\n",
       "                        <th id=\"T_b02fbb6a_2c7a_11ed_ae3f_0242ac110002level0_row13\" class=\"row_heading level0 row13\" >nb</th>\n",
       "                        <td id=\"T_b02fbb6a_2c7a_11ed_ae3f_0242ac110002row13_col0\" class=\"data row13 col0\" >Naive Bayes</td>\n",
       "                        <td id=\"T_b02fbb6a_2c7a_11ed_ae3f_0242ac110002row13_col1\" class=\"data row13 col1\" >0.671</td>\n",
       "                        <td id=\"T_b02fbb6a_2c7a_11ed_ae3f_0242ac110002row13_col2\" class=\"data row13 col2\" >0.706</td>\n",
       "                        <td id=\"T_b02fbb6a_2c7a_11ed_ae3f_0242ac110002row13_col3\" class=\"data row13 col3\" >0.630</td>\n",
       "                        <td id=\"T_b02fbb6a_2c7a_11ed_ae3f_0242ac110002row13_col4\" class=\"data row13 col4\" >0.335</td>\n",
       "                        <td id=\"T_b02fbb6a_2c7a_11ed_ae3f_0242ac110002row13_col5\" class=\"data row13 col5\" >0.430</td>\n",
       "                        <td id=\"T_b02fbb6a_2c7a_11ed_ae3f_0242ac110002row13_col6\" class=\"data row13 col6\" >0.242</td>\n",
       "                        <td id=\"T_b02fbb6a_2c7a_11ed_ae3f_0242ac110002row13_col7\" class=\"data row13 col7\" >0.260</td>\n",
       "                        <td id=\"T_b02fbb6a_2c7a_11ed_ae3f_0242ac110002row13_col8\" class=\"data row13 col8\" >0.016</td>\n",
       "            </tr>\n",
       "    </tbody></table>"
      ],
      "text/plain": [
       "<pandas.io.formats.style.Styler at 0x7f1d54c19320>"
      ]
     },
     "metadata": {},
     "output_type": "display_data"
    }
   ],
   "source": [
    "auto_ml_result = classification.compare_models(fold=10, round=3, sort='Accuracy', n_select=5)"
   ]
  },
  {
   "cell_type": "markdown",
   "metadata": {},
   "source": [
    "### 4.3 k-Fold"
   ]
  },
  {
   "cell_type": "code",
   "execution_count": 56,
   "metadata": {},
   "outputs": [
    {
     "name": "stdout",
     "output_type": "stream",
     "text": [
      "---- Logistic Regression ----\n",
      "[0.78723404 0.82795699 0.8172043  0.8172043  0.8172043  0.83870968\n",
      " 0.86021505 0.90322581 0.84946237 0.78494624 0.86021505 0.80645161\n",
      " 0.83870968 0.82795699 0.87096774 0.83870968 0.91397849 0.79569892\n",
      " 0.83870968 0.83870968]\n",
      "Average logis_k score: 0.8366735300846487 \n",
      "\n",
      "---- Support Vector Machine ----\n",
      "[0.74468085 0.8172043  0.82795699 0.8172043  0.8172043  0.84946237\n",
      " 0.87096774 0.92473118 0.86021505 0.8172043  0.86021505 0.82795699\n",
      " 0.80645161 0.82795699 0.8172043  0.82795699 0.92473118 0.78494624\n",
      " 0.83870968 0.87096774]\n",
      "Average svm_k score: 0.8366964081445893 \n",
      "\n",
      "---- K-Nerest Neighbor ----\n",
      "[0.79787234 0.86021505 0.82795699 0.86021505 0.8172043  0.84946237\n",
      " 0.87096774 0.91397849 0.87096774 0.82795699 0.83870968 0.80645161\n",
      " 0.86021505 0.84946237 0.77419355 0.8172043  0.90322581 0.76344086\n",
      " 0.86021505 0.87096774]\n",
      "Average knn_k score: 0.8420441546556849 \n",
      "\n",
      "---- Decision Tree ----\n",
      "[0.80851064 0.88172043 0.86021505 0.8172043  0.86021505 0.82795699\n",
      " 0.82795699 0.88172043 0.84946237 0.79569892 0.79569892 0.83870968\n",
      " 0.80645161 0.86021505 0.84946237 0.86021505 0.91397849 0.79569892\n",
      " 0.79569892 0.8172043 ]\n",
      "Average tree_k score: 0.8371997254632806 \n",
      "\n",
      "---- Random Forest ----\n",
      "[0.81914894 0.90322581 0.86021505 0.83870968 0.87096774 0.88172043\n",
      " 0.88172043 0.90322581 0.90322581 0.86021505 0.91397849 0.87096774\n",
      " 0.84946237 0.90322581 0.90322581 0.90322581 0.93548387 0.83870968\n",
      " 0.87096774 0.88172043]\n",
      "Average forest_k score: 0.8796671242278655 \n",
      "\n",
      "---- Extra Tree Classifier ----\n",
      "[0.86170213 0.91397849 0.86021505 0.87096774 0.87096774 0.86021505\n",
      " 0.92473118 0.90322581 0.90322581 0.89247312 0.91397849 0.84946237\n",
      " 0.86021505 0.94623656 0.89247312 0.90322581 0.93548387 0.82795699\n",
      " 0.90322581 0.90322581]\n",
      "Average et_k score: 0.8898592999313658 \n",
      "\n"
     ]
    }
   ],
   "source": [
    "kfold = KFold(n_splits=20, shuffle=True, random_state=42)\n",
    "\n",
    "print(\"---- Logistic Regression ----\")\n",
    "logis_k = LogisticRegression()\n",
    "logis_k_score = cross_val_score(logis_k, x_train, y_train, cv=kfold, n_jobs=1, scoring=\"accuracy\")\n",
    "print(logis_k_score)\n",
    "print(f\"Average logis_k score: {np.mean(logis_k_score)} \\n\")\n",
    "\n",
    "print(\"---- Support Vector Machine ----\")\n",
    "svm_k = SVC()\n",
    "svm_k_score = cross_val_score(svm_k, x_train, y_train, cv=kfold, n_jobs=1, scoring='accuracy')\n",
    "print(svm_k_score)\n",
    "print(f\"Average svm_k score: {np.mean(svm_k_score)} \\n\")\n",
    "\n",
    "print(\"---- K-Nerest Neighbor ----\")\n",
    "knn_k = KNeighborsClassifier(n_neighbors=5)\n",
    "knn_k_score = cross_val_score(knn_k, x_train, y_train, cv=kfold, n_jobs=1, scoring=\"accuracy\")\n",
    "print(knn_k_score)\n",
    "print(f\"Average knn_k score: {np.mean(knn_k_score)} \\n\")\n",
    "\n",
    "print(\"---- Decision Tree ----\")\n",
    "tree_k = DecisionTreeClassifier()\n",
    "tree_k_score = cross_val_score(tree_k, x_train, y_train, cv=kfold, n_jobs=1, scoring=\"accuracy\")\n",
    "print(tree_k_score)\n",
    "print(f\"Average tree_k score: {np.mean(tree_k_score)} \\n\")\n",
    "\n",
    "print(\"---- Random Forest ----\")\n",
    "forest_k = RandomForestClassifier()\n",
    "forest_k_score = cross_val_score(forest_k, x_train, y_train, cv=kfold, n_jobs=1, scoring=\"accuracy\")\n",
    "print(forest_k_score)\n",
    "print(f\"Average forest_k score: {np.mean(forest_k_score)} \\n\")\n",
    "\n",
    "print(\"---- Extra Tree Classifier ----\")\n",
    "et_k = ExtraTreesClassifier()\n",
    "et_k_score = cross_val_score(et_k, x_train, y_train, cv=kfold, n_jobs=1, scoring='accuracy')\n",
    "print(et_k_score)\n",
    "print(f\"Average et_k score: {np.mean(et_k_score)} \\n\")"
   ]
  },
  {
   "cell_type": "markdown",
   "metadata": {},
   "source": [
    "### 4.4 Ensemble\n",
    "* Soft-Voting"
   ]
  },
  {
   "cell_type": "code",
   "execution_count": 57,
   "metadata": {},
   "outputs": [
    {
     "name": "stdout",
     "output_type": "stream",
     "text": [
      "[0.85106383 0.89247312 0.87096774 0.83870968 0.88172043 0.89247312\n",
      " 0.88172043 0.93548387 0.91397849 0.87096774 0.89247312 0.84946237\n",
      " 0.83870968 0.92473118 0.89247312 0.88172043 0.93548387 0.82795699\n",
      " 0.90322581 0.90322581]\n",
      "Average ensemble score: 0.8839510409517273 \n",
      "\n"
     ]
    }
   ],
   "source": [
    "ensemble_model = VotingClassifier(estimators=[('Random Forest', RandomForestClassifier()), ('Extra Tree', ExtraTreesClassifier()), ('Decision Tree', DecisionTreeClassifier()), ('Logistic Regression', LogisticRegression())], voting='soft')\n",
    "ensemble_score = cross_val_score(ensemble_model, x_train, y_train, cv=kfold, n_jobs=1, scoring='accuracy')\n",
    "print(ensemble_score)\n",
    "print(f\"Average ensemble score: {np.mean(ensemble_score)} \\n\")"
   ]
  },
  {
   "cell_type": "markdown",
   "metadata": {},
   "source": [
    "* Hard-Voting"
   ]
  },
  {
   "cell_type": "code",
   "execution_count": 58,
   "metadata": {},
   "outputs": [
    {
     "name": "stdout",
     "output_type": "stream",
     "text": [
      "[0.82978723 0.88172043 0.83870968 0.83870968 0.88172043 0.84946237\n",
      " 0.88172043 0.92473118 0.90322581 0.88172043 0.91397849 0.86021505\n",
      " 0.86021505 0.91397849 0.88172043 0.88172043 0.93548387 0.83870968\n",
      " 0.87096774 0.86021505]\n",
      "Average ensemble score: 0.8764355982612674 \n",
      "\n"
     ]
    }
   ],
   "source": [
    "ensemble_model_hard = VotingClassifier(estimators=[('Random Forest', RandomForestClassifier()), ('Extra Tree', ExtraTreesClassifier()), ('Decision Tree', DecisionTreeClassifier()), ('Logistic Regression', LogisticRegression())], voting='hard')\n",
    "ensemble_score_hard = cross_val_score(ensemble_model_hard, x_train, y_train, cv=kfold, n_jobs=1, scoring='accuracy')\n",
    "print(ensemble_score_hard)\n",
    "print(f\"Average ensemble score: {np.mean(ensemble_score_hard)} \\n\")"
   ]
  },
  {
   "cell_type": "markdown",
   "metadata": {},
   "source": [
    "## Submission"
   ]
  },
  {
   "cell_type": "markdown",
   "metadata": {},
   "source": [
    "* Single-Model"
   ]
  },
  {
   "cell_type": "code",
   "execution_count": 59,
   "metadata": {},
   "outputs": [],
   "source": [
    "et_final = ExtraTreesClassifier()\n",
    "et_final.fit(x_train, y_train)\n",
    "y_pred = et_final.predict(test_pred)\n",
    "submission = pd.DataFrame({\"id\" : test[\"id\"], \"ProdTaken\":y_pred})\n",
    "submission.to_csv(\"submission.csv\", index=False)"
   ]
  },
  {
   "cell_type": "markdown",
   "metadata": {},
   "source": [
    "* Soft-Voting"
   ]
  },
  {
   "cell_type": "code",
   "execution_count": 60,
   "metadata": {},
   "outputs": [],
   "source": [
    "ensemble_model_f = VotingClassifier(estimators=[('Random Forest', RandomForestClassifier()), ('Extra Tree', ExtraTreesClassifier()), ('Decision Tree', DecisionTreeClassifier()), ('Logistic Regression', LogisticRegression())], voting='soft')\n",
    "ensemble_model_f.fit(x_train, y_train)\n",
    "y_pred = ensemble_model_f.predict(test_pred)\n",
    "submission = pd.DataFrame({\"id\" : test[\"id\"], \"ProdTaken\":y_pred})\n",
    "submission.to_csv(\"submission_ensemble.csv\", index=False)"
   ]
  },
  {
   "cell_type": "markdown",
   "metadata": {},
   "source": [
    "* Hard-Voting"
   ]
  },
  {
   "cell_type": "code",
   "execution_count": 61,
   "metadata": {},
   "outputs": [],
   "source": [
    "ensemble_model_h = VotingClassifier(estimators=[('Random Forest', RandomForestClassifier()), ('Extra Tree', ExtraTreesClassifier()), ('Decision Tree', DecisionTreeClassifier()), ('Logistic Regression', LogisticRegression())], voting='hard')\n",
    "ensemble_model_h.fit(x_train, y_train)\n",
    "y_pred = ensemble_model_h.predict(test_pred)\n",
    "submission = pd.DataFrame({\"id\" : test[\"id\"], \"ProdTaken\":y_pred})\n",
    "submission.to_csv(\"submission_ensemble_hard.csv\", index=False)"
   ]
  }
 ],
 "metadata": {
  "kernelspec": {
   "display_name": "Python 3.6.9 64-bit",
   "language": "python",
   "name": "python3"
  },
  "language_info": {
   "codemirror_mode": {
    "name": "ipython",
    "version": 3
   },
   "file_extension": ".py",
   "mimetype": "text/x-python",
   "name": "python",
   "nbconvert_exporter": "python",
   "pygments_lexer": "ipython3",
   "version": "3.6.9"
  },
  "orig_nbformat": 4,
  "vscode": {
   "interpreter": {
    "hash": "31f2aee4e71d21fbe5cf8b01ff0e069b9275f58929596ceb00d14d90e3e16cd6"
   }
  }
 },
 "nbformat": 4,
 "nbformat_minor": 2
}
