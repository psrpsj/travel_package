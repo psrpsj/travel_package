{
 "cells": [
  {
   "cell_type": "markdown",
   "metadata": {},
   "source": [
    "### 1. Data Import and Preparation"
   ]
  },
  {
   "cell_type": "code",
   "execution_count": 1,
   "metadata": {},
   "outputs": [],
   "source": [
    "import pandas as pd\n",
    "import numpy as np\n",
    "import seaborn as sb\n",
    "import matplotlib.pyplot as plt\n",
    "import warnings \n",
    "warnings.filterwarnings('ignore')"
   ]
  },
  {
   "cell_type": "code",
   "execution_count": 2,
   "metadata": {},
   "outputs": [],
   "source": [
    "test = pd.read_csv(\"./dataset/test.csv\")\n",
    "train = pd.read_csv(\"./dataset/train.csv\")"
   ]
  },
  {
   "cell_type": "markdown",
   "metadata": {},
   "source": [
    "### 2. Exploratory Data Analysis"
   ]
  },
  {
   "cell_type": "markdown",
   "metadata": {},
   "source": [
    "* id : 샘플 아이디\n",
    "* Age : 나이\n",
    "* TypeofContact : 고객의 제품 인지 방법 (회사의 홍보 or 스스로 검색)\n",
    "* CityTier : 주거 중인 도시의 등급. (인구, 시설, 생활 수준 기준) (1등급 > 2등급 > 3등급) \n",
    "* DurationOfPitch : 영업 사원이 고객에게 제공하는 프레젠테이션 기간\n",
    "* Occupation : 직업\n",
    "* Gender : 성별\n",
    "* NumberOfPersonVisiting : 고객과 함께 여행을 계획 중인 총 인원\n",
    "* NumberOfFollowups : 영업 사원의 프레젠테이션 후 이루어진 후속 조치 수\n",
    "* ProductPitched : 영업 사원이 제시한 상품\n",
    "* PreferredPropertyStar : 선호 호텔 숙박업소 등급\n",
    "* MaritalStatus : 결혼여부\n",
    "* NumberOfTrips : 평균 연간 여행 횟수\n",
    "* Passport : 여권 보유 여부 (0: 없음, 1: 있음)\n",
    "* PitchSatisfactionScore : 영업 사원의 프레젠테이션 만족도\n",
    "* OwnCar : 자동차 보유 여부 (0: 없음, 1: 있음)\n",
    "* NumberOfChildrenVisiting : 함께 여행을 계획 중인 5세 미만의 어린이 수\n",
    "* Designation : (직업의) 직급\n",
    "* MonthlyIncome : 월 급여\n",
    "* ProdTaken : 여행 패키지 신청 여부 (0: 신청 안 함, 1: 신청함)"
   ]
  },
  {
   "cell_type": "code",
   "execution_count": 3,
   "metadata": {},
   "outputs": [
    {
     "data": {
      "text/plain": [
       "(2933, 19)"
      ]
     },
     "execution_count": 3,
     "metadata": {},
     "output_type": "execute_result"
    }
   ],
   "source": [
    "train.shape\n",
    "test.shape"
   ]
  },
  {
   "cell_type": "code",
   "execution_count": 4,
   "metadata": {},
   "outputs": [
    {
     "data": {
      "text/plain": [
       "(2933, 19)"
      ]
     },
     "execution_count": 4,
     "metadata": {},
     "output_type": "execute_result"
    }
   ],
   "source": [
    "test.shape"
   ]
  },
  {
   "cell_type": "code",
   "execution_count": 5,
   "metadata": {},
   "outputs": [
    {
     "name": "stdout",
     "output_type": "stream",
     "text": [
      "<class 'pandas.core.frame.DataFrame'>\n",
      "RangeIndex: 1955 entries, 0 to 1954\n",
      "Data columns (total 20 columns):\n",
      " #   Column                    Non-Null Count  Dtype  \n",
      "---  ------                    --------------  -----  \n",
      " 0   id                        1955 non-null   int64  \n",
      " 1   Age                       1861 non-null   float64\n",
      " 2   TypeofContact             1945 non-null   object \n",
      " 3   CityTier                  1955 non-null   int64  \n",
      " 4   DurationOfPitch           1853 non-null   float64\n",
      " 5   Occupation                1955 non-null   object \n",
      " 6   Gender                    1955 non-null   object \n",
      " 7   NumberOfPersonVisiting    1955 non-null   int64  \n",
      " 8   NumberOfFollowups         1942 non-null   float64\n",
      " 9   ProductPitched            1955 non-null   object \n",
      " 10  PreferredPropertyStar     1945 non-null   float64\n",
      " 11  MaritalStatus             1955 non-null   object \n",
      " 12  NumberOfTrips             1898 non-null   float64\n",
      " 13  Passport                  1955 non-null   int64  \n",
      " 14  PitchSatisfactionScore    1955 non-null   int64  \n",
      " 15  OwnCar                    1955 non-null   int64  \n",
      " 16  NumberOfChildrenVisiting  1928 non-null   float64\n",
      " 17  Designation               1955 non-null   object \n",
      " 18  MonthlyIncome             1855 non-null   float64\n",
      " 19  ProdTaken                 1955 non-null   int64  \n",
      "dtypes: float64(7), int64(7), object(6)\n",
      "memory usage: 305.6+ KB\n"
     ]
    }
   ],
   "source": [
    "train.info()"
   ]
  },
  {
   "cell_type": "code",
   "execution_count": 6,
   "metadata": {},
   "outputs": [
    {
     "data": {
      "text/plain": [
       "id                            0\n",
       "Age                          94\n",
       "TypeofContact                10\n",
       "CityTier                      0\n",
       "DurationOfPitch             102\n",
       "Occupation                    0\n",
       "Gender                        0\n",
       "NumberOfPersonVisiting        0\n",
       "NumberOfFollowups            13\n",
       "ProductPitched                0\n",
       "PreferredPropertyStar        10\n",
       "MaritalStatus                 0\n",
       "NumberOfTrips                57\n",
       "Passport                      0\n",
       "PitchSatisfactionScore        0\n",
       "OwnCar                        0\n",
       "NumberOfChildrenVisiting     27\n",
       "Designation                   0\n",
       "MonthlyIncome               100\n",
       "ProdTaken                     0\n",
       "dtype: int64"
      ]
     },
     "execution_count": 6,
     "metadata": {},
     "output_type": "execute_result"
    }
   ],
   "source": [
    "train.isnull().sum()"
   ]
  },
  {
   "cell_type": "code",
   "execution_count": 7,
   "metadata": {},
   "outputs": [
    {
     "data": {
      "text/plain": [
       "id                            0\n",
       "Age                         132\n",
       "TypeofContact                15\n",
       "CityTier                      0\n",
       "DurationOfPitch             149\n",
       "Occupation                    0\n",
       "Gender                        0\n",
       "NumberOfPersonVisiting        0\n",
       "NumberOfFollowups            32\n",
       "ProductPitched                0\n",
       "PreferredPropertyStar        16\n",
       "MaritalStatus                 0\n",
       "NumberOfTrips                83\n",
       "Passport                      0\n",
       "PitchSatisfactionScore        0\n",
       "OwnCar                        0\n",
       "NumberOfChildrenVisiting     39\n",
       "Designation                   0\n",
       "MonthlyIncome               133\n",
       "dtype: int64"
      ]
     },
     "execution_count": 7,
     "metadata": {},
     "output_type": "execute_result"
    }
   ],
   "source": [
    "test.isnull().sum()"
   ]
  },
  {
   "cell_type": "code",
   "execution_count": 8,
   "metadata": {},
   "outputs": [
    {
     "data": {
      "text/html": [
       "<div>\n",
       "<style scoped>\n",
       "    .dataframe tbody tr th:only-of-type {\n",
       "        vertical-align: middle;\n",
       "    }\n",
       "\n",
       "    .dataframe tbody tr th {\n",
       "        vertical-align: top;\n",
       "    }\n",
       "\n",
       "    .dataframe thead th {\n",
       "        text-align: right;\n",
       "    }\n",
       "</style>\n",
       "<table border=\"1\" class=\"dataframe\">\n",
       "  <thead>\n",
       "    <tr style=\"text-align: right;\">\n",
       "      <th></th>\n",
       "      <th>id</th>\n",
       "      <th>Age</th>\n",
       "      <th>TypeofContact</th>\n",
       "      <th>CityTier</th>\n",
       "      <th>DurationOfPitch</th>\n",
       "      <th>Occupation</th>\n",
       "      <th>Gender</th>\n",
       "      <th>NumberOfPersonVisiting</th>\n",
       "      <th>NumberOfFollowups</th>\n",
       "      <th>ProductPitched</th>\n",
       "      <th>PreferredPropertyStar</th>\n",
       "      <th>MaritalStatus</th>\n",
       "      <th>NumberOfTrips</th>\n",
       "      <th>Passport</th>\n",
       "      <th>PitchSatisfactionScore</th>\n",
       "      <th>OwnCar</th>\n",
       "      <th>NumberOfChildrenVisiting</th>\n",
       "      <th>Designation</th>\n",
       "      <th>MonthlyIncome</th>\n",
       "      <th>ProdTaken</th>\n",
       "    </tr>\n",
       "  </thead>\n",
       "  <tbody>\n",
       "    <tr>\n",
       "      <th>0</th>\n",
       "      <td>1</td>\n",
       "      <td>28.0</td>\n",
       "      <td>Company Invited</td>\n",
       "      <td>1</td>\n",
       "      <td>10.0</td>\n",
       "      <td>Small Business</td>\n",
       "      <td>Male</td>\n",
       "      <td>3</td>\n",
       "      <td>4.0</td>\n",
       "      <td>Basic</td>\n",
       "      <td>3.0</td>\n",
       "      <td>Married</td>\n",
       "      <td>3.0</td>\n",
       "      <td>0</td>\n",
       "      <td>1</td>\n",
       "      <td>0</td>\n",
       "      <td>1.0</td>\n",
       "      <td>Executive</td>\n",
       "      <td>20384.0</td>\n",
       "      <td>0</td>\n",
       "    </tr>\n",
       "    <tr>\n",
       "      <th>1</th>\n",
       "      <td>2</td>\n",
       "      <td>34.0</td>\n",
       "      <td>Self Enquiry</td>\n",
       "      <td>3</td>\n",
       "      <td>NaN</td>\n",
       "      <td>Small Business</td>\n",
       "      <td>Female</td>\n",
       "      <td>2</td>\n",
       "      <td>4.0</td>\n",
       "      <td>Deluxe</td>\n",
       "      <td>4.0</td>\n",
       "      <td>Single</td>\n",
       "      <td>1.0</td>\n",
       "      <td>1</td>\n",
       "      <td>5</td>\n",
       "      <td>1</td>\n",
       "      <td>0.0</td>\n",
       "      <td>Manager</td>\n",
       "      <td>19599.0</td>\n",
       "      <td>1</td>\n",
       "    </tr>\n",
       "    <tr>\n",
       "      <th>2</th>\n",
       "      <td>3</td>\n",
       "      <td>45.0</td>\n",
       "      <td>Company Invited</td>\n",
       "      <td>1</td>\n",
       "      <td>NaN</td>\n",
       "      <td>Salaried</td>\n",
       "      <td>Male</td>\n",
       "      <td>2</td>\n",
       "      <td>3.0</td>\n",
       "      <td>Deluxe</td>\n",
       "      <td>4.0</td>\n",
       "      <td>Married</td>\n",
       "      <td>2.0</td>\n",
       "      <td>0</td>\n",
       "      <td>4</td>\n",
       "      <td>1</td>\n",
       "      <td>0.0</td>\n",
       "      <td>Manager</td>\n",
       "      <td>NaN</td>\n",
       "      <td>0</td>\n",
       "    </tr>\n",
       "    <tr>\n",
       "      <th>3</th>\n",
       "      <td>4</td>\n",
       "      <td>29.0</td>\n",
       "      <td>Company Invited</td>\n",
       "      <td>1</td>\n",
       "      <td>7.0</td>\n",
       "      <td>Small Business</td>\n",
       "      <td>Male</td>\n",
       "      <td>3</td>\n",
       "      <td>5.0</td>\n",
       "      <td>Basic</td>\n",
       "      <td>4.0</td>\n",
       "      <td>Married</td>\n",
       "      <td>3.0</td>\n",
       "      <td>0</td>\n",
       "      <td>4</td>\n",
       "      <td>0</td>\n",
       "      <td>1.0</td>\n",
       "      <td>Executive</td>\n",
       "      <td>21274.0</td>\n",
       "      <td>1</td>\n",
       "    </tr>\n",
       "    <tr>\n",
       "      <th>4</th>\n",
       "      <td>5</td>\n",
       "      <td>42.0</td>\n",
       "      <td>Self Enquiry</td>\n",
       "      <td>3</td>\n",
       "      <td>6.0</td>\n",
       "      <td>Salaried</td>\n",
       "      <td>Male</td>\n",
       "      <td>2</td>\n",
       "      <td>3.0</td>\n",
       "      <td>Deluxe</td>\n",
       "      <td>3.0</td>\n",
       "      <td>Divorced</td>\n",
       "      <td>2.0</td>\n",
       "      <td>0</td>\n",
       "      <td>3</td>\n",
       "      <td>1</td>\n",
       "      <td>0.0</td>\n",
       "      <td>Manager</td>\n",
       "      <td>19907.0</td>\n",
       "      <td>0</td>\n",
       "    </tr>\n",
       "  </tbody>\n",
       "</table>\n",
       "</div>"
      ],
      "text/plain": [
       "   id   Age    TypeofContact  CityTier  DurationOfPitch      Occupation  \\\n",
       "0   1  28.0  Company Invited         1             10.0  Small Business   \n",
       "1   2  34.0     Self Enquiry         3              NaN  Small Business   \n",
       "2   3  45.0  Company Invited         1              NaN        Salaried   \n",
       "3   4  29.0  Company Invited         1              7.0  Small Business   \n",
       "4   5  42.0     Self Enquiry         3              6.0        Salaried   \n",
       "\n",
       "   Gender  NumberOfPersonVisiting  NumberOfFollowups ProductPitched  \\\n",
       "0    Male                       3                4.0          Basic   \n",
       "1  Female                       2                4.0         Deluxe   \n",
       "2    Male                       2                3.0         Deluxe   \n",
       "3    Male                       3                5.0          Basic   \n",
       "4    Male                       2                3.0         Deluxe   \n",
       "\n",
       "   PreferredPropertyStar MaritalStatus  NumberOfTrips  Passport  \\\n",
       "0                    3.0       Married            3.0         0   \n",
       "1                    4.0        Single            1.0         1   \n",
       "2                    4.0       Married            2.0         0   \n",
       "3                    4.0       Married            3.0         0   \n",
       "4                    3.0      Divorced            2.0         0   \n",
       "\n",
       "   PitchSatisfactionScore  OwnCar  NumberOfChildrenVisiting Designation  \\\n",
       "0                       1       0                       1.0   Executive   \n",
       "1                       5       1                       0.0     Manager   \n",
       "2                       4       1                       0.0     Manager   \n",
       "3                       4       0                       1.0   Executive   \n",
       "4                       3       1                       0.0     Manager   \n",
       "\n",
       "   MonthlyIncome  ProdTaken  \n",
       "0        20384.0          0  \n",
       "1        19599.0          1  \n",
       "2            NaN          0  \n",
       "3        21274.0          1  \n",
       "4        19907.0          0  "
      ]
     },
     "execution_count": 8,
     "metadata": {},
     "output_type": "execute_result"
    }
   ],
   "source": [
    "train.head()"
   ]
  },
  {
   "cell_type": "code",
   "execution_count": 9,
   "metadata": {},
   "outputs": [
    {
     "data": {
      "text/plain": [
       "<AxesSubplot:>"
      ]
     },
     "execution_count": 9,
     "metadata": {},
     "output_type": "execute_result"
    },
    {
     "data": {
      "image/png": "[encoded data removed]",
      "text/plain": [
       "<Figure size 1080x1080 with 2 Axes>"
      ]
     },
     "metadata": {
      "needs_background": "light"
     },
     "output_type": "display_data"
    }
   ],
   "source": [
    "plt.figure(figsize=(15,15))\n",
    "sb.heatmap(data=train.corr(), annot=True, fmt='.2f', linewidths=.5, cmap='Blues')"
   ]
  },
  {
   "cell_type": "code",
   "execution_count": 10,
   "metadata": {},
   "outputs": [
    {
     "data": {
      "text/plain": [
       "Self Enquiry       1379\n",
       "Company Invited     566\n",
       "Name: TypeofContact, dtype: int64"
      ]
     },
     "execution_count": 10,
     "metadata": {},
     "output_type": "execute_result"
    }
   ],
   "source": [
    "train[\"TypeofContact\"].value_counts()"
   ]
  },
  {
   "cell_type": "code",
   "execution_count": 11,
   "metadata": {},
   "outputs": [
    {
     "data": {
      "text/plain": [
       "<AxesSubplot:xlabel='Occupation', ylabel='DurationOfPitch'>"
      ]
     },
     "execution_count": 11,
     "metadata": {},
     "output_type": "execute_result"
    },
    {
     "data": {
      "image/png": "[encoded data removed]",
      "text/plain": [
       "<Figure size 432x288 with 1 Axes>"
      ]
     },
     "metadata": {
      "needs_background": "light"
     },
     "output_type": "display_data"
    }
   ],
   "source": [
    "sb.barplot(x=\"Occupation\", y=\"DurationOfPitch\", ci=None, data=train)"
   ]
  },
  {
   "cell_type": "code",
   "execution_count": 12,
   "metadata": {},
   "outputs": [
    {
     "data": {
      "text/plain": [
       "3.718331616889804"
      ]
     },
     "execution_count": 12,
     "metadata": {},
     "output_type": "execute_result"
    }
   ],
   "source": [
    "train[\"NumberOfFollowups\"].mean()\n",
    "# 평균치 = 4"
   ]
  },
  {
   "cell_type": "code",
   "execution_count": 13,
   "metadata": {},
   "outputs": [
    {
     "data": {
      "text/plain": [
       "4.0    831\n",
       "3.0    571\n",
       "5.0    330\n",
       "2.0     89\n",
       "1.0     74\n",
       "6.0     47\n",
       "Name: NumberOfFollowups, dtype: int64"
      ]
     },
     "execution_count": 13,
     "metadata": {},
     "output_type": "execute_result"
    }
   ],
   "source": [
    "train[\"NumberOfFollowups\"].value_counts()"
   ]
  },
  {
   "cell_type": "code",
   "execution_count": 14,
   "metadata": {},
   "outputs": [
    {
     "data": {
      "text/plain": [
       "<AxesSubplot:xlabel='CityTier', ylabel='PreferredPropertyStar'>"
      ]
     },
     "execution_count": 14,
     "metadata": {},
     "output_type": "execute_result"
    },
    {
     "data": {
      "image/png": "[encoded data removed]",
      "text/plain": [
       "<Figure size 432x288 with 1 Axes>"
      ]
     },
     "metadata": {
      "needs_background": "light"
     },
     "output_type": "display_data"
    }
   ],
   "source": [
    "sb.barplot(x=\"CityTier\", y=\"PreferredPropertyStar\", ci=None, data=train)"
   ]
  },
  {
   "cell_type": "code",
   "execution_count": 15,
   "metadata": {},
   "outputs": [
    {
     "data": {
      "text/plain": [
       "3.0    1212\n",
       "5.0     373\n",
       "4.0     360\n",
       "Name: PreferredPropertyStar, dtype: int64"
      ]
     },
     "execution_count": 15,
     "metadata": {},
     "output_type": "execute_result"
    }
   ],
   "source": [
    "train[\"PreferredPropertyStar\"].value_counts()"
   ]
  },
  {
   "cell_type": "code",
   "execution_count": 16,
   "metadata": {},
   "outputs": [
    {
     "data": {
      "text/plain": [
       "<AxesSubplot:xlabel='Occupation', ylabel='NumberOfTrips'>"
      ]
     },
     "execution_count": 16,
     "metadata": {},
     "output_type": "execute_result"
    },
    {
     "data": {
      "image/png": "[encoded data removed]",
      "text/plain": [
       "<Figure size 432x288 with 1 Axes>"
      ]
     },
     "metadata": {
      "needs_background": "light"
     },
     "output_type": "display_data"
    }
   ],
   "source": [
    "sb.barplot(x=\"Occupation\", y=\"NumberOfTrips\", ci=None, data=train)"
   ]
  },
  {
   "cell_type": "code",
   "execution_count": 17,
   "metadata": {},
   "outputs": [
    {
     "data": {
      "text/plain": [
       "<AxesSubplot:xlabel='NumberOfPersonVisiting', ylabel='NumberOfChildrenVisiting'>"
      ]
     },
     "execution_count": 17,
     "metadata": {},
     "output_type": "execute_result"
    },
    {
     "data": {
      "image/png": "[encoded data removed]",
      "text/plain": [
       "<Figure size 432x288 with 1 Axes>"
      ]
     },
     "metadata": {
      "needs_background": "light"
     },
     "output_type": "display_data"
    }
   ],
   "source": [
    "sb.barplot(x=\"NumberOfPersonVisiting\", y=\"NumberOfChildrenVisiting\", ci=None, data=train)"
   ]
  },
  {
   "cell_type": "code",
   "execution_count": 18,
   "metadata": {},
   "outputs": [
    {
     "data": {
      "text/plain": [
       "2.0    428\n",
       "1.0    406\n",
       "0.0    137\n",
       "Name: NumberOfChildrenVisiting, dtype: int64"
      ]
     },
     "execution_count": 18,
     "metadata": {},
     "output_type": "execute_result"
    }
   ],
   "source": [
    "train[train[\"NumberOfPersonVisiting\"] == 3][\"NumberOfChildrenVisiting\"].value_counts()"
   ]
  },
  {
   "cell_type": "code",
   "execution_count": 19,
   "metadata": {},
   "outputs": [
    {
     "data": {
      "text/plain": [
       "<AxesSubplot:xlabel='Designation', ylabel='MonthlyIncome'>"
      ]
     },
     "execution_count": 19,
     "metadata": {},
     "output_type": "execute_result"
    },
    {
     "data": {
      "image/png": "[encoded data removed]",
      "text/plain": [
       "<Figure size 432x288 with 1 Axes>"
      ]
     },
     "metadata": {
      "needs_background": "light"
     },
     "output_type": "display_data"
    }
   ],
   "source": [
    "sb.barplot(x=\"Designation\", y=\"MonthlyIncome\", ci=None, data=train)"
   ]
  },
  {
   "cell_type": "code",
   "execution_count": 20,
   "metadata": {},
   "outputs": [
    {
     "data": {
      "text/plain": [
       "<AxesSubplot:xlabel='Age', ylabel='ProdTaken'>"
      ]
     },
     "execution_count": 20,
     "metadata": {},
     "output_type": "execute_result"
    },
    {
     "data": {
      "image/png": "[encoded data removed]",
      "text/plain": [
       "<Figure size 432x288 with 1 Axes>"
      ]
     },
     "metadata": {
      "needs_background": "light"
     },
     "output_type": "display_data"
    }
   ],
   "source": [
    "sb.lineplot(x=\"Age\", y=\"ProdTaken\", ci=None, data=train)"
   ]
  },
  {
   "cell_type": "code",
   "execution_count": 21,
   "metadata": {},
   "outputs": [
    {
     "data": {
      "text/plain": [
       "<AxesSubplot:xlabel='MonthlyIncome', ylabel='ProdTaken'>"
      ]
     },
     "execution_count": 21,
     "metadata": {},
     "output_type": "execute_result"
    },
    {
     "data": {
      "image/png": "[encoded data removed]",
      "text/plain": [
       "<Figure size 432x288 with 1 Axes>"
      ]
     },
     "metadata": {
      "needs_background": "light"
     },
     "output_type": "display_data"
    }
   ],
   "source": [
    "sb.lineplot(x=\"MonthlyIncome\", y=\"ProdTaken\", ci=None, data=train)"
   ]
  },
  {
   "cell_type": "code",
   "execution_count": 22,
   "metadata": {},
   "outputs": [
    {
     "data": {
      "text/plain": [
       "<AxesSubplot:xlabel='DurationOfPitch', ylabel='ProdTaken'>"
      ]
     },
     "execution_count": 22,
     "metadata": {},
     "output_type": "execute_result"
    },
    {
     "data": {
      "image/png": "[encoded data removed]",
      "text/plain": [
       "<Figure size 432x288 with 1 Axes>"
      ]
     },
     "metadata": {
      "needs_background": "light"
     },
     "output_type": "display_data"
    }
   ],
   "source": [
    "sb.lineplot(x=\"DurationOfPitch\", y=\"ProdTaken\", ci=None, data=train)"
   ]
  },
  {
   "cell_type": "code",
   "execution_count": 23,
   "metadata": {},
   "outputs": [
    {
     "data": {
      "text/plain": [
       "<AxesSubplot:xlabel='NumberOfFollowups', ylabel='ProdTaken'>"
      ]
     },
     "execution_count": 23,
     "metadata": {},
     "output_type": "execute_result"
    },
    {
     "data": {
      "image/png": "[encoded data removed]",
      "text/plain": [
       "<Figure size 432x288 with 1 Axes>"
      ]
     },
     "metadata": {
      "needs_background": "light"
     },
     "output_type": "display_data"
    }
   ],
   "source": [
    "sb.lineplot(x=\"NumberOfFollowups\", y=\"ProdTaken\", ci=None, data=train)"
   ]
  },
  {
   "cell_type": "markdown",
   "metadata": {},
   "source": [
    "### 3. Data Processing"
   ]
  },
  {
   "cell_type": "markdown",
   "metadata": {},
   "source": [
    "* fill NaN Value"
   ]
  },
  {
   "cell_type": "code",
   "execution_count": 24,
   "metadata": {},
   "outputs": [],
   "source": [
    "# Age\n",
    "train[\"Age\"].fillna(train.groupby(\"ProductPitched\")[\"Age\"].transform(\"mean\"), inplace=True)\n",
    "\n",
    "#TypeofContact\n",
    "train[\"TypeofContact\"].fillna(train[\"TypeofContact\"].mode()[0], inplace=True)\n",
    "test[\"TypeofContact\"].fillna(train[\"TypeofContact\"].mode()[0], inplace=True)\n",
    "\n",
    "# DurationOfPitch\n",
    "train[\"DurationOfPitch\"].fillna(train.groupby(\"Occupation\")[\"DurationOfPitch\"].transform(\"mean\"), inplace=True)\n",
    "\n",
    "# NumberOfFollowups\n",
    "train[\"NumberOfFollowups\"].fillna(4, inplace=True)\n",
    "test[\"NumberOfFollowups\"].fillna(4, inplace=True)\n",
    "\n",
    "#PreferredPropertyStar\n",
    "train[\"PreferredPropertyStar\"].fillna(train[\"PreferredPropertyStar\"].mode()[0], inplace=True)\n",
    "test[\"PreferredPropertyStar\"].fillna(train[\"PreferredPropertyStar\"].mode()[0], inplace=True)\n",
    "\n",
    "# NumberOfTrips\n",
    "train[\"NumberOfTrips\"].fillna(train.groupby(\"Occupation\")[\"NumberOfTrips\"].transform(\"mean\").astype(\"int64\"), inplace=True)\n",
    "\n",
    "# NumberOfChildrenVisiting\n",
    "train[\"NumberOfChildrenVisiting\"].fillna(train.groupby(\"NumberOfPersonVisiting\")[\"NumberOfChildrenVisiting\"].transform(\"mean\").astype(\"int64\"), inplace=True)\n",
    "\n",
    "# MonthlyIncome\n",
    "train[\"MonthlyIncome\"].fillna(train.groupby(\"Designation\")[\"MonthlyIncome\"].transform(\"mean\"), inplace=True)\n",
    "\n",
    "for idx in range(len(test)):\n",
    "    if np.isnan(test[\"Age\"][idx]):\n",
    "        test[\"Age\"][idx] = train[train[\"ProductPitched\"] == test[\"ProductPitched\"][idx]][\"Age\"].mean()\n",
    "    if np.isnan(test[\"DurationOfPitch\"][idx]):\n",
    "        test[\"DurationOfPitch\"][idx] = train[train[\"Occupation\"] == test[\"Occupation\"][idx]][\"DurationOfPitch\"].mean()\n",
    "    if np.isnan(test[\"NumberOfTrips\"][idx]):\n",
    "        test[\"NumberOfTrips\"][idx] = train[train[\"Occupation\"] == test[\"Occupation\"][idx]][\"NumberOfTrips\"].mean().astype(\"int64\")\n",
    "    if np.isnan(test[\"NumberOfChildrenVisiting\"][idx]):\n",
    "        test[\"NumberOfChildrenVisiting\"][idx] = train[train[\"NumberOfPersonVisiting\"] == test[\"NumberOfPersonVisiting\"][idx]][\"NumberOfChildrenVisiting\"].mean().astype(\"int64\")\n",
    "    if np.isnan(test[\"MonthlyIncome\"][idx]):\n",
    "        test[\"MonthlyIncome\"][idx] = train[train[\"Designation\"] == test[\"Designation\"][idx]][\"MonthlyIncome\"].mean()"
   ]
  },
  {
   "cell_type": "code",
   "execution_count": 25,
   "metadata": {},
   "outputs": [
    {
     "data": {
      "text/plain": [
       "id                          0\n",
       "Age                         0\n",
       "TypeofContact               0\n",
       "CityTier                    0\n",
       "DurationOfPitch             0\n",
       "Occupation                  0\n",
       "Gender                      0\n",
       "NumberOfPersonVisiting      0\n",
       "NumberOfFollowups           0\n",
       "ProductPitched              0\n",
       "PreferredPropertyStar       0\n",
       "MaritalStatus               0\n",
       "NumberOfTrips               0\n",
       "Passport                    0\n",
       "PitchSatisfactionScore      0\n",
       "OwnCar                      0\n",
       "NumberOfChildrenVisiting    0\n",
       "Designation                 0\n",
       "MonthlyIncome               0\n",
       "ProdTaken                   0\n",
       "dtype: int64"
      ]
     },
     "execution_count": 25,
     "metadata": {},
     "output_type": "execute_result"
    }
   ],
   "source": [
    "train.isnull().sum()"
   ]
  },
  {
   "cell_type": "code",
   "execution_count": 26,
   "metadata": {},
   "outputs": [
    {
     "data": {
      "text/plain": [
       "id                          0\n",
       "Age                         0\n",
       "TypeofContact               0\n",
       "CityTier                    0\n",
       "DurationOfPitch             0\n",
       "Occupation                  0\n",
       "Gender                      0\n",
       "NumberOfPersonVisiting      0\n",
       "NumberOfFollowups           0\n",
       "ProductPitched              0\n",
       "PreferredPropertyStar       0\n",
       "MaritalStatus               0\n",
       "NumberOfTrips               0\n",
       "Passport                    0\n",
       "PitchSatisfactionScore      0\n",
       "OwnCar                      0\n",
       "NumberOfChildrenVisiting    0\n",
       "Designation                 0\n",
       "MonthlyIncome               0\n",
       "dtype: int64"
      ]
     },
     "execution_count": 26,
     "metadata": {},
     "output_type": "execute_result"
    }
   ],
   "source": [
    "test.isnull().sum()"
   ]
  },
  {
   "cell_type": "code",
   "execution_count": 27,
   "metadata": {},
   "outputs": [
    {
     "data": {
      "text/html": [
       "<div>\n",
       "<style scoped>\n",
       "    .dataframe tbody tr th:only-of-type {\n",
       "        vertical-align: middle;\n",
       "    }\n",
       "\n",
       "    .dataframe tbody tr th {\n",
       "        vertical-align: top;\n",
       "    }\n",
       "\n",
       "    .dataframe thead th {\n",
       "        text-align: right;\n",
       "    }\n",
       "</style>\n",
       "<table border=\"1\" class=\"dataframe\">\n",
       "  <thead>\n",
       "    <tr style=\"text-align: right;\">\n",
       "      <th></th>\n",
       "      <th>id</th>\n",
       "      <th>Age</th>\n",
       "      <th>TypeofContact</th>\n",
       "      <th>CityTier</th>\n",
       "      <th>DurationOfPitch</th>\n",
       "      <th>Occupation</th>\n",
       "      <th>Gender</th>\n",
       "      <th>NumberOfPersonVisiting</th>\n",
       "      <th>NumberOfFollowups</th>\n",
       "      <th>ProductPitched</th>\n",
       "      <th>PreferredPropertyStar</th>\n",
       "      <th>MaritalStatus</th>\n",
       "      <th>NumberOfTrips</th>\n",
       "      <th>Passport</th>\n",
       "      <th>PitchSatisfactionScore</th>\n",
       "      <th>OwnCar</th>\n",
       "      <th>NumberOfChildrenVisiting</th>\n",
       "      <th>Designation</th>\n",
       "      <th>MonthlyIncome</th>\n",
       "      <th>ProdTaken</th>\n",
       "    </tr>\n",
       "  </thead>\n",
       "  <tbody>\n",
       "    <tr>\n",
       "      <th>0</th>\n",
       "      <td>1</td>\n",
       "      <td>28.0</td>\n",
       "      <td>Company Invited</td>\n",
       "      <td>1</td>\n",
       "      <td>10.000000</td>\n",
       "      <td>Small Business</td>\n",
       "      <td>Male</td>\n",
       "      <td>3</td>\n",
       "      <td>4.0</td>\n",
       "      <td>Basic</td>\n",
       "      <td>3.0</td>\n",
       "      <td>Married</td>\n",
       "      <td>3.0</td>\n",
       "      <td>0</td>\n",
       "      <td>1</td>\n",
       "      <td>0</td>\n",
       "      <td>1.0</td>\n",
       "      <td>Executive</td>\n",
       "      <td>20384.000000</td>\n",
       "      <td>0</td>\n",
       "    </tr>\n",
       "    <tr>\n",
       "      <th>1</th>\n",
       "      <td>2</td>\n",
       "      <td>34.0</td>\n",
       "      <td>Self Enquiry</td>\n",
       "      <td>3</td>\n",
       "      <td>16.072445</td>\n",
       "      <td>Small Business</td>\n",
       "      <td>Female</td>\n",
       "      <td>2</td>\n",
       "      <td>4.0</td>\n",
       "      <td>Deluxe</td>\n",
       "      <td>4.0</td>\n",
       "      <td>Single</td>\n",
       "      <td>1.0</td>\n",
       "      <td>1</td>\n",
       "      <td>5</td>\n",
       "      <td>1</td>\n",
       "      <td>0.0</td>\n",
       "      <td>Manager</td>\n",
       "      <td>19599.000000</td>\n",
       "      <td>1</td>\n",
       "    </tr>\n",
       "    <tr>\n",
       "      <th>2</th>\n",
       "      <td>3</td>\n",
       "      <td>45.0</td>\n",
       "      <td>Company Invited</td>\n",
       "      <td>1</td>\n",
       "      <td>15.183983</td>\n",
       "      <td>Salaried</td>\n",
       "      <td>Male</td>\n",
       "      <td>2</td>\n",
       "      <td>3.0</td>\n",
       "      <td>Deluxe</td>\n",
       "      <td>4.0</td>\n",
       "      <td>Married</td>\n",
       "      <td>2.0</td>\n",
       "      <td>0</td>\n",
       "      <td>4</td>\n",
       "      <td>1</td>\n",
       "      <td>0.0</td>\n",
       "      <td>Manager</td>\n",
       "      <td>22614.373397</td>\n",
       "      <td>0</td>\n",
       "    </tr>\n",
       "    <tr>\n",
       "      <th>3</th>\n",
       "      <td>4</td>\n",
       "      <td>29.0</td>\n",
       "      <td>Company Invited</td>\n",
       "      <td>1</td>\n",
       "      <td>7.000000</td>\n",
       "      <td>Small Business</td>\n",
       "      <td>Male</td>\n",
       "      <td>3</td>\n",
       "      <td>5.0</td>\n",
       "      <td>Basic</td>\n",
       "      <td>4.0</td>\n",
       "      <td>Married</td>\n",
       "      <td>3.0</td>\n",
       "      <td>0</td>\n",
       "      <td>4</td>\n",
       "      <td>0</td>\n",
       "      <td>1.0</td>\n",
       "      <td>Executive</td>\n",
       "      <td>21274.000000</td>\n",
       "      <td>1</td>\n",
       "    </tr>\n",
       "    <tr>\n",
       "      <th>4</th>\n",
       "      <td>5</td>\n",
       "      <td>42.0</td>\n",
       "      <td>Self Enquiry</td>\n",
       "      <td>3</td>\n",
       "      <td>6.000000</td>\n",
       "      <td>Salaried</td>\n",
       "      <td>Male</td>\n",
       "      <td>2</td>\n",
       "      <td>3.0</td>\n",
       "      <td>Deluxe</td>\n",
       "      <td>3.0</td>\n",
       "      <td>Divorced</td>\n",
       "      <td>2.0</td>\n",
       "      <td>0</td>\n",
       "      <td>3</td>\n",
       "      <td>1</td>\n",
       "      <td>0.0</td>\n",
       "      <td>Manager</td>\n",
       "      <td>19907.000000</td>\n",
       "      <td>0</td>\n",
       "    </tr>\n",
       "  </tbody>\n",
       "</table>\n",
       "</div>"
      ],
      "text/plain": [
       "   id   Age    TypeofContact  CityTier  DurationOfPitch      Occupation  \\\n",
       "0   1  28.0  Company Invited         1        10.000000  Small Business   \n",
       "1   2  34.0     Self Enquiry         3        16.072445  Small Business   \n",
       "2   3  45.0  Company Invited         1        15.183983        Salaried   \n",
       "3   4  29.0  Company Invited         1         7.000000  Small Business   \n",
       "4   5  42.0     Self Enquiry         3         6.000000        Salaried   \n",
       "\n",
       "   Gender  NumberOfPersonVisiting  NumberOfFollowups ProductPitched  \\\n",
       "0    Male                       3                4.0          Basic   \n",
       "1  Female                       2                4.0         Deluxe   \n",
       "2    Male                       2                3.0         Deluxe   \n",
       "3    Male                       3                5.0          Basic   \n",
       "4    Male                       2                3.0         Deluxe   \n",
       "\n",
       "   PreferredPropertyStar MaritalStatus  NumberOfTrips  Passport  \\\n",
       "0                    3.0       Married            3.0         0   \n",
       "1                    4.0        Single            1.0         1   \n",
       "2                    4.0       Married            2.0         0   \n",
       "3                    4.0       Married            3.0         0   \n",
       "4                    3.0      Divorced            2.0         0   \n",
       "\n",
       "   PitchSatisfactionScore  OwnCar  NumberOfChildrenVisiting Designation  \\\n",
       "0                       1       0                       1.0   Executive   \n",
       "1                       5       1                       0.0     Manager   \n",
       "2                       4       1                       0.0     Manager   \n",
       "3                       4       0                       1.0   Executive   \n",
       "4                       3       1                       0.0     Manager   \n",
       "\n",
       "   MonthlyIncome  ProdTaken  \n",
       "0   20384.000000          0  \n",
       "1   19599.000000          1  \n",
       "2   22614.373397          0  \n",
       "3   21274.000000          1  \n",
       "4   19907.000000          0  "
      ]
     },
     "execution_count": 27,
     "metadata": {},
     "output_type": "execute_result"
    }
   ],
   "source": [
    "train.head()"
   ]
  },
  {
   "cell_type": "code",
   "execution_count": 28,
   "metadata": {},
   "outputs": [
    {
     "data": {
      "text/html": [
       "<div>\n",
       "<style scoped>\n",
       "    .dataframe tbody tr th:only-of-type {\n",
       "        vertical-align: middle;\n",
       "    }\n",
       "\n",
       "    .dataframe tbody tr th {\n",
       "        vertical-align: top;\n",
       "    }\n",
       "\n",
       "    .dataframe thead th {\n",
       "        text-align: right;\n",
       "    }\n",
       "</style>\n",
       "<table border=\"1\" class=\"dataframe\">\n",
       "  <thead>\n",
       "    <tr style=\"text-align: right;\">\n",
       "      <th></th>\n",
       "      <th>id</th>\n",
       "      <th>Age</th>\n",
       "      <th>CityTier</th>\n",
       "      <th>DurationOfPitch</th>\n",
       "      <th>NumberOfPersonVisiting</th>\n",
       "      <th>NumberOfFollowups</th>\n",
       "      <th>PreferredPropertyStar</th>\n",
       "      <th>NumberOfTrips</th>\n",
       "      <th>Passport</th>\n",
       "      <th>PitchSatisfactionScore</th>\n",
       "      <th>OwnCar</th>\n",
       "      <th>NumberOfChildrenVisiting</th>\n",
       "      <th>MonthlyIncome</th>\n",
       "      <th>ProdTaken</th>\n",
       "    </tr>\n",
       "  </thead>\n",
       "  <tbody>\n",
       "    <tr>\n",
       "      <th>count</th>\n",
       "      <td>1955.000000</td>\n",
       "      <td>1955.000000</td>\n",
       "      <td>1955.000000</td>\n",
       "      <td>1955.000000</td>\n",
       "      <td>1955.000000</td>\n",
       "      <td>1955.000000</td>\n",
       "      <td>1955.000000</td>\n",
       "      <td>1955.000000</td>\n",
       "      <td>1955.000000</td>\n",
       "      <td>1955.000000</td>\n",
       "      <td>1955.000000</td>\n",
       "      <td>1955.000000</td>\n",
       "      <td>1955.000000</td>\n",
       "      <td>1955.000000</td>\n",
       "    </tr>\n",
       "    <tr>\n",
       "      <th>mean</th>\n",
       "      <td>978.000000</td>\n",
       "      <td>37.331475</td>\n",
       "      <td>1.641432</td>\n",
       "      <td>15.529053</td>\n",
       "      <td>2.922762</td>\n",
       "      <td>3.720205</td>\n",
       "      <td>3.565729</td>\n",
       "      <td>3.248082</td>\n",
       "      <td>0.291049</td>\n",
       "      <td>3.067519</td>\n",
       "      <td>0.619437</td>\n",
       "      <td>1.206650</td>\n",
       "      <td>23527.628448</td>\n",
       "      <td>0.195908</td>\n",
       "    </tr>\n",
       "    <tr>\n",
       "      <th>std</th>\n",
       "      <td>564.504207</td>\n",
       "      <td>8.999316</td>\n",
       "      <td>0.908744</td>\n",
       "      <td>7.935264</td>\n",
       "      <td>0.712276</td>\n",
       "      <td>1.001011</td>\n",
       "      <td>0.792204</td>\n",
       "      <td>1.788551</td>\n",
       "      <td>0.454362</td>\n",
       "      <td>1.372915</td>\n",
       "      <td>0.485649</td>\n",
       "      <td>0.856821</td>\n",
       "      <td>5516.575937</td>\n",
       "      <td>0.397000</td>\n",
       "    </tr>\n",
       "    <tr>\n",
       "      <th>min</th>\n",
       "      <td>1.000000</td>\n",
       "      <td>18.000000</td>\n",
       "      <td>1.000000</td>\n",
       "      <td>5.000000</td>\n",
       "      <td>1.000000</td>\n",
       "      <td>1.000000</td>\n",
       "      <td>3.000000</td>\n",
       "      <td>1.000000</td>\n",
       "      <td>0.000000</td>\n",
       "      <td>1.000000</td>\n",
       "      <td>0.000000</td>\n",
       "      <td>0.000000</td>\n",
       "      <td>1000.000000</td>\n",
       "      <td>0.000000</td>\n",
       "    </tr>\n",
       "    <tr>\n",
       "      <th>25%</th>\n",
       "      <td>489.500000</td>\n",
       "      <td>31.000000</td>\n",
       "      <td>1.000000</td>\n",
       "      <td>9.000000</td>\n",
       "      <td>2.000000</td>\n",
       "      <td>3.000000</td>\n",
       "      <td>3.000000</td>\n",
       "      <td>2.000000</td>\n",
       "      <td>0.000000</td>\n",
       "      <td>2.000000</td>\n",
       "      <td>0.000000</td>\n",
       "      <td>1.000000</td>\n",
       "      <td>20358.000000</td>\n",
       "      <td>0.000000</td>\n",
       "    </tr>\n",
       "    <tr>\n",
       "      <th>50%</th>\n",
       "      <td>978.000000</td>\n",
       "      <td>36.000000</td>\n",
       "      <td>1.000000</td>\n",
       "      <td>14.000000</td>\n",
       "      <td>3.000000</td>\n",
       "      <td>4.000000</td>\n",
       "      <td>3.000000</td>\n",
       "      <td>3.000000</td>\n",
       "      <td>0.000000</td>\n",
       "      <td>3.000000</td>\n",
       "      <td>1.000000</td>\n",
       "      <td>1.000000</td>\n",
       "      <td>22412.000000</td>\n",
       "      <td>0.000000</td>\n",
       "    </tr>\n",
       "    <tr>\n",
       "      <th>75%</th>\n",
       "      <td>1466.500000</td>\n",
       "      <td>43.000000</td>\n",
       "      <td>3.000000</td>\n",
       "      <td>19.000000</td>\n",
       "      <td>3.000000</td>\n",
       "      <td>4.000000</td>\n",
       "      <td>4.000000</td>\n",
       "      <td>4.000000</td>\n",
       "      <td>1.000000</td>\n",
       "      <td>4.000000</td>\n",
       "      <td>1.000000</td>\n",
       "      <td>2.000000</td>\n",
       "      <td>25401.500000</td>\n",
       "      <td>0.000000</td>\n",
       "    </tr>\n",
       "    <tr>\n",
       "      <th>max</th>\n",
       "      <td>1955.000000</td>\n",
       "      <td>61.000000</td>\n",
       "      <td>3.000000</td>\n",
       "      <td>36.000000</td>\n",
       "      <td>5.000000</td>\n",
       "      <td>6.000000</td>\n",
       "      <td>5.000000</td>\n",
       "      <td>19.000000</td>\n",
       "      <td>1.000000</td>\n",
       "      <td>5.000000</td>\n",
       "      <td>1.000000</td>\n",
       "      <td>3.000000</td>\n",
       "      <td>98678.000000</td>\n",
       "      <td>1.000000</td>\n",
       "    </tr>\n",
       "  </tbody>\n",
       "</table>\n",
       "</div>"
      ],
      "text/plain": [
       "                id          Age     CityTier  DurationOfPitch  \\\n",
       "count  1955.000000  1955.000000  1955.000000      1955.000000   \n",
       "mean    978.000000    37.331475     1.641432        15.529053   \n",
       "std     564.504207     8.999316     0.908744         7.935264   \n",
       "min       1.000000    18.000000     1.000000         5.000000   \n",
       "25%     489.500000    31.000000     1.000000         9.000000   \n",
       "50%     978.000000    36.000000     1.000000        14.000000   \n",
       "75%    1466.500000    43.000000     3.000000        19.000000   \n",
       "max    1955.000000    61.000000     3.000000        36.000000   \n",
       "\n",
       "       NumberOfPersonVisiting  NumberOfFollowups  PreferredPropertyStar  \\\n",
       "count             1955.000000        1955.000000            1955.000000   \n",
       "mean                 2.922762           3.720205               3.565729   \n",
       "std                  0.712276           1.001011               0.792204   \n",
       "min                  1.000000           1.000000               3.000000   \n",
       "25%                  2.000000           3.000000               3.000000   \n",
       "50%                  3.000000           4.000000               3.000000   \n",
       "75%                  3.000000           4.000000               4.000000   \n",
       "max                  5.000000           6.000000               5.000000   \n",
       "\n",
       "       NumberOfTrips     Passport  PitchSatisfactionScore       OwnCar  \\\n",
       "count    1955.000000  1955.000000             1955.000000  1955.000000   \n",
       "mean        3.248082     0.291049                3.067519     0.619437   \n",
       "std         1.788551     0.454362                1.372915     0.485649   \n",
       "min         1.000000     0.000000                1.000000     0.000000   \n",
       "25%         2.000000     0.000000                2.000000     0.000000   \n",
       "50%         3.000000     0.000000                3.000000     1.000000   \n",
       "75%         4.000000     1.000000                4.000000     1.000000   \n",
       "max        19.000000     1.000000                5.000000     1.000000   \n",
       "\n",
       "       NumberOfChildrenVisiting  MonthlyIncome    ProdTaken  \n",
       "count               1955.000000    1955.000000  1955.000000  \n",
       "mean                   1.206650   23527.628448     0.195908  \n",
       "std                    0.856821    5516.575937     0.397000  \n",
       "min                    0.000000    1000.000000     0.000000  \n",
       "25%                    1.000000   20358.000000     0.000000  \n",
       "50%                    1.000000   22412.000000     0.000000  \n",
       "75%                    2.000000   25401.500000     0.000000  \n",
       "max                    3.000000   98678.000000     1.000000  "
      ]
     },
     "execution_count": 28,
     "metadata": {},
     "output_type": "execute_result"
    }
   ],
   "source": [
    "train.describe()"
   ]
  },
  {
   "cell_type": "code",
   "execution_count": 29,
   "metadata": {},
   "outputs": [],
   "source": [
    "def age_grouping(data):\n",
    "    data.loc[data[\"Age\"] <= 31, \"Age\"] = 0\n",
    "    data.loc[(data[\"Age\"] > 31) & (data[\"Age\"] <= 36), \"Age\"] = 1\n",
    "    data.loc[(data[\"Age\"] > 36) & (data[\"Age\"] <= 43), \"Age\"] = 2\n",
    "    data.loc[data[\"Age\"] > 43, \"Age\"] = 3\n",
    "    data[\"Age\"] = data[\"Age\"].astype(\"int64\")"
   ]
  },
  {
   "cell_type": "code",
   "execution_count": 30,
   "metadata": {},
   "outputs": [],
   "source": [
    "age_grouping(train)\n",
    "age_grouping(test)"
   ]
  },
  {
   "cell_type": "code",
   "execution_count": 31,
   "metadata": {},
   "outputs": [
    {
     "data": {
      "text/plain": [
       "Self Enquiry       1389\n",
       "Company Invited     566\n",
       "Name: TypeofContact, dtype: int64"
      ]
     },
     "execution_count": 31,
     "metadata": {},
     "output_type": "execute_result"
    }
   ],
   "source": [
    "train[\"TypeofContact\"].value_counts()"
   ]
  },
  {
   "cell_type": "code",
   "execution_count": 32,
   "metadata": {},
   "outputs": [],
   "source": [
    "contact_dict = {\"Self Enquiry\" :0, \"Company Invited\": 1}\n",
    "train[\"TypeofContact\"] = train[\"TypeofContact\"].map(contact_dict)\n",
    "test[\"TypeofContact\"] = test[\"TypeofContact\"].map(contact_dict)"
   ]
  },
  {
   "cell_type": "code",
   "execution_count": 33,
   "metadata": {},
   "outputs": [],
   "source": [
    "def duration_pitch(data):\n",
    "    data.loc[data[\"DurationOfPitch\"] <= 9, \"DurationOfPitch\"] = 0\n",
    "    data.loc[(data[\"DurationOfPitch\"] > 9) & (data[\"DurationOfPitch\"] <=14), \"DurationOfPitch\"] = 1\n",
    "    data.loc[(data[\"DurationOfPitch\"] > 14) & (data[\"DurationOfPitch\"] <= 19), \"DurationOfPitch\"] = 2\n",
    "    data.loc[data[\"DurationOfPitch\"] > 19,\"DurationOfPitch\"] = 3\n",
    "    data[\"DurationOfPitch\"] = data[\"DurationOfPitch\"].astype(\"int64\")"
   ]
  },
  {
   "cell_type": "code",
   "execution_count": 34,
   "metadata": {},
   "outputs": [],
   "source": [
    "duration_pitch(train)\n",
    "duration_pitch(test)"
   ]
  },
  {
   "cell_type": "code",
   "execution_count": 35,
   "metadata": {},
   "outputs": [],
   "source": [
    "occ_dict = {\"Salaried\":0, \"Small Business\":1, \"Large Business\":2, \"Free Lancer\":3}\n",
    "train[\"Occupation\"] = train[\"Occupation\"].map(occ_dict)\n",
    "test[\"Occupation\"] = test[\"Occupation\"].map(occ_dict)"
   ]
  },
  {
   "cell_type": "code",
   "execution_count": 36,
   "metadata": {},
   "outputs": [],
   "source": [
    "gender_dict = {\"Male\":0, \"Female\":1, \"Fe Male\":2}\n",
    "train[\"Gender\"] = train[\"Gender\"].map(gender_dict)\n",
    "test[\"Gender\"] = test[\"Gender\"].map(gender_dict)"
   ]
  },
  {
   "cell_type": "code",
   "execution_count": 37,
   "metadata": {},
   "outputs": [],
   "source": [
    "train[\"NumberOfFollowups\"] = train[\"NumberOfFollowups\"].astype(\"int64\")\n",
    "test[\"NumberOfFollowups\"] = test[\"NumberOfFollowups\"].astype(\"int64\")\n",
    "train[\"PreferredPropertyStar\"] = train[\"PreferredPropertyStar\"].astype(\"int64\")\n",
    "test[\"PreferredPropertyStar\"] = test[\"PreferredPropertyStar\"].astype(\"int64\")\n",
    "train[\"NumberOfChildrenVisiting\"] = train[\"NumberOfChildrenVisiting\"].astype(\"int64\")\n",
    "test[\"NumberOfChildrenVisiting\"] = test[\"NumberOfChildrenVisiting\"].astype(\"int64\")"
   ]
  },
  {
   "cell_type": "code",
   "execution_count": 38,
   "metadata": {},
   "outputs": [],
   "source": [
    "product_dict = {\"Basic\":0, \"Deluxe\":1, \"Standard\":2, \"Super Deluxe\":3, \"King\":4}\n",
    "train[\"ProductPitched\"] = train[\"ProductPitched\"].map(product_dict)\n",
    "test[\"ProductPitched\"] = test[\"ProductPitched\"].map(product_dict)"
   ]
  },
  {
   "cell_type": "code",
   "execution_count": 39,
   "metadata": {},
   "outputs": [],
   "source": [
    "train[\"NumberOfTrips\"] = train[\"NumberOfTrips\"].astype(\"int64\")\n",
    "test[\"NumberOfTrips\"] = test[\"NumberOfTrips\"].astype(\"int64\")"
   ]
  },
  {
   "cell_type": "code",
   "execution_count": 40,
   "metadata": {},
   "outputs": [],
   "source": [
    "marry_dict = {\"Married\":0, \"Divorced\":1, \"Single\":2, \"Unmarried\":3}\n",
    "train[\"MaritalStatus\"] = train[\"MaritalStatus\"].map(marry_dict)\n",
    "test[\"MaritalStatus\"] = test[\"MaritalStatus\"].map(marry_dict)"
   ]
  },
  {
   "cell_type": "code",
   "execution_count": 41,
   "metadata": {},
   "outputs": [],
   "source": [
    "des_dict = {\"Executive\":0, \"Manager\":1, \"Senior Manager\":2, \"AVP\":3, \"VP\":4}\n",
    "train[\"Designation\"] = train[\"Designation\"].map(des_dict)\n",
    "test[\"Designation\"] = test[\"Designation\"].map(des_dict)"
   ]
  },
  {
   "cell_type": "code",
   "execution_count": 42,
   "metadata": {},
   "outputs": [],
   "source": [
    "# def income_group(data):\n",
    "#     data.loc[data[\"MonthlyIncome\"] <= 20358, \"MonthlyIncome\"] = 0\n",
    "#     data.loc[(data[\"MonthlyIncome\"] > 20358) & (data[\"MonthlyIncome\"] <= 22412), \"MonthlyIncome\"] = 1\n",
    "#     data.loc[(data[\"MonthlyIncome\"] > 22412) & (data[\"MonthlyIncome\"] <= 25401.5), \"MonthlyIncome\"] = 2\n",
    "#     data.loc[data[\"MonthlyIncome\"] >= 25401.5, \"MonthlyIncome\"] = 3\n",
    "#     data[\"MonthlyIncome\"] = data[\"MonthlyIncome\"].astype(\"int64\")"
   ]
  },
  {
   "cell_type": "code",
   "execution_count": 43,
   "metadata": {},
   "outputs": [],
   "source": [
    "def income_group(data):\n",
    "    data.loc[data[\"MonthlyIncome\"] <= 40000, \"MonthlyIncome\"] = 0\n",
    "    data.loc[data[\"MonthlyIncome\"] > 40000, \"MonthlyIncome\"] = 1"
   ]
  },
  {
   "cell_type": "code",
   "execution_count": 44,
   "metadata": {},
   "outputs": [],
   "source": [
    "income_group(train)\n",
    "income_group(test)"
   ]
  },
  {
   "cell_type": "code",
   "execution_count": 45,
   "metadata": {},
   "outputs": [],
   "source": [
    "train.drop(\"id\", axis=1, inplace=True)"
   ]
  },
  {
   "cell_type": "markdown",
   "metadata": {},
   "source": [
    "### 4. Training"
   ]
  },
  {
   "cell_type": "code",
   "execution_count": 56,
   "metadata": {},
   "outputs": [],
   "source": [
    "# Classification module\n",
    "from sklearn.linear_model import LogisticRegression\n",
    "from sklearn.svm import SVC\n",
    "from sklearn.neighbors import KNeighborsClassifier\n",
    "from sklearn.tree import DecisionTreeClassifier\n",
    "from sklearn.ensemble import RandomForestClassifier, ExtraTreesClassifier, VotingClassifier\n",
    "from sklearn.model_selection import KFold\n",
    "from sklearn.model_selection import cross_val_score\n",
    "\n",
    "import lightgbm"
   ]
  },
  {
   "cell_type": "code",
   "execution_count": 47,
   "metadata": {},
   "outputs": [],
   "source": [
    "#AutoML\n",
    "from pycaret import classification"
   ]
  },
  {
   "cell_type": "code",
   "execution_count": 48,
   "metadata": {},
   "outputs": [
    {
     "data": {
      "text/html": [
       "<style  type=\"text/css\" >\n",
       "#T_f929d450_2120_11ed_9af6_0242ac110002row44_col1{\n",
       "            background-color:  lightgreen;\n",
       "        }</style><table id=\"T_f929d450_2120_11ed_9af6_0242ac110002\" ><thead>    <tr>        <th class=\"blank level0\" ></th>        <th class=\"col_heading level0 col0\" >Description</th>        <th class=\"col_heading level0 col1\" >Value</th>    </tr></thead><tbody>\n",
       "                <tr>\n",
       "                        <th id=\"T_f929d450_2120_11ed_9af6_0242ac110002level0_row0\" class=\"row_heading level0 row0\" >0</th>\n",
       "                        <td id=\"T_f929d450_2120_11ed_9af6_0242ac110002row0_col0\" class=\"data row0 col0\" >session_id</td>\n",
       "                        <td id=\"T_f929d450_2120_11ed_9af6_0242ac110002row0_col1\" class=\"data row0 col1\" >553</td>\n",
       "            </tr>\n",
       "            <tr>\n",
       "                        <th id=\"T_f929d450_2120_11ed_9af6_0242ac110002level0_row1\" class=\"row_heading level0 row1\" >1</th>\n",
       "                        <td id=\"T_f929d450_2120_11ed_9af6_0242ac110002row1_col0\" class=\"data row1 col0\" >Target</td>\n",
       "                        <td id=\"T_f929d450_2120_11ed_9af6_0242ac110002row1_col1\" class=\"data row1 col1\" >ProdTaken</td>\n",
       "            </tr>\n",
       "            <tr>\n",
       "                        <th id=\"T_f929d450_2120_11ed_9af6_0242ac110002level0_row2\" class=\"row_heading level0 row2\" >2</th>\n",
       "                        <td id=\"T_f929d450_2120_11ed_9af6_0242ac110002row2_col0\" class=\"data row2 col0\" >Target Type</td>\n",
       "                        <td id=\"T_f929d450_2120_11ed_9af6_0242ac110002row2_col1\" class=\"data row2 col1\" >Binary</td>\n",
       "            </tr>\n",
       "            <tr>\n",
       "                        <th id=\"T_f929d450_2120_11ed_9af6_0242ac110002level0_row3\" class=\"row_heading level0 row3\" >3</th>\n",
       "                        <td id=\"T_f929d450_2120_11ed_9af6_0242ac110002row3_col0\" class=\"data row3 col0\" >Label Encoded</td>\n",
       "                        <td id=\"T_f929d450_2120_11ed_9af6_0242ac110002row3_col1\" class=\"data row3 col1\" >None</td>\n",
       "            </tr>\n",
       "            <tr>\n",
       "                        <th id=\"T_f929d450_2120_11ed_9af6_0242ac110002level0_row4\" class=\"row_heading level0 row4\" >4</th>\n",
       "                        <td id=\"T_f929d450_2120_11ed_9af6_0242ac110002row4_col0\" class=\"data row4 col0\" >Original Data</td>\n",
       "                        <td id=\"T_f929d450_2120_11ed_9af6_0242ac110002row4_col1\" class=\"data row4 col1\" >(1955, 19)</td>\n",
       "            </tr>\n",
       "            <tr>\n",
       "                        <th id=\"T_f929d450_2120_11ed_9af6_0242ac110002level0_row5\" class=\"row_heading level0 row5\" >5</th>\n",
       "                        <td id=\"T_f929d450_2120_11ed_9af6_0242ac110002row5_col0\" class=\"data row5 col0\" >Missing Values</td>\n",
       "                        <td id=\"T_f929d450_2120_11ed_9af6_0242ac110002row5_col1\" class=\"data row5 col1\" >False</td>\n",
       "            </tr>\n",
       "            <tr>\n",
       "                        <th id=\"T_f929d450_2120_11ed_9af6_0242ac110002level0_row6\" class=\"row_heading level0 row6\" >6</th>\n",
       "                        <td id=\"T_f929d450_2120_11ed_9af6_0242ac110002row6_col0\" class=\"data row6 col0\" >Numeric Features</td>\n",
       "                        <td id=\"T_f929d450_2120_11ed_9af6_0242ac110002row6_col1\" class=\"data row6 col1\" >0</td>\n",
       "            </tr>\n",
       "            <tr>\n",
       "                        <th id=\"T_f929d450_2120_11ed_9af6_0242ac110002level0_row7\" class=\"row_heading level0 row7\" >7</th>\n",
       "                        <td id=\"T_f929d450_2120_11ed_9af6_0242ac110002row7_col0\" class=\"data row7 col0\" >Categorical Features</td>\n",
       "                        <td id=\"T_f929d450_2120_11ed_9af6_0242ac110002row7_col1\" class=\"data row7 col1\" >18</td>\n",
       "            </tr>\n",
       "            <tr>\n",
       "                        <th id=\"T_f929d450_2120_11ed_9af6_0242ac110002level0_row8\" class=\"row_heading level0 row8\" >8</th>\n",
       "                        <td id=\"T_f929d450_2120_11ed_9af6_0242ac110002row8_col0\" class=\"data row8 col0\" >Ordinal Features</td>\n",
       "                        <td id=\"T_f929d450_2120_11ed_9af6_0242ac110002row8_col1\" class=\"data row8 col1\" >False</td>\n",
       "            </tr>\n",
       "            <tr>\n",
       "                        <th id=\"T_f929d450_2120_11ed_9af6_0242ac110002level0_row9\" class=\"row_heading level0 row9\" >9</th>\n",
       "                        <td id=\"T_f929d450_2120_11ed_9af6_0242ac110002row9_col0\" class=\"data row9 col0\" >High Cardinality Features</td>\n",
       "                        <td id=\"T_f929d450_2120_11ed_9af6_0242ac110002row9_col1\" class=\"data row9 col1\" >False</td>\n",
       "            </tr>\n",
       "            <tr>\n",
       "                        <th id=\"T_f929d450_2120_11ed_9af6_0242ac110002level0_row10\" class=\"row_heading level0 row10\" >10</th>\n",
       "                        <td id=\"T_f929d450_2120_11ed_9af6_0242ac110002row10_col0\" class=\"data row10 col0\" >High Cardinality Method</td>\n",
       "                        <td id=\"T_f929d450_2120_11ed_9af6_0242ac110002row10_col1\" class=\"data row10 col1\" >None</td>\n",
       "            </tr>\n",
       "            <tr>\n",
       "                        <th id=\"T_f929d450_2120_11ed_9af6_0242ac110002level0_row11\" class=\"row_heading level0 row11\" >11</th>\n",
       "                        <td id=\"T_f929d450_2120_11ed_9af6_0242ac110002row11_col0\" class=\"data row11 col0\" >Transformed Train Set</td>\n",
       "                        <td id=\"T_f929d450_2120_11ed_9af6_0242ac110002row11_col1\" class=\"data row11 col1\" >(1368, 63)</td>\n",
       "            </tr>\n",
       "            <tr>\n",
       "                        <th id=\"T_f929d450_2120_11ed_9af6_0242ac110002level0_row12\" class=\"row_heading level0 row12\" >12</th>\n",
       "                        <td id=\"T_f929d450_2120_11ed_9af6_0242ac110002row12_col0\" class=\"data row12 col0\" >Transformed Test Set</td>\n",
       "                        <td id=\"T_f929d450_2120_11ed_9af6_0242ac110002row12_col1\" class=\"data row12 col1\" >(587, 63)</td>\n",
       "            </tr>\n",
       "            <tr>\n",
       "                        <th id=\"T_f929d450_2120_11ed_9af6_0242ac110002level0_row13\" class=\"row_heading level0 row13\" >13</th>\n",
       "                        <td id=\"T_f929d450_2120_11ed_9af6_0242ac110002row13_col0\" class=\"data row13 col0\" >Shuffle Train-Test</td>\n",
       "                        <td id=\"T_f929d450_2120_11ed_9af6_0242ac110002row13_col1\" class=\"data row13 col1\" >True</td>\n",
       "            </tr>\n",
       "            <tr>\n",
       "                        <th id=\"T_f929d450_2120_11ed_9af6_0242ac110002level0_row14\" class=\"row_heading level0 row14\" >14</th>\n",
       "                        <td id=\"T_f929d450_2120_11ed_9af6_0242ac110002row14_col0\" class=\"data row14 col0\" >Stratify Train-Test</td>\n",
       "                        <td id=\"T_f929d450_2120_11ed_9af6_0242ac110002row14_col1\" class=\"data row14 col1\" >False</td>\n",
       "            </tr>\n",
       "            <tr>\n",
       "                        <th id=\"T_f929d450_2120_11ed_9af6_0242ac110002level0_row15\" class=\"row_heading level0 row15\" >15</th>\n",
       "                        <td id=\"T_f929d450_2120_11ed_9af6_0242ac110002row15_col0\" class=\"data row15 col0\" >Fold Generator</td>\n",
       "                        <td id=\"T_f929d450_2120_11ed_9af6_0242ac110002row15_col1\" class=\"data row15 col1\" >StratifiedKFold</td>\n",
       "            </tr>\n",
       "            <tr>\n",
       "                        <th id=\"T_f929d450_2120_11ed_9af6_0242ac110002level0_row16\" class=\"row_heading level0 row16\" >16</th>\n",
       "                        <td id=\"T_f929d450_2120_11ed_9af6_0242ac110002row16_col0\" class=\"data row16 col0\" >Fold Number</td>\n",
       "                        <td id=\"T_f929d450_2120_11ed_9af6_0242ac110002row16_col1\" class=\"data row16 col1\" >10</td>\n",
       "            </tr>\n",
       "            <tr>\n",
       "                        <th id=\"T_f929d450_2120_11ed_9af6_0242ac110002level0_row17\" class=\"row_heading level0 row17\" >17</th>\n",
       "                        <td id=\"T_f929d450_2120_11ed_9af6_0242ac110002row17_col0\" class=\"data row17 col0\" >CPU Jobs</td>\n",
       "                        <td id=\"T_f929d450_2120_11ed_9af6_0242ac110002row17_col1\" class=\"data row17 col1\" >-1</td>\n",
       "            </tr>\n",
       "            <tr>\n",
       "                        <th id=\"T_f929d450_2120_11ed_9af6_0242ac110002level0_row18\" class=\"row_heading level0 row18\" >18</th>\n",
       "                        <td id=\"T_f929d450_2120_11ed_9af6_0242ac110002row18_col0\" class=\"data row18 col0\" >Use GPU</td>\n",
       "                        <td id=\"T_f929d450_2120_11ed_9af6_0242ac110002row18_col1\" class=\"data row18 col1\" >False</td>\n",
       "            </tr>\n",
       "            <tr>\n",
       "                        <th id=\"T_f929d450_2120_11ed_9af6_0242ac110002level0_row19\" class=\"row_heading level0 row19\" >19</th>\n",
       "                        <td id=\"T_f929d450_2120_11ed_9af6_0242ac110002row19_col0\" class=\"data row19 col0\" >Log Experiment</td>\n",
       "                        <td id=\"T_f929d450_2120_11ed_9af6_0242ac110002row19_col1\" class=\"data row19 col1\" >False</td>\n",
       "            </tr>\n",
       "            <tr>\n",
       "                        <th id=\"T_f929d450_2120_11ed_9af6_0242ac110002level0_row20\" class=\"row_heading level0 row20\" >20</th>\n",
       "                        <td id=\"T_f929d450_2120_11ed_9af6_0242ac110002row20_col0\" class=\"data row20 col0\" >Experiment Name</td>\n",
       "                        <td id=\"T_f929d450_2120_11ed_9af6_0242ac110002row20_col1\" class=\"data row20 col1\" >clf-default-name</td>\n",
       "            </tr>\n",
       "            <tr>\n",
       "                        <th id=\"T_f929d450_2120_11ed_9af6_0242ac110002level0_row21\" class=\"row_heading level0 row21\" >21</th>\n",
       "                        <td id=\"T_f929d450_2120_11ed_9af6_0242ac110002row21_col0\" class=\"data row21 col0\" >USI</td>\n",
       "                        <td id=\"T_f929d450_2120_11ed_9af6_0242ac110002row21_col1\" class=\"data row21 col1\" >d633</td>\n",
       "            </tr>\n",
       "            <tr>\n",
       "                        <th id=\"T_f929d450_2120_11ed_9af6_0242ac110002level0_row22\" class=\"row_heading level0 row22\" >22</th>\n",
       "                        <td id=\"T_f929d450_2120_11ed_9af6_0242ac110002row22_col0\" class=\"data row22 col0\" >Imputation Type</td>\n",
       "                        <td id=\"T_f929d450_2120_11ed_9af6_0242ac110002row22_col1\" class=\"data row22 col1\" >simple</td>\n",
       "            </tr>\n",
       "            <tr>\n",
       "                        <th id=\"T_f929d450_2120_11ed_9af6_0242ac110002level0_row23\" class=\"row_heading level0 row23\" >23</th>\n",
       "                        <td id=\"T_f929d450_2120_11ed_9af6_0242ac110002row23_col0\" class=\"data row23 col0\" >Iterative Imputation Iteration</td>\n",
       "                        <td id=\"T_f929d450_2120_11ed_9af6_0242ac110002row23_col1\" class=\"data row23 col1\" >None</td>\n",
       "            </tr>\n",
       "            <tr>\n",
       "                        <th id=\"T_f929d450_2120_11ed_9af6_0242ac110002level0_row24\" class=\"row_heading level0 row24\" >24</th>\n",
       "                        <td id=\"T_f929d450_2120_11ed_9af6_0242ac110002row24_col0\" class=\"data row24 col0\" >Numeric Imputer</td>\n",
       "                        <td id=\"T_f929d450_2120_11ed_9af6_0242ac110002row24_col1\" class=\"data row24 col1\" >mean</td>\n",
       "            </tr>\n",
       "            <tr>\n",
       "                        <th id=\"T_f929d450_2120_11ed_9af6_0242ac110002level0_row25\" class=\"row_heading level0 row25\" >25</th>\n",
       "                        <td id=\"T_f929d450_2120_11ed_9af6_0242ac110002row25_col0\" class=\"data row25 col0\" >Iterative Imputation Numeric Model</td>\n",
       "                        <td id=\"T_f929d450_2120_11ed_9af6_0242ac110002row25_col1\" class=\"data row25 col1\" >None</td>\n",
       "            </tr>\n",
       "            <tr>\n",
       "                        <th id=\"T_f929d450_2120_11ed_9af6_0242ac110002level0_row26\" class=\"row_heading level0 row26\" >26</th>\n",
       "                        <td id=\"T_f929d450_2120_11ed_9af6_0242ac110002row26_col0\" class=\"data row26 col0\" >Categorical Imputer</td>\n",
       "                        <td id=\"T_f929d450_2120_11ed_9af6_0242ac110002row26_col1\" class=\"data row26 col1\" >constant</td>\n",
       "            </tr>\n",
       "            <tr>\n",
       "                        <th id=\"T_f929d450_2120_11ed_9af6_0242ac110002level0_row27\" class=\"row_heading level0 row27\" >27</th>\n",
       "                        <td id=\"T_f929d450_2120_11ed_9af6_0242ac110002row27_col0\" class=\"data row27 col0\" >Iterative Imputation Categorical Model</td>\n",
       "                        <td id=\"T_f929d450_2120_11ed_9af6_0242ac110002row27_col1\" class=\"data row27 col1\" >None</td>\n",
       "            </tr>\n",
       "            <tr>\n",
       "                        <th id=\"T_f929d450_2120_11ed_9af6_0242ac110002level0_row28\" class=\"row_heading level0 row28\" >28</th>\n",
       "                        <td id=\"T_f929d450_2120_11ed_9af6_0242ac110002row28_col0\" class=\"data row28 col0\" >Unknown Categoricals Handling</td>\n",
       "                        <td id=\"T_f929d450_2120_11ed_9af6_0242ac110002row28_col1\" class=\"data row28 col1\" >least_frequent</td>\n",
       "            </tr>\n",
       "            <tr>\n",
       "                        <th id=\"T_f929d450_2120_11ed_9af6_0242ac110002level0_row29\" class=\"row_heading level0 row29\" >29</th>\n",
       "                        <td id=\"T_f929d450_2120_11ed_9af6_0242ac110002row29_col0\" class=\"data row29 col0\" >Normalize</td>\n",
       "                        <td id=\"T_f929d450_2120_11ed_9af6_0242ac110002row29_col1\" class=\"data row29 col1\" >False</td>\n",
       "            </tr>\n",
       "            <tr>\n",
       "                        <th id=\"T_f929d450_2120_11ed_9af6_0242ac110002level0_row30\" class=\"row_heading level0 row30\" >30</th>\n",
       "                        <td id=\"T_f929d450_2120_11ed_9af6_0242ac110002row30_col0\" class=\"data row30 col0\" >Normalize Method</td>\n",
       "                        <td id=\"T_f929d450_2120_11ed_9af6_0242ac110002row30_col1\" class=\"data row30 col1\" >None</td>\n",
       "            </tr>\n",
       "            <tr>\n",
       "                        <th id=\"T_f929d450_2120_11ed_9af6_0242ac110002level0_row31\" class=\"row_heading level0 row31\" >31</th>\n",
       "                        <td id=\"T_f929d450_2120_11ed_9af6_0242ac110002row31_col0\" class=\"data row31 col0\" >Transformation</td>\n",
       "                        <td id=\"T_f929d450_2120_11ed_9af6_0242ac110002row31_col1\" class=\"data row31 col1\" >False</td>\n",
       "            </tr>\n",
       "            <tr>\n",
       "                        <th id=\"T_f929d450_2120_11ed_9af6_0242ac110002level0_row32\" class=\"row_heading level0 row32\" >32</th>\n",
       "                        <td id=\"T_f929d450_2120_11ed_9af6_0242ac110002row32_col0\" class=\"data row32 col0\" >Transformation Method</td>\n",
       "                        <td id=\"T_f929d450_2120_11ed_9af6_0242ac110002row32_col1\" class=\"data row32 col1\" >None</td>\n",
       "            </tr>\n",
       "            <tr>\n",
       "                        <th id=\"T_f929d450_2120_11ed_9af6_0242ac110002level0_row33\" class=\"row_heading level0 row33\" >33</th>\n",
       "                        <td id=\"T_f929d450_2120_11ed_9af6_0242ac110002row33_col0\" class=\"data row33 col0\" >PCA</td>\n",
       "                        <td id=\"T_f929d450_2120_11ed_9af6_0242ac110002row33_col1\" class=\"data row33 col1\" >False</td>\n",
       "            </tr>\n",
       "            <tr>\n",
       "                        <th id=\"T_f929d450_2120_11ed_9af6_0242ac110002level0_row34\" class=\"row_heading level0 row34\" >34</th>\n",
       "                        <td id=\"T_f929d450_2120_11ed_9af6_0242ac110002row34_col0\" class=\"data row34 col0\" >PCA Method</td>\n",
       "                        <td id=\"T_f929d450_2120_11ed_9af6_0242ac110002row34_col1\" class=\"data row34 col1\" >None</td>\n",
       "            </tr>\n",
       "            <tr>\n",
       "                        <th id=\"T_f929d450_2120_11ed_9af6_0242ac110002level0_row35\" class=\"row_heading level0 row35\" >35</th>\n",
       "                        <td id=\"T_f929d450_2120_11ed_9af6_0242ac110002row35_col0\" class=\"data row35 col0\" >PCA Components</td>\n",
       "                        <td id=\"T_f929d450_2120_11ed_9af6_0242ac110002row35_col1\" class=\"data row35 col1\" >None</td>\n",
       "            </tr>\n",
       "            <tr>\n",
       "                        <th id=\"T_f929d450_2120_11ed_9af6_0242ac110002level0_row36\" class=\"row_heading level0 row36\" >36</th>\n",
       "                        <td id=\"T_f929d450_2120_11ed_9af6_0242ac110002row36_col0\" class=\"data row36 col0\" >Ignore Low Variance</td>\n",
       "                        <td id=\"T_f929d450_2120_11ed_9af6_0242ac110002row36_col1\" class=\"data row36 col1\" >False</td>\n",
       "            </tr>\n",
       "            <tr>\n",
       "                        <th id=\"T_f929d450_2120_11ed_9af6_0242ac110002level0_row37\" class=\"row_heading level0 row37\" >37</th>\n",
       "                        <td id=\"T_f929d450_2120_11ed_9af6_0242ac110002row37_col0\" class=\"data row37 col0\" >Combine Rare Levels</td>\n",
       "                        <td id=\"T_f929d450_2120_11ed_9af6_0242ac110002row37_col1\" class=\"data row37 col1\" >False</td>\n",
       "            </tr>\n",
       "            <tr>\n",
       "                        <th id=\"T_f929d450_2120_11ed_9af6_0242ac110002level0_row38\" class=\"row_heading level0 row38\" >38</th>\n",
       "                        <td id=\"T_f929d450_2120_11ed_9af6_0242ac110002row38_col0\" class=\"data row38 col0\" >Rare Level Threshold</td>\n",
       "                        <td id=\"T_f929d450_2120_11ed_9af6_0242ac110002row38_col1\" class=\"data row38 col1\" >None</td>\n",
       "            </tr>\n",
       "            <tr>\n",
       "                        <th id=\"T_f929d450_2120_11ed_9af6_0242ac110002level0_row39\" class=\"row_heading level0 row39\" >39</th>\n",
       "                        <td id=\"T_f929d450_2120_11ed_9af6_0242ac110002row39_col0\" class=\"data row39 col0\" >Numeric Binning</td>\n",
       "                        <td id=\"T_f929d450_2120_11ed_9af6_0242ac110002row39_col1\" class=\"data row39 col1\" >False</td>\n",
       "            </tr>\n",
       "            <tr>\n",
       "                        <th id=\"T_f929d450_2120_11ed_9af6_0242ac110002level0_row40\" class=\"row_heading level0 row40\" >40</th>\n",
       "                        <td id=\"T_f929d450_2120_11ed_9af6_0242ac110002row40_col0\" class=\"data row40 col0\" >Remove Outliers</td>\n",
       "                        <td id=\"T_f929d450_2120_11ed_9af6_0242ac110002row40_col1\" class=\"data row40 col1\" >False</td>\n",
       "            </tr>\n",
       "            <tr>\n",
       "                        <th id=\"T_f929d450_2120_11ed_9af6_0242ac110002level0_row41\" class=\"row_heading level0 row41\" >41</th>\n",
       "                        <td id=\"T_f929d450_2120_11ed_9af6_0242ac110002row41_col0\" class=\"data row41 col0\" >Outliers Threshold</td>\n",
       "                        <td id=\"T_f929d450_2120_11ed_9af6_0242ac110002row41_col1\" class=\"data row41 col1\" >None</td>\n",
       "            </tr>\n",
       "            <tr>\n",
       "                        <th id=\"T_f929d450_2120_11ed_9af6_0242ac110002level0_row42\" class=\"row_heading level0 row42\" >42</th>\n",
       "                        <td id=\"T_f929d450_2120_11ed_9af6_0242ac110002row42_col0\" class=\"data row42 col0\" >Remove Multicollinearity</td>\n",
       "                        <td id=\"T_f929d450_2120_11ed_9af6_0242ac110002row42_col1\" class=\"data row42 col1\" >False</td>\n",
       "            </tr>\n",
       "            <tr>\n",
       "                        <th id=\"T_f929d450_2120_11ed_9af6_0242ac110002level0_row43\" class=\"row_heading level0 row43\" >43</th>\n",
       "                        <td id=\"T_f929d450_2120_11ed_9af6_0242ac110002row43_col0\" class=\"data row43 col0\" >Multicollinearity Threshold</td>\n",
       "                        <td id=\"T_f929d450_2120_11ed_9af6_0242ac110002row43_col1\" class=\"data row43 col1\" >None</td>\n",
       "            </tr>\n",
       "            <tr>\n",
       "                        <th id=\"T_f929d450_2120_11ed_9af6_0242ac110002level0_row44\" class=\"row_heading level0 row44\" >44</th>\n",
       "                        <td id=\"T_f929d450_2120_11ed_9af6_0242ac110002row44_col0\" class=\"data row44 col0\" >Remove Perfect Collinearity</td>\n",
       "                        <td id=\"T_f929d450_2120_11ed_9af6_0242ac110002row44_col1\" class=\"data row44 col1\" >True</td>\n",
       "            </tr>\n",
       "            <tr>\n",
       "                        <th id=\"T_f929d450_2120_11ed_9af6_0242ac110002level0_row45\" class=\"row_heading level0 row45\" >45</th>\n",
       "                        <td id=\"T_f929d450_2120_11ed_9af6_0242ac110002row45_col0\" class=\"data row45 col0\" >Clustering</td>\n",
       "                        <td id=\"T_f929d450_2120_11ed_9af6_0242ac110002row45_col1\" class=\"data row45 col1\" >False</td>\n",
       "            </tr>\n",
       "            <tr>\n",
       "                        <th id=\"T_f929d450_2120_11ed_9af6_0242ac110002level0_row46\" class=\"row_heading level0 row46\" >46</th>\n",
       "                        <td id=\"T_f929d450_2120_11ed_9af6_0242ac110002row46_col0\" class=\"data row46 col0\" >Clustering Iteration</td>\n",
       "                        <td id=\"T_f929d450_2120_11ed_9af6_0242ac110002row46_col1\" class=\"data row46 col1\" >None</td>\n",
       "            </tr>\n",
       "            <tr>\n",
       "                        <th id=\"T_f929d450_2120_11ed_9af6_0242ac110002level0_row47\" class=\"row_heading level0 row47\" >47</th>\n",
       "                        <td id=\"T_f929d450_2120_11ed_9af6_0242ac110002row47_col0\" class=\"data row47 col0\" >Polynomial Features</td>\n",
       "                        <td id=\"T_f929d450_2120_11ed_9af6_0242ac110002row47_col1\" class=\"data row47 col1\" >False</td>\n",
       "            </tr>\n",
       "            <tr>\n",
       "                        <th id=\"T_f929d450_2120_11ed_9af6_0242ac110002level0_row48\" class=\"row_heading level0 row48\" >48</th>\n",
       "                        <td id=\"T_f929d450_2120_11ed_9af6_0242ac110002row48_col0\" class=\"data row48 col0\" >Polynomial Degree</td>\n",
       "                        <td id=\"T_f929d450_2120_11ed_9af6_0242ac110002row48_col1\" class=\"data row48 col1\" >None</td>\n",
       "            </tr>\n",
       "            <tr>\n",
       "                        <th id=\"T_f929d450_2120_11ed_9af6_0242ac110002level0_row49\" class=\"row_heading level0 row49\" >49</th>\n",
       "                        <td id=\"T_f929d450_2120_11ed_9af6_0242ac110002row49_col0\" class=\"data row49 col0\" >Trignometry Features</td>\n",
       "                        <td id=\"T_f929d450_2120_11ed_9af6_0242ac110002row49_col1\" class=\"data row49 col1\" >False</td>\n",
       "            </tr>\n",
       "            <tr>\n",
       "                        <th id=\"T_f929d450_2120_11ed_9af6_0242ac110002level0_row50\" class=\"row_heading level0 row50\" >50</th>\n",
       "                        <td id=\"T_f929d450_2120_11ed_9af6_0242ac110002row50_col0\" class=\"data row50 col0\" >Polynomial Threshold</td>\n",
       "                        <td id=\"T_f929d450_2120_11ed_9af6_0242ac110002row50_col1\" class=\"data row50 col1\" >None</td>\n",
       "            </tr>\n",
       "            <tr>\n",
       "                        <th id=\"T_f929d450_2120_11ed_9af6_0242ac110002level0_row51\" class=\"row_heading level0 row51\" >51</th>\n",
       "                        <td id=\"T_f929d450_2120_11ed_9af6_0242ac110002row51_col0\" class=\"data row51 col0\" >Group Features</td>\n",
       "                        <td id=\"T_f929d450_2120_11ed_9af6_0242ac110002row51_col1\" class=\"data row51 col1\" >False</td>\n",
       "            </tr>\n",
       "            <tr>\n",
       "                        <th id=\"T_f929d450_2120_11ed_9af6_0242ac110002level0_row52\" class=\"row_heading level0 row52\" >52</th>\n",
       "                        <td id=\"T_f929d450_2120_11ed_9af6_0242ac110002row52_col0\" class=\"data row52 col0\" >Feature Selection</td>\n",
       "                        <td id=\"T_f929d450_2120_11ed_9af6_0242ac110002row52_col1\" class=\"data row52 col1\" >False</td>\n",
       "            </tr>\n",
       "            <tr>\n",
       "                        <th id=\"T_f929d450_2120_11ed_9af6_0242ac110002level0_row53\" class=\"row_heading level0 row53\" >53</th>\n",
       "                        <td id=\"T_f929d450_2120_11ed_9af6_0242ac110002row53_col0\" class=\"data row53 col0\" >Feature Selection Method</td>\n",
       "                        <td id=\"T_f929d450_2120_11ed_9af6_0242ac110002row53_col1\" class=\"data row53 col1\" >classic</td>\n",
       "            </tr>\n",
       "            <tr>\n",
       "                        <th id=\"T_f929d450_2120_11ed_9af6_0242ac110002level0_row54\" class=\"row_heading level0 row54\" >54</th>\n",
       "                        <td id=\"T_f929d450_2120_11ed_9af6_0242ac110002row54_col0\" class=\"data row54 col0\" >Features Selection Threshold</td>\n",
       "                        <td id=\"T_f929d450_2120_11ed_9af6_0242ac110002row54_col1\" class=\"data row54 col1\" >None</td>\n",
       "            </tr>\n",
       "            <tr>\n",
       "                        <th id=\"T_f929d450_2120_11ed_9af6_0242ac110002level0_row55\" class=\"row_heading level0 row55\" >55</th>\n",
       "                        <td id=\"T_f929d450_2120_11ed_9af6_0242ac110002row55_col0\" class=\"data row55 col0\" >Feature Interaction</td>\n",
       "                        <td id=\"T_f929d450_2120_11ed_9af6_0242ac110002row55_col1\" class=\"data row55 col1\" >False</td>\n",
       "            </tr>\n",
       "            <tr>\n",
       "                        <th id=\"T_f929d450_2120_11ed_9af6_0242ac110002level0_row56\" class=\"row_heading level0 row56\" >56</th>\n",
       "                        <td id=\"T_f929d450_2120_11ed_9af6_0242ac110002row56_col0\" class=\"data row56 col0\" >Feature Ratio</td>\n",
       "                        <td id=\"T_f929d450_2120_11ed_9af6_0242ac110002row56_col1\" class=\"data row56 col1\" >False</td>\n",
       "            </tr>\n",
       "            <tr>\n",
       "                        <th id=\"T_f929d450_2120_11ed_9af6_0242ac110002level0_row57\" class=\"row_heading level0 row57\" >57</th>\n",
       "                        <td id=\"T_f929d450_2120_11ed_9af6_0242ac110002row57_col0\" class=\"data row57 col0\" >Interaction Threshold</td>\n",
       "                        <td id=\"T_f929d450_2120_11ed_9af6_0242ac110002row57_col1\" class=\"data row57 col1\" >None</td>\n",
       "            </tr>\n",
       "            <tr>\n",
       "                        <th id=\"T_f929d450_2120_11ed_9af6_0242ac110002level0_row58\" class=\"row_heading level0 row58\" >58</th>\n",
       "                        <td id=\"T_f929d450_2120_11ed_9af6_0242ac110002row58_col0\" class=\"data row58 col0\" >Fix Imbalance</td>\n",
       "                        <td id=\"T_f929d450_2120_11ed_9af6_0242ac110002row58_col1\" class=\"data row58 col1\" >False</td>\n",
       "            </tr>\n",
       "            <tr>\n",
       "                        <th id=\"T_f929d450_2120_11ed_9af6_0242ac110002level0_row59\" class=\"row_heading level0 row59\" >59</th>\n",
       "                        <td id=\"T_f929d450_2120_11ed_9af6_0242ac110002row59_col0\" class=\"data row59 col0\" >Fix Imbalance Method</td>\n",
       "                        <td id=\"T_f929d450_2120_11ed_9af6_0242ac110002row59_col1\" class=\"data row59 col1\" >SMOTE</td>\n",
       "            </tr>\n",
       "    </tbody></table>"
      ],
      "text/plain": [
       "<pandas.io.formats.style.Styler at 0x7f79c4abf5f8>"
      ]
     },
     "metadata": {},
     "output_type": "display_data"
    }
   ],
   "source": [
    "auto_ml = classification.setup(data=train, target='ProdTaken', fold_strategy='stratifiedkfold')"
   ]
  },
  {
   "cell_type": "code",
   "execution_count": 49,
   "metadata": {},
   "outputs": [
    {
     "data": {
      "text/html": [
       "<style  type=\"text/css\" >\n",
       "    #T_04718d58_2121_11ed_9af6_0242ac110002 th {\n",
       "          text-align: left;\n",
       "    }#T_04718d58_2121_11ed_9af6_0242ac110002row0_col0,#T_04718d58_2121_11ed_9af6_0242ac110002row0_col3,#T_04718d58_2121_11ed_9af6_0242ac110002row0_col4,#T_04718d58_2121_11ed_9af6_0242ac110002row0_col5,#T_04718d58_2121_11ed_9af6_0242ac110002row1_col0,#T_04718d58_2121_11ed_9af6_0242ac110002row1_col1,#T_04718d58_2121_11ed_9af6_0242ac110002row1_col2,#T_04718d58_2121_11ed_9af6_0242ac110002row1_col3,#T_04718d58_2121_11ed_9af6_0242ac110002row1_col4,#T_04718d58_2121_11ed_9af6_0242ac110002row1_col6,#T_04718d58_2121_11ed_9af6_0242ac110002row1_col7,#T_04718d58_2121_11ed_9af6_0242ac110002row2_col0,#T_04718d58_2121_11ed_9af6_0242ac110002row2_col1,#T_04718d58_2121_11ed_9af6_0242ac110002row2_col2,#T_04718d58_2121_11ed_9af6_0242ac110002row2_col3,#T_04718d58_2121_11ed_9af6_0242ac110002row2_col5,#T_04718d58_2121_11ed_9af6_0242ac110002row2_col6,#T_04718d58_2121_11ed_9af6_0242ac110002row2_col7,#T_04718d58_2121_11ed_9af6_0242ac110002row3_col0,#T_04718d58_2121_11ed_9af6_0242ac110002row3_col1,#T_04718d58_2121_11ed_9af6_0242ac110002row3_col2,#T_04718d58_2121_11ed_9af6_0242ac110002row3_col3,#T_04718d58_2121_11ed_9af6_0242ac110002row3_col4,#T_04718d58_2121_11ed_9af6_0242ac110002row3_col5,#T_04718d58_2121_11ed_9af6_0242ac110002row3_col6,#T_04718d58_2121_11ed_9af6_0242ac110002row3_col7,#T_04718d58_2121_11ed_9af6_0242ac110002row4_col0,#T_04718d58_2121_11ed_9af6_0242ac110002row4_col1,#T_04718d58_2121_11ed_9af6_0242ac110002row4_col2,#T_04718d58_2121_11ed_9af6_0242ac110002row4_col3,#T_04718d58_2121_11ed_9af6_0242ac110002row4_col4,#T_04718d58_2121_11ed_9af6_0242ac110002row4_col5,#T_04718d58_2121_11ed_9af6_0242ac110002row4_col6,#T_04718d58_2121_11ed_9af6_0242ac110002row4_col7,#T_04718d58_2121_11ed_9af6_0242ac110002row5_col0,#T_04718d58_2121_11ed_9af6_0242ac110002row5_col1,#T_04718d58_2121_11ed_9af6_0242ac110002row5_col2,#T_04718d58_2121_11ed_9af6_0242ac110002row5_col3,#T_04718d58_2121_11ed_9af6_0242ac110002row5_col4,#T_04718d58_2121_11ed_9af6_0242ac110002row5_col5,#T_04718d58_2121_11ed_9af6_0242ac110002row5_col6,#T_04718d58_2121_11ed_9af6_0242ac110002row5_col7,#T_04718d58_2121_11ed_9af6_0242ac110002row6_col0,#T_04718d58_2121_11ed_9af6_0242ac110002row6_col1,#T_04718d58_2121_11ed_9af6_0242ac110002row6_col2,#T_04718d58_2121_11ed_9af6_0242ac110002row6_col3,#T_04718d58_2121_11ed_9af6_0242ac110002row6_col4,#T_04718d58_2121_11ed_9af6_0242ac110002row6_col5,#T_04718d58_2121_11ed_9af6_0242ac110002row6_col6,#T_04718d58_2121_11ed_9af6_0242ac110002row6_col7,#T_04718d58_2121_11ed_9af6_0242ac110002row7_col0,#T_04718d58_2121_11ed_9af6_0242ac110002row7_col1,#T_04718d58_2121_11ed_9af6_0242ac110002row7_col2,#T_04718d58_2121_11ed_9af6_0242ac110002row7_col3,#T_04718d58_2121_11ed_9af6_0242ac110002row7_col4,#T_04718d58_2121_11ed_9af6_0242ac110002row7_col5,#T_04718d58_2121_11ed_9af6_0242ac110002row7_col6,#T_04718d58_2121_11ed_9af6_0242ac110002row7_col7,#T_04718d58_2121_11ed_9af6_0242ac110002row8_col0,#T_04718d58_2121_11ed_9af6_0242ac110002row8_col1,#T_04718d58_2121_11ed_9af6_0242ac110002row8_col2,#T_04718d58_2121_11ed_9af6_0242ac110002row8_col3,#T_04718d58_2121_11ed_9af6_0242ac110002row8_col4,#T_04718d58_2121_11ed_9af6_0242ac110002row8_col5,#T_04718d58_2121_11ed_9af6_0242ac110002row8_col6,#T_04718d58_2121_11ed_9af6_0242ac110002row8_col7,#T_04718d58_2121_11ed_9af6_0242ac110002row9_col0,#T_04718d58_2121_11ed_9af6_0242ac110002row9_col1,#T_04718d58_2121_11ed_9af6_0242ac110002row9_col2,#T_04718d58_2121_11ed_9af6_0242ac110002row9_col3,#T_04718d58_2121_11ed_9af6_0242ac110002row9_col4,#T_04718d58_2121_11ed_9af6_0242ac110002row9_col5,#T_04718d58_2121_11ed_9af6_0242ac110002row9_col6,#T_04718d58_2121_11ed_9af6_0242ac110002row9_col7,#T_04718d58_2121_11ed_9af6_0242ac110002row10_col0,#T_04718d58_2121_11ed_9af6_0242ac110002row10_col1,#T_04718d58_2121_11ed_9af6_0242ac110002row10_col2,#T_04718d58_2121_11ed_9af6_0242ac110002row10_col3,#T_04718d58_2121_11ed_9af6_0242ac110002row10_col4,#T_04718d58_2121_11ed_9af6_0242ac110002row10_col5,#T_04718d58_2121_11ed_9af6_0242ac110002row10_col6,#T_04718d58_2121_11ed_9af6_0242ac110002row10_col7,#T_04718d58_2121_11ed_9af6_0242ac110002row11_col0,#T_04718d58_2121_11ed_9af6_0242ac110002row11_col1,#T_04718d58_2121_11ed_9af6_0242ac110002row11_col2,#T_04718d58_2121_11ed_9af6_0242ac110002row11_col3,#T_04718d58_2121_11ed_9af6_0242ac110002row11_col4,#T_04718d58_2121_11ed_9af6_0242ac110002row11_col5,#T_04718d58_2121_11ed_9af6_0242ac110002row11_col6,#T_04718d58_2121_11ed_9af6_0242ac110002row11_col7,#T_04718d58_2121_11ed_9af6_0242ac110002row12_col0,#T_04718d58_2121_11ed_9af6_0242ac110002row12_col1,#T_04718d58_2121_11ed_9af6_0242ac110002row12_col2,#T_04718d58_2121_11ed_9af6_0242ac110002row12_col3,#T_04718d58_2121_11ed_9af6_0242ac110002row12_col4,#T_04718d58_2121_11ed_9af6_0242ac110002row12_col5,#T_04718d58_2121_11ed_9af6_0242ac110002row12_col6,#T_04718d58_2121_11ed_9af6_0242ac110002row12_col7,#T_04718d58_2121_11ed_9af6_0242ac110002row13_col0,#T_04718d58_2121_11ed_9af6_0242ac110002row13_col1,#T_04718d58_2121_11ed_9af6_0242ac110002row13_col2,#T_04718d58_2121_11ed_9af6_0242ac110002row13_col4,#T_04718d58_2121_11ed_9af6_0242ac110002row13_col5,#T_04718d58_2121_11ed_9af6_0242ac110002row13_col6,#T_04718d58_2121_11ed_9af6_0242ac110002row13_col7{\n",
       "            text-align:  left;\n",
       "            text-align:  left;\n",
       "        }#T_04718d58_2121_11ed_9af6_0242ac110002row0_col1,#T_04718d58_2121_11ed_9af6_0242ac110002row0_col2,#T_04718d58_2121_11ed_9af6_0242ac110002row0_col6,#T_04718d58_2121_11ed_9af6_0242ac110002row0_col7,#T_04718d58_2121_11ed_9af6_0242ac110002row1_col5,#T_04718d58_2121_11ed_9af6_0242ac110002row2_col4,#T_04718d58_2121_11ed_9af6_0242ac110002row13_col3{\n",
       "            text-align:  left;\n",
       "            text-align:  left;\n",
       "            background-color:  yellow;\n",
       "        }#T_04718d58_2121_11ed_9af6_0242ac110002row0_col8,#T_04718d58_2121_11ed_9af6_0242ac110002row1_col8,#T_04718d58_2121_11ed_9af6_0242ac110002row2_col8,#T_04718d58_2121_11ed_9af6_0242ac110002row3_col8,#T_04718d58_2121_11ed_9af6_0242ac110002row4_col8,#T_04718d58_2121_11ed_9af6_0242ac110002row5_col8,#T_04718d58_2121_11ed_9af6_0242ac110002row6_col8,#T_04718d58_2121_11ed_9af6_0242ac110002row7_col8,#T_04718d58_2121_11ed_9af6_0242ac110002row8_col8,#T_04718d58_2121_11ed_9af6_0242ac110002row9_col8,#T_04718d58_2121_11ed_9af6_0242ac110002row11_col8,#T_04718d58_2121_11ed_9af6_0242ac110002row12_col8,#T_04718d58_2121_11ed_9af6_0242ac110002row13_col8{\n",
       "            text-align:  left;\n",
       "            text-align:  left;\n",
       "            background-color:  lightgrey;\n",
       "        }#T_04718d58_2121_11ed_9af6_0242ac110002row10_col8{\n",
       "            text-align:  left;\n",
       "            text-align:  left;\n",
       "            background-color:  yellow;\n",
       "            background-color:  lightgrey;\n",
       "        }</style><table id=\"T_04718d58_2121_11ed_9af6_0242ac110002\" ><thead>    <tr>        <th class=\"blank level0\" ></th>        <th class=\"col_heading level0 col0\" >Model</th>        <th class=\"col_heading level0 col1\" >Accuracy</th>        <th class=\"col_heading level0 col2\" >AUC</th>        <th class=\"col_heading level0 col3\" >Recall</th>        <th class=\"col_heading level0 col4\" >Prec.</th>        <th class=\"col_heading level0 col5\" >F1</th>        <th class=\"col_heading level0 col6\" >Kappa</th>        <th class=\"col_heading level0 col7\" >MCC</th>        <th class=\"col_heading level0 col8\" >TT (Sec)</th>    </tr></thead><tbody>\n",
       "                <tr>\n",
       "                        <th id=\"T_04718d58_2121_11ed_9af6_0242ac110002level0_row0\" class=\"row_heading level0 row0\" >et</th>\n",
       "                        <td id=\"T_04718d58_2121_11ed_9af6_0242ac110002row0_col0\" class=\"data row0 col0\" >Extra Trees Classifier</td>\n",
       "                        <td id=\"T_04718d58_2121_11ed_9af6_0242ac110002row0_col1\" class=\"data row0 col1\" >0.868</td>\n",
       "                        <td id=\"T_04718d58_2121_11ed_9af6_0242ac110002row0_col2\" class=\"data row0 col2\" >0.851</td>\n",
       "                        <td id=\"T_04718d58_2121_11ed_9af6_0242ac110002row0_col3\" class=\"data row0 col3\" >0.399</td>\n",
       "                        <td id=\"T_04718d58_2121_11ed_9af6_0242ac110002row0_col4\" class=\"data row0 col4\" >0.851</td>\n",
       "                        <td id=\"T_04718d58_2121_11ed_9af6_0242ac110002row0_col5\" class=\"data row0 col5\" >0.542</td>\n",
       "                        <td id=\"T_04718d58_2121_11ed_9af6_0242ac110002row0_col6\" class=\"data row0 col6\" >0.477</td>\n",
       "                        <td id=\"T_04718d58_2121_11ed_9af6_0242ac110002row0_col7\" class=\"data row0 col7\" >0.524</td>\n",
       "                        <td id=\"T_04718d58_2121_11ed_9af6_0242ac110002row0_col8\" class=\"data row0 col8\" >0.496</td>\n",
       "            </tr>\n",
       "            <tr>\n",
       "                        <th id=\"T_04718d58_2121_11ed_9af6_0242ac110002level0_row1\" class=\"row_heading level0 row1\" >lightgbm</th>\n",
       "                        <td id=\"T_04718d58_2121_11ed_9af6_0242ac110002row1_col0\" class=\"data row1 col0\" >Light Gradient Boosting Machine</td>\n",
       "                        <td id=\"T_04718d58_2121_11ed_9af6_0242ac110002row1_col1\" class=\"data row1 col1\" >0.858</td>\n",
       "                        <td id=\"T_04718d58_2121_11ed_9af6_0242ac110002row1_col2\" class=\"data row1 col2\" >0.813</td>\n",
       "                        <td id=\"T_04718d58_2121_11ed_9af6_0242ac110002row1_col3\" class=\"data row1 col3\" >0.436</td>\n",
       "                        <td id=\"T_04718d58_2121_11ed_9af6_0242ac110002row1_col4\" class=\"data row1 col4\" >0.732</td>\n",
       "                        <td id=\"T_04718d58_2121_11ed_9af6_0242ac110002row1_col5\" class=\"data row1 col5\" >0.546</td>\n",
       "                        <td id=\"T_04718d58_2121_11ed_9af6_0242ac110002row1_col6\" class=\"data row1 col6\" >0.468</td>\n",
       "                        <td id=\"T_04718d58_2121_11ed_9af6_0242ac110002row1_col7\" class=\"data row1 col7\" >0.491</td>\n",
       "                        <td id=\"T_04718d58_2121_11ed_9af6_0242ac110002row1_col8\" class=\"data row1 col8\" >0.090</td>\n",
       "            </tr>\n",
       "            <tr>\n",
       "                        <th id=\"T_04718d58_2121_11ed_9af6_0242ac110002level0_row2\" class=\"row_heading level0 row2\" >rf</th>\n",
       "                        <td id=\"T_04718d58_2121_11ed_9af6_0242ac110002row2_col0\" class=\"data row2 col0\" >Random Forest Classifier</td>\n",
       "                        <td id=\"T_04718d58_2121_11ed_9af6_0242ac110002row2_col1\" class=\"data row2 col1\" >0.855</td>\n",
       "                        <td id=\"T_04718d58_2121_11ed_9af6_0242ac110002row2_col2\" class=\"data row2 col2\" >0.845</td>\n",
       "                        <td id=\"T_04718d58_2121_11ed_9af6_0242ac110002row2_col3\" class=\"data row2 col3\" >0.298</td>\n",
       "                        <td id=\"T_04718d58_2121_11ed_9af6_0242ac110002row2_col4\" class=\"data row2 col4\" >0.896</td>\n",
       "                        <td id=\"T_04718d58_2121_11ed_9af6_0242ac110002row2_col5\" class=\"data row2 col5\" >0.444</td>\n",
       "                        <td id=\"T_04718d58_2121_11ed_9af6_0242ac110002row2_col6\" class=\"data row2 col6\" >0.384</td>\n",
       "                        <td id=\"T_04718d58_2121_11ed_9af6_0242ac110002row2_col7\" class=\"data row2 col7\" >0.463</td>\n",
       "                        <td id=\"T_04718d58_2121_11ed_9af6_0242ac110002row2_col8\" class=\"data row2 col8\" >0.494</td>\n",
       "            </tr>\n",
       "            <tr>\n",
       "                        <th id=\"T_04718d58_2121_11ed_9af6_0242ac110002level0_row3\" class=\"row_heading level0 row3\" >gbc</th>\n",
       "                        <td id=\"T_04718d58_2121_11ed_9af6_0242ac110002row3_col0\" class=\"data row3 col0\" >Gradient Boosting Classifier</td>\n",
       "                        <td id=\"T_04718d58_2121_11ed_9af6_0242ac110002row3_col1\" class=\"data row3 col1\" >0.846</td>\n",
       "                        <td id=\"T_04718d58_2121_11ed_9af6_0242ac110002row3_col2\" class=\"data row3 col2\" >0.792</td>\n",
       "                        <td id=\"T_04718d58_2121_11ed_9af6_0242ac110002row3_col3\" class=\"data row3 col3\" >0.384</td>\n",
       "                        <td id=\"T_04718d58_2121_11ed_9af6_0242ac110002row3_col4\" class=\"data row3 col4\" >0.698</td>\n",
       "                        <td id=\"T_04718d58_2121_11ed_9af6_0242ac110002row3_col5\" class=\"data row3 col5\" >0.494</td>\n",
       "                        <td id=\"T_04718d58_2121_11ed_9af6_0242ac110002row3_col6\" class=\"data row3 col6\" >0.412</td>\n",
       "                        <td id=\"T_04718d58_2121_11ed_9af6_0242ac110002row3_col7\" class=\"data row3 col7\" >0.438</td>\n",
       "                        <td id=\"T_04718d58_2121_11ed_9af6_0242ac110002row3_col8\" class=\"data row3 col8\" >0.120</td>\n",
       "            </tr>\n",
       "            <tr>\n",
       "                        <th id=\"T_04718d58_2121_11ed_9af6_0242ac110002level0_row4\" class=\"row_heading level0 row4\" >lr</th>\n",
       "                        <td id=\"T_04718d58_2121_11ed_9af6_0242ac110002row4_col0\" class=\"data row4 col0\" >Logistic Regression</td>\n",
       "                        <td id=\"T_04718d58_2121_11ed_9af6_0242ac110002row4_col1\" class=\"data row4 col1\" >0.838</td>\n",
       "                        <td id=\"T_04718d58_2121_11ed_9af6_0242ac110002row4_col2\" class=\"data row4 col2\" >0.769</td>\n",
       "                        <td id=\"T_04718d58_2121_11ed_9af6_0242ac110002row4_col3\" class=\"data row4 col3\" >0.358</td>\n",
       "                        <td id=\"T_04718d58_2121_11ed_9af6_0242ac110002row4_col4\" class=\"data row4 col4\" >0.682</td>\n",
       "                        <td id=\"T_04718d58_2121_11ed_9af6_0242ac110002row4_col5\" class=\"data row4 col5\" >0.465</td>\n",
       "                        <td id=\"T_04718d58_2121_11ed_9af6_0242ac110002row4_col6\" class=\"data row4 col6\" >0.380</td>\n",
       "                        <td id=\"T_04718d58_2121_11ed_9af6_0242ac110002row4_col7\" class=\"data row4 col7\" >0.410</td>\n",
       "                        <td id=\"T_04718d58_2121_11ed_9af6_0242ac110002row4_col8\" class=\"data row4 col8\" >0.614</td>\n",
       "            </tr>\n",
       "            <tr>\n",
       "                        <th id=\"T_04718d58_2121_11ed_9af6_0242ac110002level0_row5\" class=\"row_heading level0 row5\" >ridge</th>\n",
       "                        <td id=\"T_04718d58_2121_11ed_9af6_0242ac110002row5_col0\" class=\"data row5 col0\" >Ridge Classifier</td>\n",
       "                        <td id=\"T_04718d58_2121_11ed_9af6_0242ac110002row5_col1\" class=\"data row5 col1\" >0.834</td>\n",
       "                        <td id=\"T_04718d58_2121_11ed_9af6_0242ac110002row5_col2\" class=\"data row5 col2\" >0.000</td>\n",
       "                        <td id=\"T_04718d58_2121_11ed_9af6_0242ac110002row5_col3\" class=\"data row5 col3\" >0.272</td>\n",
       "                        <td id=\"T_04718d58_2121_11ed_9af6_0242ac110002row5_col4\" class=\"data row5 col4\" >0.710</td>\n",
       "                        <td id=\"T_04718d58_2121_11ed_9af6_0242ac110002row5_col5\" class=\"data row5 col5\" >0.390</td>\n",
       "                        <td id=\"T_04718d58_2121_11ed_9af6_0242ac110002row5_col6\" class=\"data row5 col6\" >0.315</td>\n",
       "                        <td id=\"T_04718d58_2121_11ed_9af6_0242ac110002row5_col7\" class=\"data row5 col7\" >0.366</td>\n",
       "                        <td id=\"T_04718d58_2121_11ed_9af6_0242ac110002row5_col8\" class=\"data row5 col8\" >0.016</td>\n",
       "            </tr>\n",
       "            <tr>\n",
       "                        <th id=\"T_04718d58_2121_11ed_9af6_0242ac110002level0_row6\" class=\"row_heading level0 row6\" >lda</th>\n",
       "                        <td id=\"T_04718d58_2121_11ed_9af6_0242ac110002row6_col0\" class=\"data row6 col0\" >Linear Discriminant Analysis</td>\n",
       "                        <td id=\"T_04718d58_2121_11ed_9af6_0242ac110002row6_col1\" class=\"data row6 col1\" >0.834</td>\n",
       "                        <td id=\"T_04718d58_2121_11ed_9af6_0242ac110002row6_col2\" class=\"data row6 col2\" >0.772</td>\n",
       "                        <td id=\"T_04718d58_2121_11ed_9af6_0242ac110002row6_col3\" class=\"data row6 col3\" >0.384</td>\n",
       "                        <td id=\"T_04718d58_2121_11ed_9af6_0242ac110002row6_col4\" class=\"data row6 col4\" >0.630</td>\n",
       "                        <td id=\"T_04718d58_2121_11ed_9af6_0242ac110002row6_col5\" class=\"data row6 col5\" >0.475</td>\n",
       "                        <td id=\"T_04718d58_2121_11ed_9af6_0242ac110002row6_col6\" class=\"data row6 col6\" >0.384</td>\n",
       "                        <td id=\"T_04718d58_2121_11ed_9af6_0242ac110002row6_col7\" class=\"data row6 col7\" >0.401</td>\n",
       "                        <td id=\"T_04718d58_2121_11ed_9af6_0242ac110002row6_col8\" class=\"data row6 col8\" >0.022</td>\n",
       "            </tr>\n",
       "            <tr>\n",
       "                        <th id=\"T_04718d58_2121_11ed_9af6_0242ac110002level0_row7\" class=\"row_heading level0 row7\" >ada</th>\n",
       "                        <td id=\"T_04718d58_2121_11ed_9af6_0242ac110002row7_col0\" class=\"data row7 col0\" >Ada Boost Classifier</td>\n",
       "                        <td id=\"T_04718d58_2121_11ed_9af6_0242ac110002row7_col1\" class=\"data row7 col1\" >0.827</td>\n",
       "                        <td id=\"T_04718d58_2121_11ed_9af6_0242ac110002row7_col2\" class=\"data row7 col2\" >0.758</td>\n",
       "                        <td id=\"T_04718d58_2121_11ed_9af6_0242ac110002row7_col3\" class=\"data row7 col3\" >0.332</td>\n",
       "                        <td id=\"T_04718d58_2121_11ed_9af6_0242ac110002row7_col4\" class=\"data row7 col4\" >0.624</td>\n",
       "                        <td id=\"T_04718d58_2121_11ed_9af6_0242ac110002row7_col5\" class=\"data row7 col5\" >0.430</td>\n",
       "                        <td id=\"T_04718d58_2121_11ed_9af6_0242ac110002row7_col6\" class=\"data row7 col6\" >0.339</td>\n",
       "                        <td id=\"T_04718d58_2121_11ed_9af6_0242ac110002row7_col7\" class=\"data row7 col7\" >0.364</td>\n",
       "                        <td id=\"T_04718d58_2121_11ed_9af6_0242ac110002row7_col8\" class=\"data row7 col8\" >0.080</td>\n",
       "            </tr>\n",
       "            <tr>\n",
       "                        <th id=\"T_04718d58_2121_11ed_9af6_0242ac110002level0_row8\" class=\"row_heading level0 row8\" >knn</th>\n",
       "                        <td id=\"T_04718d58_2121_11ed_9af6_0242ac110002row8_col0\" class=\"data row8 col0\" >K Neighbors Classifier</td>\n",
       "                        <td id=\"T_04718d58_2121_11ed_9af6_0242ac110002row8_col1\" class=\"data row8 col1\" >0.825</td>\n",
       "                        <td id=\"T_04718d58_2121_11ed_9af6_0242ac110002row8_col2\" class=\"data row8 col2\" >0.724</td>\n",
       "                        <td id=\"T_04718d58_2121_11ed_9af6_0242ac110002row8_col3\" class=\"data row8 col3\" >0.235</td>\n",
       "                        <td id=\"T_04718d58_2121_11ed_9af6_0242ac110002row8_col4\" class=\"data row8 col4\" >0.649</td>\n",
       "                        <td id=\"T_04718d58_2121_11ed_9af6_0242ac110002row8_col5\" class=\"data row8 col5\" >0.340</td>\n",
       "                        <td id=\"T_04718d58_2121_11ed_9af6_0242ac110002row8_col6\" class=\"data row8 col6\" >0.265</td>\n",
       "                        <td id=\"T_04718d58_2121_11ed_9af6_0242ac110002row8_col7\" class=\"data row8 col7\" >0.313</td>\n",
       "                        <td id=\"T_04718d58_2121_11ed_9af6_0242ac110002row8_col8\" class=\"data row8 col8\" >0.116</td>\n",
       "            </tr>\n",
       "            <tr>\n",
       "                        <th id=\"T_04718d58_2121_11ed_9af6_0242ac110002level0_row9\" class=\"row_heading level0 row9\" >svm</th>\n",
       "                        <td id=\"T_04718d58_2121_11ed_9af6_0242ac110002row9_col0\" class=\"data row9 col0\" >SVM - Linear Kernel</td>\n",
       "                        <td id=\"T_04718d58_2121_11ed_9af6_0242ac110002row9_col1\" class=\"data row9 col1\" >0.811</td>\n",
       "                        <td id=\"T_04718d58_2121_11ed_9af6_0242ac110002row9_col2\" class=\"data row9 col2\" >0.000</td>\n",
       "                        <td id=\"T_04718d58_2121_11ed_9af6_0242ac110002row9_col3\" class=\"data row9 col3\" >0.336</td>\n",
       "                        <td id=\"T_04718d58_2121_11ed_9af6_0242ac110002row9_col4\" class=\"data row9 col4\" >0.523</td>\n",
       "                        <td id=\"T_04718d58_2121_11ed_9af6_0242ac110002row9_col5\" class=\"data row9 col5\" >0.404</td>\n",
       "                        <td id=\"T_04718d58_2121_11ed_9af6_0242ac110002row9_col6\" class=\"data row9 col6\" >0.301</td>\n",
       "                        <td id=\"T_04718d58_2121_11ed_9af6_0242ac110002row9_col7\" class=\"data row9 col7\" >0.313</td>\n",
       "                        <td id=\"T_04718d58_2121_11ed_9af6_0242ac110002row9_col8\" class=\"data row9 col8\" >0.036</td>\n",
       "            </tr>\n",
       "            <tr>\n",
       "                        <th id=\"T_04718d58_2121_11ed_9af6_0242ac110002level0_row10\" class=\"row_heading level0 row10\" >dummy</th>\n",
       "                        <td id=\"T_04718d58_2121_11ed_9af6_0242ac110002row10_col0\" class=\"data row10 col0\" >Dummy Classifier</td>\n",
       "                        <td id=\"T_04718d58_2121_11ed_9af6_0242ac110002row10_col1\" class=\"data row10 col1\" >0.804</td>\n",
       "                        <td id=\"T_04718d58_2121_11ed_9af6_0242ac110002row10_col2\" class=\"data row10 col2\" >0.500</td>\n",
       "                        <td id=\"T_04718d58_2121_11ed_9af6_0242ac110002row10_col3\" class=\"data row10 col3\" >0.000</td>\n",
       "                        <td id=\"T_04718d58_2121_11ed_9af6_0242ac110002row10_col4\" class=\"data row10 col4\" >0.000</td>\n",
       "                        <td id=\"T_04718d58_2121_11ed_9af6_0242ac110002row10_col5\" class=\"data row10 col5\" >0.000</td>\n",
       "                        <td id=\"T_04718d58_2121_11ed_9af6_0242ac110002row10_col6\" class=\"data row10 col6\" >0.000</td>\n",
       "                        <td id=\"T_04718d58_2121_11ed_9af6_0242ac110002row10_col7\" class=\"data row10 col7\" >0.000</td>\n",
       "                        <td id=\"T_04718d58_2121_11ed_9af6_0242ac110002row10_col8\" class=\"data row10 col8\" >0.014</td>\n",
       "            </tr>\n",
       "            <tr>\n",
       "                        <th id=\"T_04718d58_2121_11ed_9af6_0242ac110002level0_row11\" class=\"row_heading level0 row11\" >dt</th>\n",
       "                        <td id=\"T_04718d58_2121_11ed_9af6_0242ac110002row11_col0\" class=\"data row11 col0\" >Decision Tree Classifier</td>\n",
       "                        <td id=\"T_04718d58_2121_11ed_9af6_0242ac110002row11_col1\" class=\"data row11 col1\" >0.803</td>\n",
       "                        <td id=\"T_04718d58_2121_11ed_9af6_0242ac110002row11_col2\" class=\"data row11 col2\" >0.704</td>\n",
       "                        <td id=\"T_04718d58_2121_11ed_9af6_0242ac110002row11_col3\" class=\"data row11 col3\" >0.541</td>\n",
       "                        <td id=\"T_04718d58_2121_11ed_9af6_0242ac110002row11_col4\" class=\"data row11 col4\" >0.497</td>\n",
       "                        <td id=\"T_04718d58_2121_11ed_9af6_0242ac110002row11_col5\" class=\"data row11 col5\" >0.517</td>\n",
       "                        <td id=\"T_04718d58_2121_11ed_9af6_0242ac110002row11_col6\" class=\"data row11 col6\" >0.394</td>\n",
       "                        <td id=\"T_04718d58_2121_11ed_9af6_0242ac110002row11_col7\" class=\"data row11 col7\" >0.395</td>\n",
       "                        <td id=\"T_04718d58_2121_11ed_9af6_0242ac110002row11_col8\" class=\"data row11 col8\" >0.022</td>\n",
       "            </tr>\n",
       "            <tr>\n",
       "                        <th id=\"T_04718d58_2121_11ed_9af6_0242ac110002level0_row12\" class=\"row_heading level0 row12\" >qda</th>\n",
       "                        <td id=\"T_04718d58_2121_11ed_9af6_0242ac110002row12_col0\" class=\"data row12 col0\" >Quadratic Discriminant Analysis</td>\n",
       "                        <td id=\"T_04718d58_2121_11ed_9af6_0242ac110002row12_col1\" class=\"data row12 col1\" >0.603</td>\n",
       "                        <td id=\"T_04718d58_2121_11ed_9af6_0242ac110002row12_col2\" class=\"data row12 col2\" >0.526</td>\n",
       "                        <td id=\"T_04718d58_2121_11ed_9af6_0242ac110002row12_col3\" class=\"data row12 col3\" >0.398</td>\n",
       "                        <td id=\"T_04718d58_2121_11ed_9af6_0242ac110002row12_col4\" class=\"data row12 col4\" >0.247</td>\n",
       "                        <td id=\"T_04718d58_2121_11ed_9af6_0242ac110002row12_col5\" class=\"data row12 col5\" >0.254</td>\n",
       "                        <td id=\"T_04718d58_2121_11ed_9af6_0242ac110002row12_col6\" class=\"data row12 col6\" >0.046</td>\n",
       "                        <td id=\"T_04718d58_2121_11ed_9af6_0242ac110002row12_col7\" class=\"data row12 col7\" >0.059</td>\n",
       "                        <td id=\"T_04718d58_2121_11ed_9af6_0242ac110002row12_col8\" class=\"data row12 col8\" >0.024</td>\n",
       "            </tr>\n",
       "            <tr>\n",
       "                        <th id=\"T_04718d58_2121_11ed_9af6_0242ac110002level0_row13\" class=\"row_heading level0 row13\" >nb</th>\n",
       "                        <td id=\"T_04718d58_2121_11ed_9af6_0242ac110002row13_col0\" class=\"data row13 col0\" >Naive Bayes</td>\n",
       "                        <td id=\"T_04718d58_2121_11ed_9af6_0242ac110002row13_col1\" class=\"data row13 col1\" >0.350</td>\n",
       "                        <td id=\"T_04718d58_2121_11ed_9af6_0242ac110002row13_col2\" class=\"data row13 col2\" >0.705</td>\n",
       "                        <td id=\"T_04718d58_2121_11ed_9af6_0242ac110002row13_col3\" class=\"data row13 col3\" >0.921</td>\n",
       "                        <td id=\"T_04718d58_2121_11ed_9af6_0242ac110002row13_col4\" class=\"data row13 col4\" >0.222</td>\n",
       "                        <td id=\"T_04718d58_2121_11ed_9af6_0242ac110002row13_col5\" class=\"data row13 col5\" >0.358</td>\n",
       "                        <td id=\"T_04718d58_2121_11ed_9af6_0242ac110002row13_col6\" class=\"data row13 col6\" >0.062</td>\n",
       "                        <td id=\"T_04718d58_2121_11ed_9af6_0242ac110002row13_col7\" class=\"data row13 col7\" >0.133</td>\n",
       "                        <td id=\"T_04718d58_2121_11ed_9af6_0242ac110002row13_col8\" class=\"data row13 col8\" >0.020</td>\n",
       "            </tr>\n",
       "    </tbody></table>"
      ],
      "text/plain": [
       "<pandas.io.formats.style.Styler at 0x7f79c4abf898>"
      ]
     },
     "metadata": {},
     "output_type": "display_data"
    }
   ],
   "source": [
    "auto_ml_result = classification.compare_models(fold=5, round=3, sort='Accuracy', n_select=5)"
   ]
  },
  {
   "cell_type": "code",
   "execution_count": 50,
   "metadata": {},
   "outputs": [
    {
     "data": {
      "text/html": [
       "<div>\n",
       "<style scoped>\n",
       "    .dataframe tbody tr th:only-of-type {\n",
       "        vertical-align: middle;\n",
       "    }\n",
       "\n",
       "    .dataframe tbody tr th {\n",
       "        vertical-align: top;\n",
       "    }\n",
       "\n",
       "    .dataframe thead th {\n",
       "        text-align: right;\n",
       "    }\n",
       "</style>\n",
       "<table border=\"1\" class=\"dataframe\">\n",
       "  <thead>\n",
       "    <tr style=\"text-align: right;\">\n",
       "      <th></th>\n",
       "      <th>id</th>\n",
       "      <th>Age</th>\n",
       "      <th>TypeofContact</th>\n",
       "      <th>CityTier</th>\n",
       "      <th>DurationOfPitch</th>\n",
       "      <th>Occupation</th>\n",
       "      <th>Gender</th>\n",
       "      <th>NumberOfPersonVisiting</th>\n",
       "      <th>NumberOfFollowups</th>\n",
       "      <th>ProductPitched</th>\n",
       "      <th>PreferredPropertyStar</th>\n",
       "      <th>MaritalStatus</th>\n",
       "      <th>NumberOfTrips</th>\n",
       "      <th>Passport</th>\n",
       "      <th>PitchSatisfactionScore</th>\n",
       "      <th>OwnCar</th>\n",
       "      <th>NumberOfChildrenVisiting</th>\n",
       "      <th>Designation</th>\n",
       "      <th>MonthlyIncome</th>\n",
       "    </tr>\n",
       "  </thead>\n",
       "  <tbody>\n",
       "    <tr>\n",
       "      <th>0</th>\n",
       "      <td>1</td>\n",
       "      <td>1</td>\n",
       "      <td>1</td>\n",
       "      <td>3</td>\n",
       "      <td>2</td>\n",
       "      <td>1</td>\n",
       "      <td>0</td>\n",
       "      <td>2</td>\n",
       "      <td>5</td>\n",
       "      <td>1</td>\n",
       "      <td>3</td>\n",
       "      <td>0</td>\n",
       "      <td>1</td>\n",
       "      <td>0</td>\n",
       "      <td>2</td>\n",
       "      <td>0</td>\n",
       "      <td>1</td>\n",
       "      <td>1</td>\n",
       "      <td>0.0</td>\n",
       "    </tr>\n",
       "    <tr>\n",
       "      <th>1</th>\n",
       "      <td>2</td>\n",
       "      <td>3</td>\n",
       "      <td>0</td>\n",
       "      <td>2</td>\n",
       "      <td>1</td>\n",
       "      <td>1</td>\n",
       "      <td>0</td>\n",
       "      <td>3</td>\n",
       "      <td>4</td>\n",
       "      <td>1</td>\n",
       "      <td>4</td>\n",
       "      <td>0</td>\n",
       "      <td>1</td>\n",
       "      <td>1</td>\n",
       "      <td>5</td>\n",
       "      <td>0</td>\n",
       "      <td>1</td>\n",
       "      <td>1</td>\n",
       "      <td>0.0</td>\n",
       "    </tr>\n",
       "    <tr>\n",
       "      <th>2</th>\n",
       "      <td>3</td>\n",
       "      <td>2</td>\n",
       "      <td>0</td>\n",
       "      <td>3</td>\n",
       "      <td>3</td>\n",
       "      <td>1</td>\n",
       "      <td>0</td>\n",
       "      <td>3</td>\n",
       "      <td>4</td>\n",
       "      <td>1</td>\n",
       "      <td>3</td>\n",
       "      <td>0</td>\n",
       "      <td>5</td>\n",
       "      <td>0</td>\n",
       "      <td>5</td>\n",
       "      <td>1</td>\n",
       "      <td>0</td>\n",
       "      <td>1</td>\n",
       "      <td>0.0</td>\n",
       "    </tr>\n",
       "    <tr>\n",
       "      <th>3</th>\n",
       "      <td>4</td>\n",
       "      <td>2</td>\n",
       "      <td>0</td>\n",
       "      <td>1</td>\n",
       "      <td>3</td>\n",
       "      <td>1</td>\n",
       "      <td>0</td>\n",
       "      <td>3</td>\n",
       "      <td>6</td>\n",
       "      <td>1</td>\n",
       "      <td>3</td>\n",
       "      <td>3</td>\n",
       "      <td>6</td>\n",
       "      <td>0</td>\n",
       "      <td>3</td>\n",
       "      <td>1</td>\n",
       "      <td>2</td>\n",
       "      <td>1</td>\n",
       "      <td>0.0</td>\n",
       "    </tr>\n",
       "    <tr>\n",
       "      <th>4</th>\n",
       "      <td>5</td>\n",
       "      <td>0</td>\n",
       "      <td>0</td>\n",
       "      <td>3</td>\n",
       "      <td>0</td>\n",
       "      <td>2</td>\n",
       "      <td>1</td>\n",
       "      <td>4</td>\n",
       "      <td>4</td>\n",
       "      <td>0</td>\n",
       "      <td>4</td>\n",
       "      <td>3</td>\n",
       "      <td>3</td>\n",
       "      <td>1</td>\n",
       "      <td>4</td>\n",
       "      <td>1</td>\n",
       "      <td>3</td>\n",
       "      <td>0</td>\n",
       "      <td>0.0</td>\n",
       "    </tr>\n",
       "  </tbody>\n",
       "</table>\n",
       "</div>"
      ],
      "text/plain": [
       "   id  Age  TypeofContact  CityTier  DurationOfPitch  Occupation  Gender  \\\n",
       "0   1    1              1         3                2           1       0   \n",
       "1   2    3              0         2                1           1       0   \n",
       "2   3    2              0         3                3           1       0   \n",
       "3   4    2              0         1                3           1       0   \n",
       "4   5    0              0         3                0           2       1   \n",
       "\n",
       "   NumberOfPersonVisiting  NumberOfFollowups  ProductPitched  \\\n",
       "0                       2                  5               1   \n",
       "1                       3                  4               1   \n",
       "2                       3                  4               1   \n",
       "3                       3                  6               1   \n",
       "4                       4                  4               0   \n",
       "\n",
       "   PreferredPropertyStar  MaritalStatus  NumberOfTrips  Passport  \\\n",
       "0                      3              0              1         0   \n",
       "1                      4              0              1         1   \n",
       "2                      3              0              5         0   \n",
       "3                      3              3              6         0   \n",
       "4                      4              3              3         1   \n",
       "\n",
       "   PitchSatisfactionScore  OwnCar  NumberOfChildrenVisiting  Designation  \\\n",
       "0                       2       0                         1            1   \n",
       "1                       5       0                         1            1   \n",
       "2                       5       1                         0            1   \n",
       "3                       3       1                         2            1   \n",
       "4                       4       1                         3            0   \n",
       "\n",
       "   MonthlyIncome  \n",
       "0            0.0  \n",
       "1            0.0  \n",
       "2            0.0  \n",
       "3            0.0  \n",
       "4            0.0  "
      ]
     },
     "execution_count": 50,
     "metadata": {},
     "output_type": "execute_result"
    }
   ],
   "source": [
    "test.head()"
   ]
  },
  {
   "cell_type": "code",
   "execution_count": 51,
   "metadata": {},
   "outputs": [],
   "source": [
    "# Data\n",
    "y_train = train[\"ProdTaken\"]\n",
    "x_train = train.drop(\"ProdTaken\", axis=1)\n",
    "test_pred = test.copy()\n",
    "test_pred = test_pred.drop(\"id\", axis=1)"
   ]
  },
  {
   "cell_type": "code",
   "execution_count": 52,
   "metadata": {},
   "outputs": [],
   "source": [
    "# using K-Fold\n",
    "kfold = KFold(n_splits=20, shuffle=True, random_state=42)"
   ]
  },
  {
   "cell_type": "code",
   "execution_count": 53,
   "metadata": {},
   "outputs": [
    {
     "name": "stdout",
     "output_type": "stream",
     "text": [
      "---- Logistic Regression ----\n",
      "[0.78571429 0.86734694 0.79591837 0.7755102  0.81632653 0.87755102\n",
      " 0.83673469 0.8877551  0.90816327 0.81632653 0.81632653 0.7755102\n",
      " 0.80612245 0.81632653 0.85714286 0.84536082 0.79381443 0.89690722\n",
      " 0.87628866 0.82474227]\n",
      "Average logis_k score: 0.833794445613297 \n",
      "\n",
      "---- Support Vector Machine ----\n",
      "[0.79591837 0.85714286 0.7755102  0.78571429 0.81632653 0.89795918\n",
      " 0.80612245 0.82653061 0.89795918 0.81632653 0.84693878 0.75510204\n",
      " 0.85714286 0.79591837 0.87755102 0.82474227 0.79381443 0.90721649\n",
      " 0.88659794 0.79381443]\n",
      "Average svm_k score: 0.8307174416158217 \n",
      "\n",
      "---- K-Nerest Neighbor ----\n",
      "[0.78571429 0.89795918 0.78571429 0.83673469 0.86734694 0.85714286\n",
      " 0.79591837 0.86734694 0.89795918 0.79591837 0.82653061 0.78571429\n",
      " 0.87755102 0.78571429 0.83673469 0.81443299 0.86597938 0.86597938\n",
      " 0.86597938 0.77319588]\n",
      "Average knn_k score: 0.8342783505154638 \n",
      "\n",
      "---- Decision Tree ----\n",
      "[0.79591837 0.8877551  0.87755102 0.79591837 0.81632653 0.84693878\n",
      " 0.85714286 0.82653061 0.89795918 0.78571429 0.90816327 0.82653061\n",
      " 0.85714286 0.83673469 0.85714286 0.86597938 0.84536082 0.91752577\n",
      " 0.87628866 0.80412371]\n",
      "Average tree_k score: 0.8491373869135284 \n",
      "\n",
      "---- Random Forest ----\n",
      "[0.8877551  0.90816327 0.86734694 0.87755102 0.86734694 0.8877551\n",
      " 0.90816327 0.87755102 0.91836735 0.86734694 0.91836735 0.86734694\n",
      " 0.91836735 0.87755102 0.92857143 0.86597938 0.83505155 0.96907216\n",
      " 0.92783505 0.8556701 ]\n",
      "Average forest_k score: 0.8915579633915423 \n",
      "\n",
      "---- Extra Tree Classifier ----\n",
      "[0.8877551  0.93877551 0.8877551  0.84693878 0.8877551  0.90816327\n",
      " 0.93877551 0.8877551  0.92857143 0.87755102 0.92857143 0.87755102\n",
      " 0.90816327 0.91836735 0.91836735 0.89690722 0.86597938 0.94845361\n",
      " 0.91752577 0.86597938]\n",
      "Average et_k score: 0.9017830843677677 \n",
      "\n"
     ]
    }
   ],
   "source": [
    "print(\"---- Logistic Regression ----\")\n",
    "logis_k = LogisticRegression()\n",
    "logis_k_score = cross_val_score(logis_k, x_train, y_train, cv=kfold, n_jobs=1, scoring=\"accuracy\")\n",
    "print(logis_k_score)\n",
    "print(f\"Average logis_k score: {np.mean(logis_k_score)} \\n\")\n",
    "\n",
    "print(\"---- Support Vector Machine ----\")\n",
    "svm_k = SVC()\n",
    "svm_k_score = cross_val_score(svm_k, x_train, y_train, cv=kfold, n_jobs=1, scoring='accuracy')\n",
    "print(svm_k_score)\n",
    "print(f\"Average svm_k score: {np.mean(svm_k_score)} \\n\")\n",
    "\n",
    "print(\"---- K-Nerest Neighbor ----\")\n",
    "knn_k = KNeighborsClassifier(n_neighbors=5)\n",
    "knn_k_score = cross_val_score(knn_k, x_train, y_train, cv=kfold, n_jobs=1, scoring=\"accuracy\")\n",
    "print(knn_k_score)\n",
    "print(f\"Average knn_k score: {np.mean(knn_k_score)} \\n\")\n",
    "\n",
    "print(\"---- Decision Tree ----\")\n",
    "tree_k = DecisionTreeClassifier()\n",
    "tree_k_score = cross_val_score(tree_k, x_train, y_train, cv=kfold, n_jobs=1, scoring=\"accuracy\")\n",
    "print(tree_k_score)\n",
    "print(f\"Average tree_k score: {np.mean(tree_k_score)} \\n\")\n",
    "\n",
    "print(\"---- Random Forest ----\")\n",
    "forest_k = RandomForestClassifier()\n",
    "forest_k_score = cross_val_score(forest_k, x_train, y_train, cv=kfold, n_jobs=1, scoring=\"accuracy\")\n",
    "print(forest_k_score)\n",
    "print(f\"Average forest_k score: {np.mean(forest_k_score)} \\n\")\n",
    "\n",
    "print(\"---- Extra Tree Classifier ----\")\n",
    "et_k = ExtraTreesClassifier()\n",
    "et_k_score = cross_val_score(et_k, x_train, y_train, cv=kfold, n_jobs=1, scoring='accuracy')\n",
    "print(et_k_score)\n",
    "print(f\"Average et_k score: {np.mean(et_k_score)} \\n\")\n",
    "\n",
    "print(\"---- Light GBM ----\")\n",
    "lg_k = lightgbm.LGBMClassifier()\n",
    "lg_k_score = cross_val_score(lg_k, x_train, y_train, cv=kfold, n_jobs=1, scoring='accuracy')\n",
    "print(lg_k_score)\n",
    "print(f\"Average lg_k score: {np.mean(lg_k_score)} \\n\")"
   ]
  },
  {
   "cell_type": "code",
   "execution_count": 54,
   "metadata": {},
   "outputs": [],
   "source": [
    "et_final = ExtraTreesClassifier()\n",
    "et_final.fit(x_train, y_train)\n",
    "y_pred = et_final.predict(test_pred)\n",
    "submission = pd.DataFrame({\"id\" : test[\"id\"], \"ProdTaken\":y_pred})\n",
    "submission.to_csv(\"submission.csv\", index=False)"
   ]
  },
  {
   "cell_type": "code",
   "execution_count": 58,
   "metadata": {},
   "outputs": [
    {
     "name": "stdout",
     "output_type": "stream",
     "text": [
      "[0.85714286 0.92857143 0.85714286 0.86734694 0.87755102 0.89795918\n",
      " 0.92857143 0.8877551  0.92857143 0.84693878 0.92857143 0.83673469\n",
      " 0.8877551  0.8877551  0.92857143 0.88659794 0.86597938 0.92783505\n",
      " 0.93814433 0.83505155]\n",
      "Average ensemble score: 0.8900273511466443 \n",
      "\n"
     ]
    }
   ],
   "source": [
    "ensemble_model = VotingClassifier(estimators=[('Random Forest', RandomForestClassifier()), ('Extra Tree', ExtraTreesClassifier()), ('lightGBM', lightgbm.LGBMClassifier()), ('Decision Tree', DecisionTreeClassifier()), ('Logistic Regression', LogisticRegression())], voting='soft')\n",
    "ensemble_score = cross_val_score(ensemble_model, x_train, y_train, cv=kfold, n_jobs=1, scoring='accuracy')\n",
    "print(ensemble_score)\n",
    "print(f\"Average ensemble score: {np.mean(ensemble_score)} \\n\")"
   ]
  },
  {
   "cell_type": "code",
   "execution_count": 59,
   "metadata": {},
   "outputs": [],
   "source": [
    "ensemble_model_f = VotingClassifier(estimators=[('Random Forest', RandomForestClassifier()), ('Extra Tree', ExtraTreesClassifier()), ('lightGBM', lightgbm.LGBMClassifier()), ('Decision Tree', DecisionTreeClassifier()), ('Logistic Regression', LogisticRegression())], voting='soft')\n",
    "ensemble_model_f.fit(x_train, y_train)\n",
    "y_pred = ensemble_model_f.predict(test_pred)\n",
    "submission = pd.DataFrame({\"id\" : test[\"id\"], \"ProdTaken\":y_pred})\n",
    "submission.to_csv(\"submission_ensemble.csv\", index=False)"
   ]
  }
 ],
 "metadata": {
  "kernelspec": {
   "display_name": "Python 3.6.9 64-bit",
   "language": "python",
   "name": "python3"
  },
  "language_info": {
   "codemirror_mode": {
    "name": "ipython",
    "version": 3
   },
   "file_extension": ".py",
   "mimetype": "text/x-python",
   "name": "python",
   "nbconvert_exporter": "python",
   "pygments_lexer": "ipython3",
   "version": "3.6.9"
  },
  "orig_nbformat": 4,
  "vscode": {
   "interpreter": {
    "hash": "31f2aee4e71d21fbe5cf8b01ff0e069b9275f58929596ceb00d14d90e3e16cd6"
   }
  }
 },
 "nbformat": 4,
 "nbformat_minor": 2
}
